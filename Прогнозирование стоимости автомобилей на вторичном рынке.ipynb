{
  "cells": [
    {
      "cell_type": "markdown",
      "metadata": {},
      "source": [
        "# Описание задачи\n",
        "\n",
        "Многие знакомы с концепцией онлайн-рынков, где предлагаются бывшие в употреблении товары, включая возможность доступного приобретения качественных и полезных предметов. Однако всегда возникает вопрос: как устанавливаются цены на эти товары и какие факторы оказывают наибольшее воздействие на итоговую стоимость продажи? Этот вопрос особенно актуален, если речь идет о дорогих товарах, таких как автомобили.<br>\n",
        "\n",
        "В данном проекте мы работаем с данными о продажах автомобилей на вторичном рынке. Целью вашего проекта является разработка модели для предсказания стоимости автомобилей на вторичном рынке."
      ]
    },
    {
      "cell_type": "markdown",
      "metadata": {},
      "source": [
        "- Date: Год выпуска автомобиля.<br>\n",
        "- Make: Марка автомобиля.<br>\n",
        "- Model: издание автомобиля определенной марки.<br>\n",
        "- Trim: Уровни отделки салона автомобиля — это просто разные версии модели.<br>\n",
        "- Body: Тип кузова транспортного средства относится к форме и модели конкретной марки автомобиля.<br>\n",
        "- Transmission: механизм, который передает мощность от двигателя к колесам.<br>\n",
        "- VIN: идентификационный номер транспортного средства.<br>\n",
        "- State: состояние, в котором автомобиль выставлен на аукцион.<br>\n",
        "- Condition: Состояние автомобилей на момент аукциона.<br>\n",
        "- Odometer: расстояние, пройденное автомобилем с момента выпуска.<br>\n",
        "- Color: Цвет кузова автомобиля.<br>\n",
        "- Interior: Цвет салона автомобиля.<br>\n",
        "- Seller: Продавец автомобиля, автосалоны.<br>\n",
        "- sellingprice: цена, по которой автомобиль был продан на аукционе.<br>\n",
        "- saledate: Дата продажи автомобиля."
      ]
    },
    {
      "cell_type": "markdown",
      "metadata": {},
      "source": [
        "## 1. Предобработка и анализ данных"
      ]
    },
    {
      "cell_type": "markdown",
      "metadata": {},
      "source": [
        "Начнем работу с того, что загрузим необходимые для работы библиотеки и дополнения. Выгрузим файлы с данными в отдельные переменные.<br>\n",
        "- data_train - набор данных на которых будет обучаться модель<br>\n",
        "- data_test - набор данных, для которых модель будет делать предсказания"
      ]
    },
    {
      "cell_type": "code",
      "execution_count": 1,
      "metadata": {},
      "outputs": [
        {
          "name": "stdout",
          "output_type": "stream",
          "text": [
            "Defaulting to user installation because normal site-packages is not writeable\n",
            "Requirement already satisfied: vininfo in c:\\users\\анастасия\\appdata\\roaming\\python\\python39\\site-packages (1.7.0)\n",
            "Defaulting to user installation because normal site-packages is not writeable\n",
            "Requirement already satisfied: fuzzywuzzy in c:\\users\\анастасия\\appdata\\roaming\\python\\python39\\site-packages (0.18.0)\n",
            "Defaulting to user installation because normal site-packages is not writeable\n",
            "Requirement already satisfied: lightgbm in c:\\users\\анастасия\\appdata\\roaming\\python\\python39\\site-packages (4.0.0)\n",
            "Requirement already satisfied: scipy in c:\\program files\\adobe\\anaconda\\lib\\site-packages (from lightgbm) (1.9.1)\n",
            "Requirement already satisfied: numpy in c:\\program files\\adobe\\anaconda\\lib\\site-packages (from lightgbm) (1.21.5)\n",
            "Defaulting to user installation because normal site-packages is not writeable\n",
            "Requirement already satisfied: optuna in c:\\users\\анастасия\\appdata\\roaming\\python\\python39\\site-packages (3.3.0)\n",
            "Requirement already satisfied: cmaes>=0.10.0 in c:\\users\\анастасия\\appdata\\roaming\\python\\python39\\site-packages (from optuna) (0.10.0)\n",
            "Requirement already satisfied: numpy in c:\\program files\\adobe\\anaconda\\lib\\site-packages (from optuna) (1.21.5)\n",
            "Requirement already satisfied: packaging>=20.0 in c:\\program files\\adobe\\anaconda\\lib\\site-packages (from optuna) (21.3)\n",
            "Requirement already satisfied: PyYAML in c:\\program files\\adobe\\anaconda\\lib\\site-packages (from optuna) (6.0)\n",
            "Requirement already satisfied: sqlalchemy>=1.3.0 in c:\\program files\\adobe\\anaconda\\lib\\site-packages (from optuna) (1.4.39)\n",
            "Requirement already satisfied: alembic>=1.5.0 in c:\\users\\анастасия\\appdata\\roaming\\python\\python39\\site-packages (from optuna) (1.12.0)\n",
            "Requirement already satisfied: tqdm in c:\\program files\\adobe\\anaconda\\lib\\site-packages (from optuna) (4.64.1)\n",
            "Requirement already satisfied: colorlog in c:\\users\\анастасия\\appdata\\roaming\\python\\python39\\site-packages (from optuna) (6.7.0)\n",
            "Requirement already satisfied: typing-extensions>=4 in c:\\program files\\adobe\\anaconda\\lib\\site-packages (from alembic>=1.5.0->optuna) (4.3.0)\n",
            "Requirement already satisfied: Mako in c:\\users\\анастасия\\appdata\\roaming\\python\\python39\\site-packages (from alembic>=1.5.0->optuna) (1.2.4)\n",
            "Requirement already satisfied: pyparsing!=3.0.5,>=2.0.2 in c:\\program files\\adobe\\anaconda\\lib\\site-packages (from packaging>=20.0->optuna) (3.0.9)\n",
            "Requirement already satisfied: greenlet!=0.4.17 in c:\\program files\\adobe\\anaconda\\lib\\site-packages (from sqlalchemy>=1.3.0->optuna) (1.1.1)\n",
            "Requirement already satisfied: colorama in c:\\program files\\adobe\\anaconda\\lib\\site-packages (from colorlog->optuna) (0.4.5)\n",
            "Requirement already satisfied: MarkupSafe>=0.9.2 in c:\\program files\\adobe\\anaconda\\lib\\site-packages (from Mako->alembic>=1.5.0->optuna) (2.0.1)\n",
            "Defaulting to user installation because normal site-packages is not writeable\n",
            "Requirement already satisfied: catboost in c:\\users\\анастасия\\appdata\\roaming\\python\\python39\\site-packages (1.2.1)\n",
            "Requirement already satisfied: matplotlib in c:\\program files\\adobe\\anaconda\\lib\\site-packages (from catboost) (3.5.2)\n",
            "Requirement already satisfied: pandas>=0.24 in c:\\program files\\adobe\\anaconda\\lib\\site-packages (from catboost) (1.4.4)\n",
            "Requirement already satisfied: six in c:\\program files\\adobe\\anaconda\\lib\\site-packages (from catboost) (1.16.0)\n",
            "Requirement already satisfied: numpy>=1.16.0 in c:\\program files\\adobe\\anaconda\\lib\\site-packages (from catboost) (1.21.5)\n",
            "Requirement already satisfied: plotly in c:\\program files\\adobe\\anaconda\\lib\\site-packages (from catboost) (5.9.0)\n",
            "Requirement already satisfied: scipy in c:\\program files\\adobe\\anaconda\\lib\\site-packages (from catboost) (1.9.1)\n",
            "Requirement already satisfied: graphviz in c:\\users\\анастасия\\appdata\\roaming\\python\\python39\\site-packages (from catboost) (0.20.1)\n",
            "Requirement already satisfied: pytz>=2020.1 in c:\\program files\\adobe\\anaconda\\lib\\site-packages (from pandas>=0.24->catboost) (2022.1)\n",
            "Requirement already satisfied: python-dateutil>=2.8.1 in c:\\program files\\adobe\\anaconda\\lib\\site-packages (from pandas>=0.24->catboost) (2.8.2)\n",
            "Requirement already satisfied: packaging>=20.0 in c:\\program files\\adobe\\anaconda\\lib\\site-packages (from matplotlib->catboost) (21.3)\n",
            "Requirement already satisfied: fonttools>=4.22.0 in c:\\program files\\adobe\\anaconda\\lib\\site-packages (from matplotlib->catboost) (4.25.0)\n",
            "Requirement already satisfied: cycler>=0.10 in c:\\program files\\adobe\\anaconda\\lib\\site-packages (from matplotlib->catboost) (0.11.0)\n",
            "Requirement already satisfied: pyparsing>=2.2.1 in c:\\program files\\adobe\\anaconda\\lib\\site-packages (from matplotlib->catboost) (3.0.9)\n",
            "Requirement already satisfied: kiwisolver>=1.0.1 in c:\\program files\\adobe\\anaconda\\lib\\site-packages (from matplotlib->catboost) (1.4.2)\n",
            "Requirement already satisfied: pillow>=6.2.0 in c:\\program files\\adobe\\anaconda\\lib\\site-packages (from matplotlib->catboost) (9.2.0)\n",
            "Requirement already satisfied: tenacity>=6.2.0 in c:\\program files\\adobe\\anaconda\\lib\\site-packages (from plotly->catboost) (8.0.1)\n"
          ]
        }
      ],
      "source": [
        "!pip install vininfo\n",
        "!pip install fuzzywuzzy\n",
        "!pip install lightgbm\n",
        "!pip install optuna\n",
        "!pip install catboost"
      ]
    },
    {
      "cell_type": "code",
      "execution_count": 2,
      "metadata": {
        "id": "KKlmtl4MpEOz"
      },
      "outputs": [
        {
          "name": "stderr",
          "output_type": "stream",
          "text": [
            "C:\\Users\\Анастасия\\AppData\\Roaming\\Python\\Python39\\site-packages\\fuzzywuzzy\\fuzz.py:11: UserWarning: Using slow pure-python SequenceMatcher. Install python-Levenshtein to remove this warning\n",
            "  warnings.warn('Using slow pure-python SequenceMatcher. Install python-Levenshtein to remove this warning')\n"
          ]
        }
      ],
      "source": [
        "import pandas as pd\n",
        "import numpy as np\n",
        "from fuzzywuzzy import fuzz, process\n",
        "from vininfo import Vin\n",
        "import re\n",
        "from sklearn.preprocessing import LabelEncoder\n",
        "import optuna\n",
        "from sklearn.ensemble import RandomForestRegressor\n",
        "from sklearn.model_selection import cross_val_predict\n",
        "from sklearn.metrics import mean_absolute_percentage_error\n",
        "from catboost import CatBoostRegressor\n",
        "import lightgbm as lgb\n",
        "import matplotlib.pyplot as plt\n",
        "import seaborn as sns\n",
        "import warnings\n",
        "warnings.filterwarnings(\"ignore\", category=RuntimeWarning)"
      ]
    },
    {
      "cell_type": "code",
      "execution_count": 3,
      "metadata": {
        "id": "hsYrC20oyuGe"
      },
      "outputs": [],
      "source": [
        "data_test = pd.read_csv(\"C:\\\\Users\\\\Анастасия\\\\Desktop\\\\test.csv\")\n",
        "data_train = pd.read_csv(\"C:\\\\Users\\\\Анастасия\\\\Desktop\\\\train.csv\")"
      ]
    },
    {
      "cell_type": "markdown",
      "metadata": {},
      "source": [
        "Выведем на экран несколько строчек датасетов и основную информацию о них"
      ]
    },
    {
      "cell_type": "code",
      "execution_count": 4,
      "metadata": {
        "colab": {
          "base_uri": "https://localhost:8080/",
          "height": 1000
        },
        "id": "MmFSZ8G9zuZK",
        "outputId": "813af753-1639-4255-ed43-c3f15ca42537"
      },
      "outputs": [
        {
          "data": {
            "text/html": [
              "<div>\n",
              "<style scoped>\n",
              "    .dataframe tbody tr th:only-of-type {\n",
              "        vertical-align: middle;\n",
              "    }\n",
              "\n",
              "    .dataframe tbody tr th {\n",
              "        vertical-align: top;\n",
              "    }\n",
              "\n",
              "    .dataframe thead th {\n",
              "        text-align: right;\n",
              "    }\n",
              "</style>\n",
              "<table border=\"1\" class=\"dataframe\">\n",
              "  <thead>\n",
              "    <tr style=\"text-align: right;\">\n",
              "      <th></th>\n",
              "      <th>year</th>\n",
              "      <th>make</th>\n",
              "      <th>model</th>\n",
              "      <th>trim</th>\n",
              "      <th>body</th>\n",
              "      <th>transmission</th>\n",
              "      <th>vin</th>\n",
              "      <th>state</th>\n",
              "      <th>condition</th>\n",
              "      <th>odometer</th>\n",
              "      <th>color</th>\n",
              "      <th>interior</th>\n",
              "      <th>seller</th>\n",
              "      <th>sellingprice</th>\n",
              "      <th>saledate</th>\n",
              "    </tr>\n",
              "  </thead>\n",
              "  <tbody>\n",
              "    <tr>\n",
              "      <th>0</th>\n",
              "      <td>2011</td>\n",
              "      <td>Ford</td>\n",
              "      <td>Edge</td>\n",
              "      <td>SEL</td>\n",
              "      <td>suv</td>\n",
              "      <td>automatic</td>\n",
              "      <td>2fmdk3jc4bba41556</td>\n",
              "      <td>md</td>\n",
              "      <td>4.2</td>\n",
              "      <td>111041.0</td>\n",
              "      <td>black</td>\n",
              "      <td>black</td>\n",
              "      <td>santander consumer</td>\n",
              "      <td>12500</td>\n",
              "      <td>Tue Jun 02 2015 02:30:00 GMT-0700 (PDT)</td>\n",
              "    </tr>\n",
              "    <tr>\n",
              "      <th>1</th>\n",
              "      <td>2014</td>\n",
              "      <td>Ford</td>\n",
              "      <td>Fusion</td>\n",
              "      <td>SE</td>\n",
              "      <td>Sedan</td>\n",
              "      <td>automatic</td>\n",
              "      <td>3fa6p0h75er208976</td>\n",
              "      <td>mo</td>\n",
              "      <td>3.5</td>\n",
              "      <td>31034.0</td>\n",
              "      <td>black</td>\n",
              "      <td>black</td>\n",
              "      <td>ars/avis budget group</td>\n",
              "      <td>14500</td>\n",
              "      <td>Wed Feb 25 2015 02:00:00 GMT-0800 (PST)</td>\n",
              "    </tr>\n",
              "    <tr>\n",
              "      <th>2</th>\n",
              "      <td>2012</td>\n",
              "      <td>Nissan</td>\n",
              "      <td>Sentra</td>\n",
              "      <td>2.0 SL</td>\n",
              "      <td>sedan</td>\n",
              "      <td>automatic</td>\n",
              "      <td>3n1ab6ap4cl698412</td>\n",
              "      <td>nj</td>\n",
              "      <td>2.2</td>\n",
              "      <td>35619.0</td>\n",
              "      <td>black</td>\n",
              "      <td>black</td>\n",
              "      <td>nissan-infiniti lt</td>\n",
              "      <td>9100</td>\n",
              "      <td>Wed Jun 10 2015 02:30:00 GMT-0700 (PDT)</td>\n",
              "    </tr>\n",
              "    <tr>\n",
              "      <th>3</th>\n",
              "      <td>2003</td>\n",
              "      <td>HUMMER</td>\n",
              "      <td>H2</td>\n",
              "      <td>Base</td>\n",
              "      <td>suv</td>\n",
              "      <td>automatic</td>\n",
              "      <td>5grgn23u93h101360</td>\n",
              "      <td>tx</td>\n",
              "      <td>2.8</td>\n",
              "      <td>131301.0</td>\n",
              "      <td>gold</td>\n",
              "      <td>beige</td>\n",
              "      <td>wichita falls ford lin inc</td>\n",
              "      <td>13300</td>\n",
              "      <td>Wed Jun 17 2015 03:00:00 GMT-0700 (PDT)</td>\n",
              "    </tr>\n",
              "    <tr>\n",
              "      <th>4</th>\n",
              "      <td>2007</td>\n",
              "      <td>Ford</td>\n",
              "      <td>Fusion</td>\n",
              "      <td>SEL</td>\n",
              "      <td>Sedan</td>\n",
              "      <td>automatic</td>\n",
              "      <td>3fahp08z17r268380</td>\n",
              "      <td>md</td>\n",
              "      <td>2.0</td>\n",
              "      <td>127709.0</td>\n",
              "      <td>black</td>\n",
              "      <td>black</td>\n",
              "      <td>purple heart</td>\n",
              "      <td>1300</td>\n",
              "      <td>Tue Feb 03 2015 04:00:00 GMT-0800 (PST)</td>\n",
              "    </tr>\n",
              "  </tbody>\n",
              "</table>\n",
              "</div>"
            ],
            "text/plain": [
              "   year    make   model    trim   body transmission                vin state  \\\n",
              "0  2011    Ford    Edge     SEL    suv    automatic  2fmdk3jc4bba41556    md   \n",
              "1  2014    Ford  Fusion      SE  Sedan    automatic  3fa6p0h75er208976    mo   \n",
              "2  2012  Nissan  Sentra  2.0 SL  sedan    automatic  3n1ab6ap4cl698412    nj   \n",
              "3  2003  HUMMER      H2    Base    suv    automatic  5grgn23u93h101360    tx   \n",
              "4  2007    Ford  Fusion     SEL  Sedan    automatic  3fahp08z17r268380    md   \n",
              "\n",
              "   condition  odometer  color interior                      seller  \\\n",
              "0        4.2  111041.0  black    black          santander consumer   \n",
              "1        3.5   31034.0  black    black       ars/avis budget group   \n",
              "2        2.2   35619.0  black    black          nissan-infiniti lt   \n",
              "3        2.8  131301.0   gold    beige  wichita falls ford lin inc   \n",
              "4        2.0  127709.0  black    black                purple heart   \n",
              "\n",
              "   sellingprice                                 saledate  \n",
              "0         12500  Tue Jun 02 2015 02:30:00 GMT-0700 (PDT)  \n",
              "1         14500  Wed Feb 25 2015 02:00:00 GMT-0800 (PST)  \n",
              "2          9100  Wed Jun 10 2015 02:30:00 GMT-0700 (PDT)  \n",
              "3         13300  Wed Jun 17 2015 03:00:00 GMT-0700 (PDT)  \n",
              "4          1300  Tue Feb 03 2015 04:00:00 GMT-0800 (PST)  "
            ]
          },
          "metadata": {},
          "output_type": "display_data"
        },
        {
          "name": "stdout",
          "output_type": "stream",
          "text": [
            "<class 'pandas.core.frame.DataFrame'>\n",
            "RangeIndex: 440236 entries, 0 to 440235\n",
            "Data columns (total 15 columns):\n",
            " #   Column        Non-Null Count   Dtype  \n",
            "---  ------        --------------   -----  \n",
            " 0   year          440236 non-null  int64  \n",
            " 1   make          432193 non-null  object \n",
            " 2   model         432113 non-null  object \n",
            " 3   trim          431899 non-null  object \n",
            " 4   body          429843 non-null  object \n",
            " 5   transmission  388775 non-null  object \n",
            " 6   vin           440236 non-null  object \n",
            " 7   state         440236 non-null  object \n",
            " 8   condition     430831 non-null  float64\n",
            " 9   odometer      440167 non-null  float64\n",
            " 10  color         439650 non-null  object \n",
            " 11  interior      439650 non-null  object \n",
            " 12  seller        440236 non-null  object \n",
            " 13  sellingprice  440236 non-null  int64  \n",
            " 14  saledate      440236 non-null  object \n",
            "dtypes: float64(2), int64(2), object(11)\n",
            "memory usage: 50.4+ MB\n"
          ]
        }
      ],
      "source": [
        "display(data_train.head())\n",
        "data_train.info()"
      ]
    },
    {
      "cell_type": "code",
      "execution_count": 5,
      "metadata": {
        "colab": {
          "base_uri": "https://localhost:8080/",
          "height": 1000
        },
        "id": "FoiIysFM0Ibs",
        "outputId": "df23f17d-8b46-4c93-fa90-f24199676636"
      },
      "outputs": [
        {
          "data": {
            "text/html": [
              "<div>\n",
              "<style scoped>\n",
              "    .dataframe tbody tr th:only-of-type {\n",
              "        vertical-align: middle;\n",
              "    }\n",
              "\n",
              "    .dataframe tbody tr th {\n",
              "        vertical-align: top;\n",
              "    }\n",
              "\n",
              "    .dataframe thead th {\n",
              "        text-align: right;\n",
              "    }\n",
              "</style>\n",
              "<table border=\"1\" class=\"dataframe\">\n",
              "  <thead>\n",
              "    <tr style=\"text-align: right;\">\n",
              "      <th></th>\n",
              "      <th>year</th>\n",
              "      <th>make</th>\n",
              "      <th>model</th>\n",
              "      <th>trim</th>\n",
              "      <th>body</th>\n",
              "      <th>transmission</th>\n",
              "      <th>vin</th>\n",
              "      <th>state</th>\n",
              "      <th>condition</th>\n",
              "      <th>odometer</th>\n",
              "      <th>color</th>\n",
              "      <th>interior</th>\n",
              "      <th>seller</th>\n",
              "      <th>saledate</th>\n",
              "    </tr>\n",
              "  </thead>\n",
              "  <tbody>\n",
              "    <tr>\n",
              "      <th>0</th>\n",
              "      <td>2005</td>\n",
              "      <td>Cadillac</td>\n",
              "      <td>CTS</td>\n",
              "      <td>Base</td>\n",
              "      <td>Sedan</td>\n",
              "      <td>automatic</td>\n",
              "      <td>1g6dp567450124779</td>\n",
              "      <td>ca</td>\n",
              "      <td>2.7</td>\n",
              "      <td>116970.0</td>\n",
              "      <td>silver</td>\n",
              "      <td>black</td>\n",
              "      <td>lexus of stevens creek</td>\n",
              "      <td>Wed Jan 14 2015 04:30:00 GMT-0800 (PST)</td>\n",
              "    </tr>\n",
              "    <tr>\n",
              "      <th>1</th>\n",
              "      <td>2014</td>\n",
              "      <td>GMC</td>\n",
              "      <td>Savana Cargo</td>\n",
              "      <td>2500</td>\n",
              "      <td>Van</td>\n",
              "      <td>NaN</td>\n",
              "      <td>1gtw7fca7e1902207</td>\n",
              "      <td>pa</td>\n",
              "      <td>4.4</td>\n",
              "      <td>6286.0</td>\n",
              "      <td>white</td>\n",
              "      <td>gray</td>\n",
              "      <td>u-haul</td>\n",
              "      <td>Fri Feb 27 2015 01:00:00 GMT-0800 (PST)</td>\n",
              "    </tr>\n",
              "    <tr>\n",
              "      <th>2</th>\n",
              "      <td>2013</td>\n",
              "      <td>Nissan</td>\n",
              "      <td>Murano</td>\n",
              "      <td>S</td>\n",
              "      <td>SUV</td>\n",
              "      <td>automatic</td>\n",
              "      <td>jn8az1mw6dw303497</td>\n",
              "      <td>oh</td>\n",
              "      <td>4.6</td>\n",
              "      <td>11831.0</td>\n",
              "      <td>gray</td>\n",
              "      <td>black</td>\n",
              "      <td>nissan-infiniti lt</td>\n",
              "      <td>Tue Feb 24 2015 01:30:00 GMT-0800 (PST)</td>\n",
              "    </tr>\n",
              "    <tr>\n",
              "      <th>3</th>\n",
              "      <td>2013</td>\n",
              "      <td>Chevrolet</td>\n",
              "      <td>Impala</td>\n",
              "      <td>LS Fleet</td>\n",
              "      <td>Sedan</td>\n",
              "      <td>automatic</td>\n",
              "      <td>2g1wf5e34d1160703</td>\n",
              "      <td>fl</td>\n",
              "      <td>2.3</td>\n",
              "      <td>57105.0</td>\n",
              "      <td>silver</td>\n",
              "      <td>black</td>\n",
              "      <td>onemain rem/auto club of miami inc dba north dad</td>\n",
              "      <td>Fri Mar 06 2015 02:00:00 GMT-0800 (PST)</td>\n",
              "    </tr>\n",
              "    <tr>\n",
              "      <th>4</th>\n",
              "      <td>2013</td>\n",
              "      <td>Nissan</td>\n",
              "      <td>Titan</td>\n",
              "      <td>SV</td>\n",
              "      <td>Crew Cab</td>\n",
              "      <td>automatic</td>\n",
              "      <td>1n6aa0ec3dn301209</td>\n",
              "      <td>tn</td>\n",
              "      <td>2.9</td>\n",
              "      <td>31083.0</td>\n",
              "      <td>black</td>\n",
              "      <td>black</td>\n",
              "      <td>nissan north america inc.</td>\n",
              "      <td>Wed Jun 03 2015 03:30:00 GMT-0700 (PDT)</td>\n",
              "    </tr>\n",
              "    <tr>\n",
              "      <th>...</th>\n",
              "      <td>...</td>\n",
              "      <td>...</td>\n",
              "      <td>...</td>\n",
              "      <td>...</td>\n",
              "      <td>...</td>\n",
              "      <td>...</td>\n",
              "      <td>...</td>\n",
              "      <td>...</td>\n",
              "      <td>...</td>\n",
              "      <td>...</td>\n",
              "      <td>...</td>\n",
              "      <td>...</td>\n",
              "      <td>...</td>\n",
              "      <td>...</td>\n",
              "    </tr>\n",
              "    <tr>\n",
              "      <th>110053</th>\n",
              "      <td>2011</td>\n",
              "      <td>Jeep</td>\n",
              "      <td>Wrangler</td>\n",
              "      <td>Sport</td>\n",
              "      <td>SUV</td>\n",
              "      <td>automatic</td>\n",
              "      <td>1j4aa2d17bl584330</td>\n",
              "      <td>ca</td>\n",
              "      <td>3.8</td>\n",
              "      <td>66085.0</td>\n",
              "      <td>orange</td>\n",
              "      <td>black</td>\n",
              "      <td>dtg operations inc</td>\n",
              "      <td>Thu Jan 15 2015 03:30:00 GMT-0800 (PST)</td>\n",
              "    </tr>\n",
              "    <tr>\n",
              "      <th>110054</th>\n",
              "      <td>2014</td>\n",
              "      <td>Lexus</td>\n",
              "      <td>IS 250</td>\n",
              "      <td>Base</td>\n",
              "      <td>sedan</td>\n",
              "      <td>automatic</td>\n",
              "      <td>jthbf1d23e5007526</td>\n",
              "      <td>fl</td>\n",
              "      <td>4.8</td>\n",
              "      <td>17588.0</td>\n",
              "      <td>gray</td>\n",
              "      <td>black</td>\n",
              "      <td>lexus financial services</td>\n",
              "      <td>Mon Jun 15 2015 11:00:00 GMT-0700 (PDT)</td>\n",
              "    </tr>\n",
              "    <tr>\n",
              "      <th>110055</th>\n",
              "      <td>2004</td>\n",
              "      <td>Nissan</td>\n",
              "      <td>Maxima</td>\n",
              "      <td>3.5 SL</td>\n",
              "      <td>Sedan</td>\n",
              "      <td>automatic</td>\n",
              "      <td>1n4ba41e54c831950</td>\n",
              "      <td>va</td>\n",
              "      <td>2.9</td>\n",
              "      <td>124036.0</td>\n",
              "      <td>silver</td>\n",
              "      <td>gray</td>\n",
              "      <td>shirlie slack mitsubishi</td>\n",
              "      <td>Thu Feb 05 2015 01:35:00 GMT-0800 (PST)</td>\n",
              "    </tr>\n",
              "    <tr>\n",
              "      <th>110056</th>\n",
              "      <td>2013</td>\n",
              "      <td>Nissan</td>\n",
              "      <td>370Z</td>\n",
              "      <td>Base</td>\n",
              "      <td>coupe</td>\n",
              "      <td>manual</td>\n",
              "      <td>jn1az4eh3dm382431</td>\n",
              "      <td>tx</td>\n",
              "      <td>2.2</td>\n",
              "      <td>27169.0</td>\n",
              "      <td>—</td>\n",
              "      <td>black</td>\n",
              "      <td>nissan motor acceptance corporation</td>\n",
              "      <td>Wed Jun 17 2015 03:30:00 GMT-0700 (PDT)</td>\n",
              "    </tr>\n",
              "    <tr>\n",
              "      <th>110057</th>\n",
              "      <td>2012</td>\n",
              "      <td>Chevrolet</td>\n",
              "      <td>Camaro</td>\n",
              "      <td>LS</td>\n",
              "      <td>Coupe</td>\n",
              "      <td>NaN</td>\n",
              "      <td>2g1fa1e32c9193058</td>\n",
              "      <td>pa</td>\n",
              "      <td>3.7</td>\n",
              "      <td>40399.0</td>\n",
              "      <td>blue</td>\n",
              "      <td>black</td>\n",
              "      <td>ingersoll auto of danbury</td>\n",
              "      <td>Fri Jan 09 2015 09:00:00 GMT-0800 (PST)</td>\n",
              "    </tr>\n",
              "  </tbody>\n",
              "</table>\n",
              "<p>110058 rows × 14 columns</p>\n",
              "</div>"
            ],
            "text/plain": [
              "        year       make         model      trim      body transmission  \\\n",
              "0       2005   Cadillac           CTS      Base     Sedan    automatic   \n",
              "1       2014        GMC  Savana Cargo      2500       Van          NaN   \n",
              "2       2013     Nissan        Murano         S       SUV    automatic   \n",
              "3       2013  Chevrolet        Impala  LS Fleet     Sedan    automatic   \n",
              "4       2013     Nissan         Titan        SV  Crew Cab    automatic   \n",
              "...      ...        ...           ...       ...       ...          ...   \n",
              "110053  2011       Jeep      Wrangler     Sport       SUV    automatic   \n",
              "110054  2014      Lexus        IS 250      Base     sedan    automatic   \n",
              "110055  2004     Nissan        Maxima    3.5 SL     Sedan    automatic   \n",
              "110056  2013     Nissan          370Z      Base     coupe       manual   \n",
              "110057  2012  Chevrolet        Camaro        LS     Coupe          NaN   \n",
              "\n",
              "                      vin state  condition  odometer   color interior  \\\n",
              "0       1g6dp567450124779    ca        2.7  116970.0  silver    black   \n",
              "1       1gtw7fca7e1902207    pa        4.4    6286.0   white     gray   \n",
              "2       jn8az1mw6dw303497    oh        4.6   11831.0    gray    black   \n",
              "3       2g1wf5e34d1160703    fl        2.3   57105.0  silver    black   \n",
              "4       1n6aa0ec3dn301209    tn        2.9   31083.0   black    black   \n",
              "...                   ...   ...        ...       ...     ...      ...   \n",
              "110053  1j4aa2d17bl584330    ca        3.8   66085.0  orange    black   \n",
              "110054  jthbf1d23e5007526    fl        4.8   17588.0    gray    black   \n",
              "110055  1n4ba41e54c831950    va        2.9  124036.0  silver     gray   \n",
              "110056  jn1az4eh3dm382431    tx        2.2   27169.0       —    black   \n",
              "110057  2g1fa1e32c9193058    pa        3.7   40399.0    blue    black   \n",
              "\n",
              "                                                  seller  \\\n",
              "0                                 lexus of stevens creek   \n",
              "1                                                 u-haul   \n",
              "2                                     nissan-infiniti lt   \n",
              "3       onemain rem/auto club of miami inc dba north dad   \n",
              "4                              nissan north america inc.   \n",
              "...                                                  ...   \n",
              "110053                                dtg operations inc   \n",
              "110054                          lexus financial services   \n",
              "110055                          shirlie slack mitsubishi   \n",
              "110056               nissan motor acceptance corporation   \n",
              "110057                         ingersoll auto of danbury   \n",
              "\n",
              "                                       saledate  \n",
              "0       Wed Jan 14 2015 04:30:00 GMT-0800 (PST)  \n",
              "1       Fri Feb 27 2015 01:00:00 GMT-0800 (PST)  \n",
              "2       Tue Feb 24 2015 01:30:00 GMT-0800 (PST)  \n",
              "3       Fri Mar 06 2015 02:00:00 GMT-0800 (PST)  \n",
              "4       Wed Jun 03 2015 03:30:00 GMT-0700 (PDT)  \n",
              "...                                         ...  \n",
              "110053  Thu Jan 15 2015 03:30:00 GMT-0800 (PST)  \n",
              "110054  Mon Jun 15 2015 11:00:00 GMT-0700 (PDT)  \n",
              "110055  Thu Feb 05 2015 01:35:00 GMT-0800 (PST)  \n",
              "110056  Wed Jun 17 2015 03:30:00 GMT-0700 (PDT)  \n",
              "110057  Fri Jan 09 2015 09:00:00 GMT-0800 (PST)  \n",
              "\n",
              "[110058 rows x 14 columns]"
            ]
          },
          "metadata": {},
          "output_type": "display_data"
        },
        {
          "name": "stdout",
          "output_type": "stream",
          "text": [
            "<class 'pandas.core.frame.DataFrame'>\n",
            "RangeIndex: 110058 entries, 0 to 110057\n",
            "Data columns (total 14 columns):\n",
            " #   Column        Non-Null Count   Dtype  \n",
            "---  ------        --------------   -----  \n",
            " 0   year          110058 non-null  int64  \n",
            " 1   make          107997 non-null  object \n",
            " 2   model         107979 non-null  object \n",
            " 3   trim          107944 non-null  object \n",
            " 4   body          107464 non-null  object \n",
            " 5   transmission  97047 non-null   object \n",
            " 6   vin           110058 non-null  object \n",
            " 7   state         110058 non-null  object \n",
            " 8   condition     107679 non-null  float64\n",
            " 9   odometer      110039 non-null  float64\n",
            " 10  color         109900 non-null  object \n",
            " 11  interior      109900 non-null  object \n",
            " 12  seller        110058 non-null  object \n",
            " 13  saledate      110058 non-null  object \n",
            "dtypes: float64(2), int64(1), object(11)\n",
            "memory usage: 11.8+ MB\n"
          ]
        }
      ],
      "source": [
        "display(data_test)\n",
        "data_test.info()"
      ]
    },
    {
      "cell_type": "markdown",
      "metadata": {},
      "source": [
        "Первое, что бросается в глаза это регистр написания отдельных обьектов. \"Coupe\" и \"coupe\" будут восприняты моделью как два разных вида типа кузова, поэтому, чтобы небыло путаницы, приведем все данные обоих датасетов к нижнему регистру."
      ]
    },
    {
      "cell_type": "code",
      "execution_count": 6,
      "metadata": {
        "id": "dVv5Q7cHE09f"
      },
      "outputs": [],
      "source": [
        "data_train = data_train.applymap(lambda x:x.lower() if isinstance(x,str) else x)\n",
        "data_test = data_test.applymap(lambda x:x.lower() if isinstance(x,str) else x)"
      ]
    },
    {
      "cell_type": "markdown",
      "metadata": {},
      "source": [
        "Также можно заметить пропуски в данных. Начем с заполнения пропусков в производителях. Для этого нам потребуется библиотека vininfo, посредством которой из vin-кода автомобиля можно узнать информацию о нем. Заполним пропуски по столбцу \"make@ таким образом в train и test выборках."
      ]
    },
    {
      "cell_type": "code",
      "execution_count": 7,
      "metadata": {
        "id": "MnrMbtstUIEv"
      },
      "outputs": [],
      "source": [
        "def fill_missings (row):\n",
        "  vin = Vin(row['vin'])\n",
        "  row['make'] = vin.manufacturer\n",
        "  return row"
      ]
    },
    {
      "cell_type": "code",
      "execution_count": 8,
      "metadata": {
        "id": "0Q524YUBZSw4"
      },
      "outputs": [],
      "source": [
        "data_train[data_train['make'].isnull()] = data_train[data_train['make'].isnull()] .apply(lambda row:fill_missings(row), axis = 1)\n",
        "data_test[data_test['make'].isnull()] = data_test[data_test['make'].isnull()] .apply(lambda row:fill_missings(row), axis = 1)"
      ]
    },
    {
      "cell_type": "markdown",
      "metadata": {},
      "source": [
        "Пропуски в моделях автомобиля заполним заглушкой Unknown. Это может ухудшить качество предсказаний, но научит модель работать с неполными данными."
      ]
    },
    {
      "cell_type": "code",
      "execution_count": 9,
      "metadata": {
        "id": "5MCYPgmKpTzv"
      },
      "outputs": [],
      "source": [
        "data_train['model'] = data_train['model'].fillna('Unknown')\n",
        "data_test['model'] = data_test['model'].fillna('Unknown')"
      ]
    },
    {
      "cell_type": "markdown",
      "metadata": {},
      "source": [
        "Первый автомобиль с автоматической коробкой передач выпустила компания Ford в 1947 году. Проверим, нет ли в наших данных некорректных данных т.е. автомобилей с автоматической коробкой передач выпущенных ранее 1947 года в обеих выборках"
      ]
    },
    {
      "cell_type": "code",
      "execution_count": 10,
      "metadata": {
        "colab": {
          "base_uri": "https://localhost:8080/",
          "height": 53
        },
        "id": "ttgNSyQrOxV7",
        "outputId": "11eeea84-ede1-4e0d-e7d4-bea3351bfad4"
      },
      "outputs": [
        {
          "data": {
            "text/html": [
              "<div>\n",
              "<style scoped>\n",
              "    .dataframe tbody tr th:only-of-type {\n",
              "        vertical-align: middle;\n",
              "    }\n",
              "\n",
              "    .dataframe tbody tr th {\n",
              "        vertical-align: top;\n",
              "    }\n",
              "\n",
              "    .dataframe thead th {\n",
              "        text-align: right;\n",
              "    }\n",
              "</style>\n",
              "<table border=\"1\" class=\"dataframe\">\n",
              "  <thead>\n",
              "    <tr style=\"text-align: right;\">\n",
              "      <th></th>\n",
              "      <th>year</th>\n",
              "      <th>make</th>\n",
              "      <th>model</th>\n",
              "      <th>trim</th>\n",
              "      <th>body</th>\n",
              "      <th>transmission</th>\n",
              "      <th>vin</th>\n",
              "      <th>state</th>\n",
              "      <th>condition</th>\n",
              "      <th>odometer</th>\n",
              "      <th>color</th>\n",
              "      <th>interior</th>\n",
              "      <th>seller</th>\n",
              "      <th>sellingprice</th>\n",
              "      <th>saledate</th>\n",
              "    </tr>\n",
              "  </thead>\n",
              "  <tbody>\n",
              "  </tbody>\n",
              "</table>\n",
              "</div>"
            ],
            "text/plain": [
              "Empty DataFrame\n",
              "Columns: [year, make, model, trim, body, transmission, vin, state, condition, odometer, color, interior, seller, sellingprice, saledate]\n",
              "Index: []"
            ]
          },
          "execution_count": 10,
          "metadata": {},
          "output_type": "execute_result"
        }
      ],
      "source": [
        "data_train[(data_train['transmission'] == 'automatic') & (data_train['year'] <= 1947)]"
      ]
    },
    {
      "cell_type": "code",
      "execution_count": 11,
      "metadata": {
        "colab": {
          "base_uri": "https://localhost:8080/",
          "height": 53
        },
        "id": "o3kcxTUdVt53",
        "outputId": "705d8845-50c2-4f52-c6d6-84024067d3cb"
      },
      "outputs": [
        {
          "data": {
            "text/html": [
              "<div>\n",
              "<style scoped>\n",
              "    .dataframe tbody tr th:only-of-type {\n",
              "        vertical-align: middle;\n",
              "    }\n",
              "\n",
              "    .dataframe tbody tr th {\n",
              "        vertical-align: top;\n",
              "    }\n",
              "\n",
              "    .dataframe thead th {\n",
              "        text-align: right;\n",
              "    }\n",
              "</style>\n",
              "<table border=\"1\" class=\"dataframe\">\n",
              "  <thead>\n",
              "    <tr style=\"text-align: right;\">\n",
              "      <th></th>\n",
              "      <th>year</th>\n",
              "      <th>make</th>\n",
              "      <th>model</th>\n",
              "      <th>trim</th>\n",
              "      <th>body</th>\n",
              "      <th>transmission</th>\n",
              "      <th>vin</th>\n",
              "      <th>state</th>\n",
              "      <th>condition</th>\n",
              "      <th>odometer</th>\n",
              "      <th>color</th>\n",
              "      <th>interior</th>\n",
              "      <th>seller</th>\n",
              "      <th>saledate</th>\n",
              "    </tr>\n",
              "  </thead>\n",
              "  <tbody>\n",
              "  </tbody>\n",
              "</table>\n",
              "</div>"
            ],
            "text/plain": [
              "Empty DataFrame\n",
              "Columns: [year, make, model, trim, body, transmission, vin, state, condition, odometer, color, interior, seller, saledate]\n",
              "Index: []"
            ]
          },
          "execution_count": 11,
          "metadata": {},
          "output_type": "execute_result"
        }
      ],
      "source": [
        "data_test[(data_test['transmission'] == 'automatic') & (data_test['year'] <= 1947)]"
      ]
    },
    {
      "cell_type": "markdown",
      "metadata": {},
      "source": [
        "Что в данных есть пропуски мы уже могли заметить ранее, но какие параметры имеют эти пропуски и в каком объеме не узнали, исправим это и посмотрим количество пропусков в колонках в обоих датасетах"
      ]
    },
    {
      "cell_type": "code",
      "execution_count": 12,
      "metadata": {},
      "outputs": [
        {
          "data": {
            "text/plain": [
              "year                0\n",
              "make                0\n",
              "model               0\n",
              "trim             8337\n",
              "body            10393\n",
              "transmission    51461\n",
              "vin                 0\n",
              "state               0\n",
              "condition        9405\n",
              "odometer           69\n",
              "color             586\n",
              "interior          586\n",
              "seller              0\n",
              "sellingprice        0\n",
              "saledate            0\n",
              "dtype: int64"
            ]
          },
          "execution_count": 12,
          "metadata": {},
          "output_type": "execute_result"
        }
      ],
      "source": [
        "data_train.isna().sum()"
      ]
    },
    {
      "cell_type": "code",
      "execution_count": 13,
      "metadata": {
        "colab": {
          "base_uri": "https://localhost:8080/"
        },
        "id": "OTAcNysyWIHi",
        "outputId": "98c4925b-08ec-42a9-e81f-e7952f3bfc5b"
      },
      "outputs": [
        {
          "data": {
            "text/plain": [
              "year                0\n",
              "make                0\n",
              "model               0\n",
              "trim             2114\n",
              "body             2594\n",
              "transmission    13011\n",
              "vin                 0\n",
              "state               0\n",
              "condition        2379\n",
              "odometer           19\n",
              "color             158\n",
              "interior          158\n",
              "seller              0\n",
              "saledate            0\n",
              "dtype: int64"
            ]
          },
          "execution_count": 13,
          "metadata": {},
          "output_type": "execute_result"
        }
      ],
      "source": [
        "data_test.isna().sum()"
      ]
    },
    {
      "cell_type": "markdown",
      "metadata": {},
      "source": [
        "Теперь мы наглядно видим объем недостающих данных в каждом датасете. Продолжим заполнение пропусков. Наибольшее количество пропусков наблюдается в столбце transmission. Постараемся заполнить их посредством группировки данных по году выпуска, производителю и модели и заполним пропуски наиболее вероятным видом коробки передач у каждой машины. Если в столбце останутся пропуски они будут заполнены все той же заглушкой Unknown."
      ]
    },
    {
      "cell_type": "code",
      "execution_count": 14,
      "metadata": {
        "id": "UYjGhIdrSjka"
      },
      "outputs": [],
      "source": [
        "grouped_data = data_train.groupby(['year','make', 'model'])['transmission'].value_counts(1)\n",
        "def fill_transmission(row):\n",
        "    if pd.isnull(row['transmission']):\n",
        "        make = row['make']\n",
        "        model = row['model']\n",
        "        year = row['year']\n",
        "        if (year, make, model) in grouped_data.index:\n",
        "            probabilities = grouped_data.loc[(year, make, model)]\n",
        "            most_probable_transmission = probabilities.index[0]\n",
        "            return most_probable_transmission\n",
        "        else:\n",
        "            return np.nan\n",
        "    else:\n",
        "        return row['transmission']\n",
        "\n",
        "data_train['transmission'] = data_train.apply(fill_transmission, axis=1)"
      ]
    },
    {
      "cell_type": "code",
      "execution_count": 15,
      "metadata": {},
      "outputs": [],
      "source": [
        "data_train['transmission'] = data_train['transmission'].fillna('Unknown')"
      ]
    },
    {
      "cell_type": "code",
      "execution_count": 16,
      "metadata": {
        "id": "1182tOd0V3OB"
      },
      "outputs": [],
      "source": [
        "grouped_data = data_test.groupby(['year','make', 'model'])['transmission'].value_counts(1)\n",
        "def fill_transmission(row):\n",
        "    if pd.isnull(row['transmission']):\n",
        "        make = row['make']\n",
        "        model = row['model']\n",
        "        year = row['year']\n",
        "        if (year, make, model) in grouped_data.index:\n",
        "            probabilities = grouped_data.loc[(year, make, model)]\n",
        "            most_probable_transmission = probabilities.index[0]\n",
        "            return most_probable_transmission\n",
        "        else:\n",
        "            return np.nan\n",
        "    else:\n",
        "        return row['transmission']\n",
        "\n",
        "data_test['transmission'] = data_test.apply(fill_transmission, axis=1)"
      ]
    },
    {
      "cell_type": "code",
      "execution_count": 17,
      "metadata": {
        "id": "q-FgQsDNYDbj"
      },
      "outputs": [],
      "source": [
        "data_test['transmission'] = data_test['transmission'].fillna('Unknown')"
      ]
    },
    {
      "cell_type": "markdown",
      "metadata": {},
      "source": [
        "Аналогично предыдущему способу заполним пропуски в столбце trim, но к группировке добавим теперь еще и трансмиссию."
      ]
    },
    {
      "cell_type": "code",
      "execution_count": 18,
      "metadata": {
        "id": "D5zPYf1aqer-"
      },
      "outputs": [],
      "source": [
        "grouped_trim = data_train.groupby(['year','make', 'model', 'transmission'])['trim'].value_counts(1)\n",
        "def fill_trim(row):\n",
        "    if pd.isnull(row['trim']):\n",
        "        year = row['year']\n",
        "        make = row['make']\n",
        "        model = row['model']\n",
        "        transmission = row['transmission']\n",
        "        if (year, make, model, transmission) in grouped_trim.index:\n",
        "            probabilities = grouped_trim.loc[(year, make, model, transmission)]\n",
        "            most_probable_trim = probabilities.index[0]\n",
        "            return most_probable_trim\n",
        "        else:\n",
        "            return np.nan\n",
        "    else:\n",
        "        return row['trim']\n",
        "\n",
        "data_train['trim'] = data_train.apply(fill_trim, axis=1)"
      ]
    },
    {
      "cell_type": "code",
      "execution_count": 19,
      "metadata": {},
      "outputs": [],
      "source": [
        "data_train['trim'] = data_train['trim'].fillna('Unknown')"
      ]
    },
    {
      "cell_type": "code",
      "execution_count": 20,
      "metadata": {
        "id": "UFo8zTYWYsVW"
      },
      "outputs": [],
      "source": [
        "grouped_trim = data_test.groupby(['year','make', 'model', 'transmission'])['trim'].value_counts(1)\n",
        "def fill_trim(row):\n",
        "    if pd.isnull(row['trim']):\n",
        "        year = row['year']\n",
        "        make = row['make']\n",
        "        model = row['model']\n",
        "        transmission = row['transmission']\n",
        "        if (year, make, model, transmission) in grouped_trim.index:\n",
        "            probabilities = grouped_trim.loc[(year, make, model, transmission)]\n",
        "            most_probable_trim = probabilities.index[0]\n",
        "            return most_probable_trim\n",
        "        else:\n",
        "            return np.nan\n",
        "    else:\n",
        "        return row['trim']\n",
        "\n",
        "data_test['trim'] = data_test.apply(fill_trim, axis=1)"
      ]
    },
    {
      "cell_type": "code",
      "execution_count": 21,
      "metadata": {
        "id": "o7ZZ3wg5Y6ke"
      },
      "outputs": [],
      "source": [
        "data_test['trim'] = data_test['trim'].fillna('Unknown')"
      ]
    },
    {
      "cell_type": "markdown",
      "metadata": {},
      "source": [
        "Теперь заполним пропуски в обоих датасетах по столбцам содержащим информацию о пробеге и состоянии автомобиля в момент его продажи. Пробег мы заполним путем группировки по году выпуска и заполним пропуски средним значением соответствующего года. Пропуски в состоянии автомобиля мы заполним аналогичным образом, но группировка будет идти еще и по модели автомобиля, а сами пропуски будут заполнять уже медианым значением результатов группировки."
      ]
    },
    {
      "cell_type": "code",
      "execution_count": 22,
      "metadata": {
        "id": "313hGWgZq67A"
      },
      "outputs": [],
      "source": [
        "data_train['odometer'] = data_train.groupby('year')['odometer'].transform(lambda x: x.fillna(x.mean()))\n",
        "data_test['odometer'] = data_test.groupby('year')['odometer'].transform(lambda x: x.fillna(x.mean()))"
      ]
    },
    {
      "cell_type": "code",
      "execution_count": 23,
      "metadata": {
        "id": "pyieqzoLu8t1"
      },
      "outputs": [],
      "source": [
        "data_train['condition'] = data_train.groupby(['year','model'])['condition'].transform(lambda x:  x.fillna(x.median()))\n",
        "data_test['condition'] = data_test.groupby(['year','model'])['condition'].transform(lambda x:  x.fillna(x.median()))"
      ]
    },
    {
      "cell_type": "code",
      "execution_count": 24,
      "metadata": {
        "id": "gQ6eTpnCHa03"
      },
      "outputs": [],
      "source": [
        "#Оставшиеся пропуски будут заполнены медиаными значениями и округлены до двух знаков после запятой\n",
        "data_train['condition'] = data_train['condition'].fillna(data_train['condition'].median())\n",
        "data_train['condition'] = data_train['condition'].round(2)\n",
        "\n",
        "data_test['condition'] = data_test['condition'].fillna(data_test['condition'].median())\n",
        "data_test['condition'] = data_test['condition'].round(2)"
      ]
    },
    {
      "cell_type": "markdown",
      "metadata": {},
      "source": [
        "Теперь заполним пропуски в типах кузова."
      ]
    },
    {
      "cell_type": "code",
      "execution_count": 25,
      "metadata": {
        "colab": {
          "base_uri": "https://localhost:8080/"
        },
        "id": "H7JEo2dRwXvQ",
        "outputId": "cf8adf8d-235f-443c-a61d-ef9cbe67fa42"
      },
      "outputs": [
        {
          "name": "stderr",
          "output_type": "stream",
          "text": [
            "C:\\Users\\Анастасия\\AppData\\Local\\Temp\\ipykernel_22752\\274250965.py:5: FutureWarning: The default dtype for empty Series will be 'object' instead of 'float64' in a future version. Specify a dtype explicitly to silence this warning.\n",
            "  data_train['body'] = data_train.groupby(['make', 'model'])['body'].transform(fillna_mode);\n",
            "C:\\Users\\Анастасия\\AppData\\Local\\Temp\\ipykernel_22752\\274250965.py:5: FutureWarning: The default dtype for empty Series will be 'object' instead of 'float64' in a future version. Specify a dtype explicitly to silence this warning.\n",
            "  data_train['body'] = data_train.groupby(['make', 'model'])['body'].transform(fillna_mode);\n",
            "C:\\Users\\Анастасия\\AppData\\Local\\Temp\\ipykernel_22752\\274250965.py:5: FutureWarning: The default dtype for empty Series will be 'object' instead of 'float64' in a future version. Specify a dtype explicitly to silence this warning.\n",
            "  data_train['body'] = data_train.groupby(['make', 'model'])['body'].transform(fillna_mode);\n",
            "C:\\Users\\Анастасия\\AppData\\Local\\Temp\\ipykernel_22752\\274250965.py:5: FutureWarning: The default dtype for empty Series will be 'object' instead of 'float64' in a future version. Specify a dtype explicitly to silence this warning.\n",
            "  data_train['body'] = data_train.groupby(['make', 'model'])['body'].transform(fillna_mode);\n",
            "C:\\Users\\Анастасия\\AppData\\Local\\Temp\\ipykernel_22752\\274250965.py:5: FutureWarning: The default dtype for empty Series will be 'object' instead of 'float64' in a future version. Specify a dtype explicitly to silence this warning.\n",
            "  data_train['body'] = data_train.groupby(['make', 'model'])['body'].transform(fillna_mode);\n",
            "C:\\Users\\Анастасия\\AppData\\Local\\Temp\\ipykernel_22752\\274250965.py:5: FutureWarning: The default dtype for empty Series will be 'object' instead of 'float64' in a future version. Specify a dtype explicitly to silence this warning.\n",
            "  data_train['body'] = data_train.groupby(['make', 'model'])['body'].transform(fillna_mode);\n",
            "C:\\Users\\Анастасия\\AppData\\Local\\Temp\\ipykernel_22752\\274250965.py:5: FutureWarning: The default dtype for empty Series will be 'object' instead of 'float64' in a future version. Specify a dtype explicitly to silence this warning.\n",
            "  data_train['body'] = data_train.groupby(['make', 'model'])['body'].transform(fillna_mode);\n",
            "C:\\Users\\Анастасия\\AppData\\Local\\Temp\\ipykernel_22752\\274250965.py:5: FutureWarning: The default dtype for empty Series will be 'object' instead of 'float64' in a future version. Specify a dtype explicitly to silence this warning.\n",
            "  data_train['body'] = data_train.groupby(['make', 'model'])['body'].transform(fillna_mode);\n",
            "C:\\Users\\Анастасия\\AppData\\Local\\Temp\\ipykernel_22752\\274250965.py:5: FutureWarning: The default dtype for empty Series will be 'object' instead of 'float64' in a future version. Specify a dtype explicitly to silence this warning.\n",
            "  data_train['body'] = data_train.groupby(['make', 'model'])['body'].transform(fillna_mode);\n",
            "C:\\Users\\Анастасия\\AppData\\Local\\Temp\\ipykernel_22752\\274250965.py:5: FutureWarning: The default dtype for empty Series will be 'object' instead of 'float64' in a future version. Specify a dtype explicitly to silence this warning.\n",
            "  data_train['body'] = data_train.groupby(['make', 'model'])['body'].transform(fillna_mode);\n",
            "C:\\Users\\Анастасия\\AppData\\Local\\Temp\\ipykernel_22752\\274250965.py:5: FutureWarning: The default dtype for empty Series will be 'object' instead of 'float64' in a future version. Specify a dtype explicitly to silence this warning.\n",
            "  data_train['body'] = data_train.groupby(['make', 'model'])['body'].transform(fillna_mode);\n",
            "C:\\Users\\Анастасия\\AppData\\Local\\Temp\\ipykernel_22752\\274250965.py:5: FutureWarning: The default dtype for empty Series will be 'object' instead of 'float64' in a future version. Specify a dtype explicitly to silence this warning.\n",
            "  data_train['body'] = data_train.groupby(['make', 'model'])['body'].transform(fillna_mode);\n",
            "C:\\Users\\Анастасия\\AppData\\Local\\Temp\\ipykernel_22752\\274250965.py:5: FutureWarning: The default dtype for empty Series will be 'object' instead of 'float64' in a future version. Specify a dtype explicitly to silence this warning.\n",
            "  data_train['body'] = data_train.groupby(['make', 'model'])['body'].transform(fillna_mode);\n",
            "C:\\Users\\Анастасия\\AppData\\Local\\Temp\\ipykernel_22752\\274250965.py:5: FutureWarning: The default dtype for empty Series will be 'object' instead of 'float64' in a future version. Specify a dtype explicitly to silence this warning.\n",
            "  data_train['body'] = data_train.groupby(['make', 'model'])['body'].transform(fillna_mode);\n",
            "C:\\Users\\Анастасия\\AppData\\Local\\Temp\\ipykernel_22752\\274250965.py:5: FutureWarning: The default dtype for empty Series will be 'object' instead of 'float64' in a future version. Specify a dtype explicitly to silence this warning.\n",
            "  data_train['body'] = data_train.groupby(['make', 'model'])['body'].transform(fillna_mode);\n",
            "C:\\Users\\Анастасия\\AppData\\Local\\Temp\\ipykernel_22752\\274250965.py:5: FutureWarning: The default dtype for empty Series will be 'object' instead of 'float64' in a future version. Specify a dtype explicitly to silence this warning.\n",
            "  data_train['body'] = data_train.groupby(['make', 'model'])['body'].transform(fillna_mode);\n",
            "C:\\Users\\Анастасия\\AppData\\Local\\Temp\\ipykernel_22752\\274250965.py:5: FutureWarning: The default dtype for empty Series will be 'object' instead of 'float64' in a future version. Specify a dtype explicitly to silence this warning.\n",
            "  data_train['body'] = data_train.groupby(['make', 'model'])['body'].transform(fillna_mode);\n",
            "C:\\Users\\Анастасия\\AppData\\Local\\Temp\\ipykernel_22752\\274250965.py:5: FutureWarning: The default dtype for empty Series will be 'object' instead of 'float64' in a future version. Specify a dtype explicitly to silence this warning.\n",
            "  data_train['body'] = data_train.groupby(['make', 'model'])['body'].transform(fillna_mode);\n",
            "C:\\Users\\Анастасия\\AppData\\Local\\Temp\\ipykernel_22752\\274250965.py:5: FutureWarning: The default dtype for empty Series will be 'object' instead of 'float64' in a future version. Specify a dtype explicitly to silence this warning.\n",
            "  data_train['body'] = data_train.groupby(['make', 'model'])['body'].transform(fillna_mode);\n",
            "C:\\Users\\Анастасия\\AppData\\Local\\Temp\\ipykernel_22752\\274250965.py:5: FutureWarning: The default dtype for empty Series will be 'object' instead of 'float64' in a future version. Specify a dtype explicitly to silence this warning.\n",
            "  data_train['body'] = data_train.groupby(['make', 'model'])['body'].transform(fillna_mode);\n",
            "C:\\Users\\Анастасия\\AppData\\Local\\Temp\\ipykernel_22752\\274250965.py:5: FutureWarning: The default dtype for empty Series will be 'object' instead of 'float64' in a future version. Specify a dtype explicitly to silence this warning.\n",
            "  data_train['body'] = data_train.groupby(['make', 'model'])['body'].transform(fillna_mode);\n",
            "C:\\Users\\Анастасия\\AppData\\Local\\Temp\\ipykernel_22752\\274250965.py:5: FutureWarning: The default dtype for empty Series will be 'object' instead of 'float64' in a future version. Specify a dtype explicitly to silence this warning.\n",
            "  data_train['body'] = data_train.groupby(['make', 'model'])['body'].transform(fillna_mode);\n",
            "C:\\Users\\Анастасия\\AppData\\Local\\Temp\\ipykernel_22752\\274250965.py:5: FutureWarning: The default dtype for empty Series will be 'object' instead of 'float64' in a future version. Specify a dtype explicitly to silence this warning.\n",
            "  data_train['body'] = data_train.groupby(['make', 'model'])['body'].transform(fillna_mode);\n",
            "C:\\Users\\Анастасия\\AppData\\Local\\Temp\\ipykernel_22752\\274250965.py:5: FutureWarning: The default dtype for empty Series will be 'object' instead of 'float64' in a future version. Specify a dtype explicitly to silence this warning.\n",
            "  data_train['body'] = data_train.groupby(['make', 'model'])['body'].transform(fillna_mode);\n",
            "C:\\Users\\Анастасия\\AppData\\Local\\Temp\\ipykernel_22752\\274250965.py:5: FutureWarning: The default dtype for empty Series will be 'object' instead of 'float64' in a future version. Specify a dtype explicitly to silence this warning.\n",
            "  data_train['body'] = data_train.groupby(['make', 'model'])['body'].transform(fillna_mode);\n",
            "C:\\Users\\Анастасия\\AppData\\Local\\Temp\\ipykernel_22752\\274250965.py:5: FutureWarning: The default dtype for empty Series will be 'object' instead of 'float64' in a future version. Specify a dtype explicitly to silence this warning.\n",
            "  data_train['body'] = data_train.groupby(['make', 'model'])['body'].transform(fillna_mode);\n",
            "C:\\Users\\Анастасия\\AppData\\Local\\Temp\\ipykernel_22752\\274250965.py:5: FutureWarning: The default dtype for empty Series will be 'object' instead of 'float64' in a future version. Specify a dtype explicitly to silence this warning.\n",
            "  data_train['body'] = data_train.groupby(['make', 'model'])['body'].transform(fillna_mode);\n",
            "C:\\Users\\Анастасия\\AppData\\Local\\Temp\\ipykernel_22752\\274250965.py:5: FutureWarning: The default dtype for empty Series will be 'object' instead of 'float64' in a future version. Specify a dtype explicitly to silence this warning.\n",
            "  data_train['body'] = data_train.groupby(['make', 'model'])['body'].transform(fillna_mode);\n",
            "C:\\Users\\Анастасия\\AppData\\Local\\Temp\\ipykernel_22752\\274250965.py:5: FutureWarning: The default dtype for empty Series will be 'object' instead of 'float64' in a future version. Specify a dtype explicitly to silence this warning.\n",
            "  data_train['body'] = data_train.groupby(['make', 'model'])['body'].transform(fillna_mode);\n",
            "C:\\Users\\Анастасия\\AppData\\Local\\Temp\\ipykernel_22752\\274250965.py:5: FutureWarning: The default dtype for empty Series will be 'object' instead of 'float64' in a future version. Specify a dtype explicitly to silence this warning.\n",
            "  data_train['body'] = data_train.groupby(['make', 'model'])['body'].transform(fillna_mode);\n",
            "C:\\Users\\Анастасия\\AppData\\Local\\Temp\\ipykernel_22752\\274250965.py:5: FutureWarning: The default dtype for empty Series will be 'object' instead of 'float64' in a future version. Specify a dtype explicitly to silence this warning.\n",
            "  data_train['body'] = data_train.groupby(['make', 'model'])['body'].transform(fillna_mode);\n",
            "C:\\Users\\Анастасия\\AppData\\Local\\Temp\\ipykernel_22752\\274250965.py:5: FutureWarning: The default dtype for empty Series will be 'object' instead of 'float64' in a future version. Specify a dtype explicitly to silence this warning.\n",
            "  data_train['body'] = data_train.groupby(['make', 'model'])['body'].transform(fillna_mode);\n",
            "C:\\Users\\Анастасия\\AppData\\Local\\Temp\\ipykernel_22752\\274250965.py:5: FutureWarning: The default dtype for empty Series will be 'object' instead of 'float64' in a future version. Specify a dtype explicitly to silence this warning.\n",
            "  data_train['body'] = data_train.groupby(['make', 'model'])['body'].transform(fillna_mode);\n",
            "C:\\Users\\Анастасия\\AppData\\Local\\Temp\\ipykernel_22752\\274250965.py:5: FutureWarning: The default dtype for empty Series will be 'object' instead of 'float64' in a future version. Specify a dtype explicitly to silence this warning.\n",
            "  data_train['body'] = data_train.groupby(['make', 'model'])['body'].transform(fillna_mode);\n",
            "C:\\Users\\Анастасия\\AppData\\Local\\Temp\\ipykernel_22752\\274250965.py:5: FutureWarning: The default dtype for empty Series will be 'object' instead of 'float64' in a future version. Specify a dtype explicitly to silence this warning.\n",
            "  data_train['body'] = data_train.groupby(['make', 'model'])['body'].transform(fillna_mode);\n",
            "C:\\Users\\Анастасия\\AppData\\Local\\Temp\\ipykernel_22752\\274250965.py:5: FutureWarning: The default dtype for empty Series will be 'object' instead of 'float64' in a future version. Specify a dtype explicitly to silence this warning.\n",
            "  data_train['body'] = data_train.groupby(['make', 'model'])['body'].transform(fillna_mode);\n",
            "C:\\Users\\Анастасия\\AppData\\Local\\Temp\\ipykernel_22752\\274250965.py:5: FutureWarning: The default dtype for empty Series will be 'object' instead of 'float64' in a future version. Specify a dtype explicitly to silence this warning.\n",
            "  data_train['body'] = data_train.groupby(['make', 'model'])['body'].transform(fillna_mode);\n",
            "C:\\Users\\Анастасия\\AppData\\Local\\Temp\\ipykernel_22752\\274250965.py:5: FutureWarning: The default dtype for empty Series will be 'object' instead of 'float64' in a future version. Specify a dtype explicitly to silence this warning.\n",
            "  data_train['body'] = data_train.groupby(['make', 'model'])['body'].transform(fillna_mode);\n",
            "C:\\Users\\Анастасия\\AppData\\Local\\Temp\\ipykernel_22752\\274250965.py:5: FutureWarning: The default dtype for empty Series will be 'object' instead of 'float64' in a future version. Specify a dtype explicitly to silence this warning.\n",
            "  data_train['body'] = data_train.groupby(['make', 'model'])['body'].transform(fillna_mode);\n",
            "C:\\Users\\Анастасия\\AppData\\Local\\Temp\\ipykernel_22752\\274250965.py:5: FutureWarning: The default dtype for empty Series will be 'object' instead of 'float64' in a future version. Specify a dtype explicitly to silence this warning.\n",
            "  data_train['body'] = data_train.groupby(['make', 'model'])['body'].transform(fillna_mode);\n",
            "C:\\Users\\Анастасия\\AppData\\Local\\Temp\\ipykernel_22752\\274250965.py:5: FutureWarning: The default dtype for empty Series will be 'object' instead of 'float64' in a future version. Specify a dtype explicitly to silence this warning.\n",
            "  data_train['body'] = data_train.groupby(['make', 'model'])['body'].transform(fillna_mode);\n",
            "C:\\Users\\Анастасия\\AppData\\Local\\Temp\\ipykernel_22752\\274250965.py:5: FutureWarning: The default dtype for empty Series will be 'object' instead of 'float64' in a future version. Specify a dtype explicitly to silence this warning.\n",
            "  data_train['body'] = data_train.groupby(['make', 'model'])['body'].transform(fillna_mode);\n",
            "C:\\Users\\Анастасия\\AppData\\Local\\Temp\\ipykernel_22752\\274250965.py:5: FutureWarning: The default dtype for empty Series will be 'object' instead of 'float64' in a future version. Specify a dtype explicitly to silence this warning.\n",
            "  data_train['body'] = data_train.groupby(['make', 'model'])['body'].transform(fillna_mode);\n",
            "C:\\Users\\Анастасия\\AppData\\Local\\Temp\\ipykernel_22752\\274250965.py:5: FutureWarning: The default dtype for empty Series will be 'object' instead of 'float64' in a future version. Specify a dtype explicitly to silence this warning.\n",
            "  data_train['body'] = data_train.groupby(['make', 'model'])['body'].transform(fillna_mode);\n",
            "C:\\Users\\Анастасия\\AppData\\Local\\Temp\\ipykernel_22752\\274250965.py:5: FutureWarning: The default dtype for empty Series will be 'object' instead of 'float64' in a future version. Specify a dtype explicitly to silence this warning.\n",
            "  data_train['body'] = data_train.groupby(['make', 'model'])['body'].transform(fillna_mode);\n",
            "C:\\Users\\Анастасия\\AppData\\Local\\Temp\\ipykernel_22752\\274250965.py:5: FutureWarning: The default dtype for empty Series will be 'object' instead of 'float64' in a future version. Specify a dtype explicitly to silence this warning.\n",
            "  data_train['body'] = data_train.groupby(['make', 'model'])['body'].transform(fillna_mode);\n",
            "C:\\Users\\Анастасия\\AppData\\Local\\Temp\\ipykernel_22752\\274250965.py:5: FutureWarning: The default dtype for empty Series will be 'object' instead of 'float64' in a future version. Specify a dtype explicitly to silence this warning.\n",
            "  data_train['body'] = data_train.groupby(['make', 'model'])['body'].transform(fillna_mode);\n",
            "C:\\Users\\Анастасия\\AppData\\Local\\Temp\\ipykernel_22752\\274250965.py:5: FutureWarning: The default dtype for empty Series will be 'object' instead of 'float64' in a future version. Specify a dtype explicitly to silence this warning.\n",
            "  data_train['body'] = data_train.groupby(['make', 'model'])['body'].transform(fillna_mode);\n",
            "C:\\Users\\Анастасия\\AppData\\Local\\Temp\\ipykernel_22752\\274250965.py:5: FutureWarning: The default dtype for empty Series will be 'object' instead of 'float64' in a future version. Specify a dtype explicitly to silence this warning.\n",
            "  data_train['body'] = data_train.groupby(['make', 'model'])['body'].transform(fillna_mode);\n",
            "C:\\Users\\Анастасия\\AppData\\Local\\Temp\\ipykernel_22752\\274250965.py:5: FutureWarning: The default dtype for empty Series will be 'object' instead of 'float64' in a future version. Specify a dtype explicitly to silence this warning.\n",
            "  data_train['body'] = data_train.groupby(['make', 'model'])['body'].transform(fillna_mode);\n",
            "C:\\Users\\Анастасия\\AppData\\Local\\Temp\\ipykernel_22752\\274250965.py:5: FutureWarning: The default dtype for empty Series will be 'object' instead of 'float64' in a future version. Specify a dtype explicitly to silence this warning.\n",
            "  data_train['body'] = data_train.groupby(['make', 'model'])['body'].transform(fillna_mode);\n",
            "C:\\Users\\Анастасия\\AppData\\Local\\Temp\\ipykernel_22752\\274250965.py:5: FutureWarning: The default dtype for empty Series will be 'object' instead of 'float64' in a future version. Specify a dtype explicitly to silence this warning.\n",
            "  data_train['body'] = data_train.groupby(['make', 'model'])['body'].transform(fillna_mode);\n",
            "C:\\Users\\Анастасия\\AppData\\Local\\Temp\\ipykernel_22752\\274250965.py:5: FutureWarning: The default dtype for empty Series will be 'object' instead of 'float64' in a future version. Specify a dtype explicitly to silence this warning.\n",
            "  data_train['body'] = data_train.groupby(['make', 'model'])['body'].transform(fillna_mode);\n",
            "C:\\Users\\Анастасия\\AppData\\Local\\Temp\\ipykernel_22752\\274250965.py:5: FutureWarning: The default dtype for empty Series will be 'object' instead of 'float64' in a future version. Specify a dtype explicitly to silence this warning.\n",
            "  data_train['body'] = data_train.groupby(['make', 'model'])['body'].transform(fillna_mode);\n",
            "C:\\Users\\Анастасия\\AppData\\Local\\Temp\\ipykernel_22752\\274250965.py:5: FutureWarning: The default dtype for empty Series will be 'object' instead of 'float64' in a future version. Specify a dtype explicitly to silence this warning.\n",
            "  data_train['body'] = data_train.groupby(['make', 'model'])['body'].transform(fillna_mode);\n",
            "C:\\Users\\Анастасия\\AppData\\Local\\Temp\\ipykernel_22752\\274250965.py:5: FutureWarning: The default dtype for empty Series will be 'object' instead of 'float64' in a future version. Specify a dtype explicitly to silence this warning.\n",
            "  data_train['body'] = data_train.groupby(['make', 'model'])['body'].transform(fillna_mode);\n",
            "C:\\Users\\Анастасия\\AppData\\Local\\Temp\\ipykernel_22752\\274250965.py:5: FutureWarning: The default dtype for empty Series will be 'object' instead of 'float64' in a future version. Specify a dtype explicitly to silence this warning.\n",
            "  data_train['body'] = data_train.groupby(['make', 'model'])['body'].transform(fillna_mode);\n",
            "C:\\Users\\Анастасия\\AppData\\Local\\Temp\\ipykernel_22752\\274250965.py:5: FutureWarning: The default dtype for empty Series will be 'object' instead of 'float64' in a future version. Specify a dtype explicitly to silence this warning.\n",
            "  data_train['body'] = data_train.groupby(['make', 'model'])['body'].transform(fillna_mode);\n",
            "C:\\Users\\Анастасия\\AppData\\Local\\Temp\\ipykernel_22752\\274250965.py:5: FutureWarning: The default dtype for empty Series will be 'object' instead of 'float64' in a future version. Specify a dtype explicitly to silence this warning.\n",
            "  data_train['body'] = data_train.groupby(['make', 'model'])['body'].transform(fillna_mode);\n",
            "C:\\Users\\Анастасия\\AppData\\Local\\Temp\\ipykernel_22752\\274250965.py:5: FutureWarning: The default dtype for empty Series will be 'object' instead of 'float64' in a future version. Specify a dtype explicitly to silence this warning.\n",
            "  data_train['body'] = data_train.groupby(['make', 'model'])['body'].transform(fillna_mode);\n",
            "C:\\Users\\Анастасия\\AppData\\Local\\Temp\\ipykernel_22752\\274250965.py:5: FutureWarning: The default dtype for empty Series will be 'object' instead of 'float64' in a future version. Specify a dtype explicitly to silence this warning.\n",
            "  data_train['body'] = data_train.groupby(['make', 'model'])['body'].transform(fillna_mode);\n",
            "C:\\Users\\Анастасия\\AppData\\Local\\Temp\\ipykernel_22752\\274250965.py:5: FutureWarning: The default dtype for empty Series will be 'object' instead of 'float64' in a future version. Specify a dtype explicitly to silence this warning.\n",
            "  data_train['body'] = data_train.groupby(['make', 'model'])['body'].transform(fillna_mode);\n",
            "C:\\Users\\Анастасия\\AppData\\Local\\Temp\\ipykernel_22752\\274250965.py:5: FutureWarning: The default dtype for empty Series will be 'object' instead of 'float64' in a future version. Specify a dtype explicitly to silence this warning.\n",
            "  data_train['body'] = data_train.groupby(['make', 'model'])['body'].transform(fillna_mode);\n",
            "C:\\Users\\Анастасия\\AppData\\Local\\Temp\\ipykernel_22752\\274250965.py:5: FutureWarning: The default dtype for empty Series will be 'object' instead of 'float64' in a future version. Specify a dtype explicitly to silence this warning.\n",
            "  data_train['body'] = data_train.groupby(['make', 'model'])['body'].transform(fillna_mode);\n",
            "C:\\Users\\Анастасия\\AppData\\Local\\Temp\\ipykernel_22752\\274250965.py:5: FutureWarning: The default dtype for empty Series will be 'object' instead of 'float64' in a future version. Specify a dtype explicitly to silence this warning.\n",
            "  data_train['body'] = data_train.groupby(['make', 'model'])['body'].transform(fillna_mode);\n",
            "C:\\Users\\Анастасия\\AppData\\Local\\Temp\\ipykernel_22752\\274250965.py:5: FutureWarning: The default dtype for empty Series will be 'object' instead of 'float64' in a future version. Specify a dtype explicitly to silence this warning.\n",
            "  data_train['body'] = data_train.groupby(['make', 'model'])['body'].transform(fillna_mode);\n",
            "C:\\Users\\Анастасия\\AppData\\Local\\Temp\\ipykernel_22752\\274250965.py:5: FutureWarning: The default dtype for empty Series will be 'object' instead of 'float64' in a future version. Specify a dtype explicitly to silence this warning.\n",
            "  data_train['body'] = data_train.groupby(['make', 'model'])['body'].transform(fillna_mode);\n",
            "C:\\Users\\Анастасия\\AppData\\Local\\Temp\\ipykernel_22752\\274250965.py:5: FutureWarning: The default dtype for empty Series will be 'object' instead of 'float64' in a future version. Specify a dtype explicitly to silence this warning.\n",
            "  data_train['body'] = data_train.groupby(['make', 'model'])['body'].transform(fillna_mode);\n",
            "C:\\Users\\Анастасия\\AppData\\Local\\Temp\\ipykernel_22752\\274250965.py:5: FutureWarning: The default dtype for empty Series will be 'object' instead of 'float64' in a future version. Specify a dtype explicitly to silence this warning.\n",
            "  data_train['body'] = data_train.groupby(['make', 'model'])['body'].transform(fillna_mode);\n",
            "C:\\Users\\Анастасия\\AppData\\Local\\Temp\\ipykernel_22752\\274250965.py:5: FutureWarning: The default dtype for empty Series will be 'object' instead of 'float64' in a future version. Specify a dtype explicitly to silence this warning.\n",
            "  data_train['body'] = data_train.groupby(['make', 'model'])['body'].transform(fillna_mode);\n",
            "C:\\Users\\Анастасия\\AppData\\Local\\Temp\\ipykernel_22752\\274250965.py:5: FutureWarning: The default dtype for empty Series will be 'object' instead of 'float64' in a future version. Specify a dtype explicitly to silence this warning.\n",
            "  data_train['body'] = data_train.groupby(['make', 'model'])['body'].transform(fillna_mode);\n",
            "C:\\Users\\Анастасия\\AppData\\Local\\Temp\\ipykernel_22752\\274250965.py:5: FutureWarning: The default dtype for empty Series will be 'object' instead of 'float64' in a future version. Specify a dtype explicitly to silence this warning.\n",
            "  data_train['body'] = data_train.groupby(['make', 'model'])['body'].transform(fillna_mode);\n",
            "C:\\Users\\Анастасия\\AppData\\Local\\Temp\\ipykernel_22752\\274250965.py:5: FutureWarning: The default dtype for empty Series will be 'object' instead of 'float64' in a future version. Specify a dtype explicitly to silence this warning.\n",
            "  data_train['body'] = data_train.groupby(['make', 'model'])['body'].transform(fillna_mode);\n",
            "C:\\Users\\Анастасия\\AppData\\Local\\Temp\\ipykernel_22752\\274250965.py:5: FutureWarning: The default dtype for empty Series will be 'object' instead of 'float64' in a future version. Specify a dtype explicitly to silence this warning.\n",
            "  data_train['body'] = data_train.groupby(['make', 'model'])['body'].transform(fillna_mode);\n",
            "C:\\Users\\Анастасия\\AppData\\Local\\Temp\\ipykernel_22752\\274250965.py:5: FutureWarning: The default dtype for empty Series will be 'object' instead of 'float64' in a future version. Specify a dtype explicitly to silence this warning.\n",
            "  data_train['body'] = data_train.groupby(['make', 'model'])['body'].transform(fillna_mode);\n",
            "C:\\Users\\Анастасия\\AppData\\Local\\Temp\\ipykernel_22752\\274250965.py:5: FutureWarning: The default dtype for empty Series will be 'object' instead of 'float64' in a future version. Specify a dtype explicitly to silence this warning.\n",
            "  data_train['body'] = data_train.groupby(['make', 'model'])['body'].transform(fillna_mode);\n",
            "C:\\Users\\Анастасия\\AppData\\Local\\Temp\\ipykernel_22752\\274250965.py:5: FutureWarning: The default dtype for empty Series will be 'object' instead of 'float64' in a future version. Specify a dtype explicitly to silence this warning.\n",
            "  data_train['body'] = data_train.groupby(['make', 'model'])['body'].transform(fillna_mode);\n",
            "C:\\Users\\Анастасия\\AppData\\Local\\Temp\\ipykernel_22752\\274250965.py:5: FutureWarning: The default dtype for empty Series will be 'object' instead of 'float64' in a future version. Specify a dtype explicitly to silence this warning.\n",
            "  data_train['body'] = data_train.groupby(['make', 'model'])['body'].transform(fillna_mode);\n",
            "C:\\Users\\Анастасия\\AppData\\Local\\Temp\\ipykernel_22752\\274250965.py:5: FutureWarning: The default dtype for empty Series will be 'object' instead of 'float64' in a future version. Specify a dtype explicitly to silence this warning.\n",
            "  data_train['body'] = data_train.groupby(['make', 'model'])['body'].transform(fillna_mode);\n",
            "C:\\Users\\Анастасия\\AppData\\Local\\Temp\\ipykernel_22752\\274250965.py:5: FutureWarning: The default dtype for empty Series will be 'object' instead of 'float64' in a future version. Specify a dtype explicitly to silence this warning.\n",
            "  data_train['body'] = data_train.groupby(['make', 'model'])['body'].transform(fillna_mode);\n",
            "C:\\Users\\Анастасия\\AppData\\Local\\Temp\\ipykernel_22752\\274250965.py:5: FutureWarning: The default dtype for empty Series will be 'object' instead of 'float64' in a future version. Specify a dtype explicitly to silence this warning.\n",
            "  data_train['body'] = data_train.groupby(['make', 'model'])['body'].transform(fillna_mode);\n",
            "C:\\Users\\Анастасия\\AppData\\Local\\Temp\\ipykernel_22752\\274250965.py:5: FutureWarning: The default dtype for empty Series will be 'object' instead of 'float64' in a future version. Specify a dtype explicitly to silence this warning.\n",
            "  data_train['body'] = data_train.groupby(['make', 'model'])['body'].transform(fillna_mode);\n",
            "C:\\Users\\Анастасия\\AppData\\Local\\Temp\\ipykernel_22752\\274250965.py:5: FutureWarning: The default dtype for empty Series will be 'object' instead of 'float64' in a future version. Specify a dtype explicitly to silence this warning.\n",
            "  data_train['body'] = data_train.groupby(['make', 'model'])['body'].transform(fillna_mode);\n",
            "C:\\Users\\Анастасия\\AppData\\Local\\Temp\\ipykernel_22752\\274250965.py:5: FutureWarning: The default dtype for empty Series will be 'object' instead of 'float64' in a future version. Specify a dtype explicitly to silence this warning.\n",
            "  data_train['body'] = data_train.groupby(['make', 'model'])['body'].transform(fillna_mode);\n",
            "C:\\Users\\Анастасия\\AppData\\Local\\Temp\\ipykernel_22752\\274250965.py:5: FutureWarning: The default dtype for empty Series will be 'object' instead of 'float64' in a future version. Specify a dtype explicitly to silence this warning.\n",
            "  data_train['body'] = data_train.groupby(['make', 'model'])['body'].transform(fillna_mode);\n",
            "C:\\Users\\Анастасия\\AppData\\Local\\Temp\\ipykernel_22752\\274250965.py:5: FutureWarning: The default dtype for empty Series will be 'object' instead of 'float64' in a future version. Specify a dtype explicitly to silence this warning.\n",
            "  data_train['body'] = data_train.groupby(['make', 'model'])['body'].transform(fillna_mode);\n",
            "C:\\Users\\Анастасия\\AppData\\Local\\Temp\\ipykernel_22752\\274250965.py:5: FutureWarning: The default dtype for empty Series will be 'object' instead of 'float64' in a future version. Specify a dtype explicitly to silence this warning.\n",
            "  data_train['body'] = data_train.groupby(['make', 'model'])['body'].transform(fillna_mode);\n",
            "C:\\Users\\Анастасия\\AppData\\Local\\Temp\\ipykernel_22752\\274250965.py:5: FutureWarning: The default dtype for empty Series will be 'object' instead of 'float64' in a future version. Specify a dtype explicitly to silence this warning.\n",
            "  data_train['body'] = data_train.groupby(['make', 'model'])['body'].transform(fillna_mode);\n",
            "C:\\Users\\Анастасия\\AppData\\Local\\Temp\\ipykernel_22752\\274250965.py:5: FutureWarning: The default dtype for empty Series will be 'object' instead of 'float64' in a future version. Specify a dtype explicitly to silence this warning.\n",
            "  data_train['body'] = data_train.groupby(['make', 'model'])['body'].transform(fillna_mode);\n",
            "C:\\Users\\Анастасия\\AppData\\Local\\Temp\\ipykernel_22752\\274250965.py:5: FutureWarning: The default dtype for empty Series will be 'object' instead of 'float64' in a future version. Specify a dtype explicitly to silence this warning.\n",
            "  data_train['body'] = data_train.groupby(['make', 'model'])['body'].transform(fillna_mode);\n",
            "C:\\Users\\Анастасия\\AppData\\Local\\Temp\\ipykernel_22752\\274250965.py:5: FutureWarning: The default dtype for empty Series will be 'object' instead of 'float64' in a future version. Specify a dtype explicitly to silence this warning.\n",
            "  data_train['body'] = data_train.groupby(['make', 'model'])['body'].transform(fillna_mode);\n",
            "C:\\Users\\Анастасия\\AppData\\Local\\Temp\\ipykernel_22752\\274250965.py:5: FutureWarning: The default dtype for empty Series will be 'object' instead of 'float64' in a future version. Specify a dtype explicitly to silence this warning.\n",
            "  data_train['body'] = data_train.groupby(['make', 'model'])['body'].transform(fillna_mode);\n",
            "C:\\Users\\Анастасия\\AppData\\Local\\Temp\\ipykernel_22752\\274250965.py:5: FutureWarning: The default dtype for empty Series will be 'object' instead of 'float64' in a future version. Specify a dtype explicitly to silence this warning.\n",
            "  data_train['body'] = data_train.groupby(['make', 'model'])['body'].transform(fillna_mode);\n",
            "C:\\Users\\Анастасия\\AppData\\Local\\Temp\\ipykernel_22752\\274250965.py:5: FutureWarning: The default dtype for empty Series will be 'object' instead of 'float64' in a future version. Specify a dtype explicitly to silence this warning.\n",
            "  data_train['body'] = data_train.groupby(['make', 'model'])['body'].transform(fillna_mode);\n",
            "C:\\Users\\Анастасия\\AppData\\Local\\Temp\\ipykernel_22752\\274250965.py:5: FutureWarning: The default dtype for empty Series will be 'object' instead of 'float64' in a future version. Specify a dtype explicitly to silence this warning.\n",
            "  data_train['body'] = data_train.groupby(['make', 'model'])['body'].transform(fillna_mode);\n",
            "C:\\Users\\Анастасия\\AppData\\Local\\Temp\\ipykernel_22752\\274250965.py:5: FutureWarning: The default dtype for empty Series will be 'object' instead of 'float64' in a future version. Specify a dtype explicitly to silence this warning.\n",
            "  data_train['body'] = data_train.groupby(['make', 'model'])['body'].transform(fillna_mode);\n",
            "C:\\Users\\Анастасия\\AppData\\Local\\Temp\\ipykernel_22752\\274250965.py:5: FutureWarning: The default dtype for empty Series will be 'object' instead of 'float64' in a future version. Specify a dtype explicitly to silence this warning.\n",
            "  data_train['body'] = data_train.groupby(['make', 'model'])['body'].transform(fillna_mode);\n",
            "C:\\Users\\Анастасия\\AppData\\Local\\Temp\\ipykernel_22752\\274250965.py:5: FutureWarning: The default dtype for empty Series will be 'object' instead of 'float64' in a future version. Specify a dtype explicitly to silence this warning.\n",
            "  data_train['body'] = data_train.groupby(['make', 'model'])['body'].transform(fillna_mode);\n",
            "C:\\Users\\Анастасия\\AppData\\Local\\Temp\\ipykernel_22752\\274250965.py:5: FutureWarning: The default dtype for empty Series will be 'object' instead of 'float64' in a future version. Specify a dtype explicitly to silence this warning.\n",
            "  data_train['body'] = data_train.groupby(['make', 'model'])['body'].transform(fillna_mode);\n",
            "C:\\Users\\Анастасия\\AppData\\Local\\Temp\\ipykernel_22752\\274250965.py:5: FutureWarning: The default dtype for empty Series will be 'object' instead of 'float64' in a future version. Specify a dtype explicitly to silence this warning.\n",
            "  data_train['body'] = data_train.groupby(['make', 'model'])['body'].transform(fillna_mode);\n",
            "C:\\Users\\Анастасия\\AppData\\Local\\Temp\\ipykernel_22752\\274250965.py:5: FutureWarning: The default dtype for empty Series will be 'object' instead of 'float64' in a future version. Specify a dtype explicitly to silence this warning.\n",
            "  data_train['body'] = data_train.groupby(['make', 'model'])['body'].transform(fillna_mode);\n",
            "C:\\Users\\Анастасия\\AppData\\Local\\Temp\\ipykernel_22752\\274250965.py:5: FutureWarning: The default dtype for empty Series will be 'object' instead of 'float64' in a future version. Specify a dtype explicitly to silence this warning.\n",
            "  data_train['body'] = data_train.groupby(['make', 'model'])['body'].transform(fillna_mode);\n",
            "C:\\Users\\Анастасия\\AppData\\Local\\Temp\\ipykernel_22752\\274250965.py:5: FutureWarning: The default dtype for empty Series will be 'object' instead of 'float64' in a future version. Specify a dtype explicitly to silence this warning.\n",
            "  data_train['body'] = data_train.groupby(['make', 'model'])['body'].transform(fillna_mode);\n",
            "C:\\Users\\Анастасия\\AppData\\Local\\Temp\\ipykernel_22752\\274250965.py:5: FutureWarning: The default dtype for empty Series will be 'object' instead of 'float64' in a future version. Specify a dtype explicitly to silence this warning.\n",
            "  data_train['body'] = data_train.groupby(['make', 'model'])['body'].transform(fillna_mode);\n",
            "C:\\Users\\Анастасия\\AppData\\Local\\Temp\\ipykernel_22752\\274250965.py:5: FutureWarning: The default dtype for empty Series will be 'object' instead of 'float64' in a future version. Specify a dtype explicitly to silence this warning.\n",
            "  data_train['body'] = data_train.groupby(['make', 'model'])['body'].transform(fillna_mode);\n",
            "C:\\Users\\Анастасия\\AppData\\Local\\Temp\\ipykernel_22752\\274250965.py:5: FutureWarning: The default dtype for empty Series will be 'object' instead of 'float64' in a future version. Specify a dtype explicitly to silence this warning.\n",
            "  data_train['body'] = data_train.groupby(['make', 'model'])['body'].transform(fillna_mode);\n",
            "C:\\Users\\Анастасия\\AppData\\Local\\Temp\\ipykernel_22752\\274250965.py:5: FutureWarning: The default dtype for empty Series will be 'object' instead of 'float64' in a future version. Specify a dtype explicitly to silence this warning.\n",
            "  data_train['body'] = data_train.groupby(['make', 'model'])['body'].transform(fillna_mode);\n",
            "C:\\Users\\Анастасия\\AppData\\Local\\Temp\\ipykernel_22752\\274250965.py:5: FutureWarning: The default dtype for empty Series will be 'object' instead of 'float64' in a future version. Specify a dtype explicitly to silence this warning.\n",
            "  data_train['body'] = data_train.groupby(['make', 'model'])['body'].transform(fillna_mode);\n",
            "C:\\Users\\Анастасия\\AppData\\Local\\Temp\\ipykernel_22752\\274250965.py:5: FutureWarning: The default dtype for empty Series will be 'object' instead of 'float64' in a future version. Specify a dtype explicitly to silence this warning.\n",
            "  data_train['body'] = data_train.groupby(['make', 'model'])['body'].transform(fillna_mode);\n",
            "C:\\Users\\Анастасия\\AppData\\Local\\Temp\\ipykernel_22752\\274250965.py:5: FutureWarning: The default dtype for empty Series will be 'object' instead of 'float64' in a future version. Specify a dtype explicitly to silence this warning.\n",
            "  data_train['body'] = data_train.groupby(['make', 'model'])['body'].transform(fillna_mode);\n",
            "C:\\Users\\Анастасия\\AppData\\Local\\Temp\\ipykernel_22752\\274250965.py:5: FutureWarning: The default dtype for empty Series will be 'object' instead of 'float64' in a future version. Specify a dtype explicitly to silence this warning.\n",
            "  data_train['body'] = data_train.groupby(['make', 'model'])['body'].transform(fillna_mode);\n",
            "C:\\Users\\Анастасия\\AppData\\Local\\Temp\\ipykernel_22752\\274250965.py:5: FutureWarning: The default dtype for empty Series will be 'object' instead of 'float64' in a future version. Specify a dtype explicitly to silence this warning.\n",
            "  data_train['body'] = data_train.groupby(['make', 'model'])['body'].transform(fillna_mode);\n",
            "C:\\Users\\Анастасия\\AppData\\Local\\Temp\\ipykernel_22752\\274250965.py:5: FutureWarning: The default dtype for empty Series will be 'object' instead of 'float64' in a future version. Specify a dtype explicitly to silence this warning.\n",
            "  data_train['body'] = data_train.groupby(['make', 'model'])['body'].transform(fillna_mode);\n",
            "C:\\Users\\Анастасия\\AppData\\Local\\Temp\\ipykernel_22752\\274250965.py:5: FutureWarning: The default dtype for empty Series will be 'object' instead of 'float64' in a future version. Specify a dtype explicitly to silence this warning.\n",
            "  data_train['body'] = data_train.groupby(['make', 'model'])['body'].transform(fillna_mode);\n",
            "C:\\Users\\Анастасия\\AppData\\Local\\Temp\\ipykernel_22752\\274250965.py:5: FutureWarning: The default dtype for empty Series will be 'object' instead of 'float64' in a future version. Specify a dtype explicitly to silence this warning.\n",
            "  data_train['body'] = data_train.groupby(['make', 'model'])['body'].transform(fillna_mode);\n",
            "C:\\Users\\Анастасия\\AppData\\Local\\Temp\\ipykernel_22752\\274250965.py:5: FutureWarning: The default dtype for empty Series will be 'object' instead of 'float64' in a future version. Specify a dtype explicitly to silence this warning.\n",
            "  data_train['body'] = data_train.groupby(['make', 'model'])['body'].transform(fillna_mode);\n",
            "C:\\Users\\Анастасия\\AppData\\Local\\Temp\\ipykernel_22752\\274250965.py:5: FutureWarning: The default dtype for empty Series will be 'object' instead of 'float64' in a future version. Specify a dtype explicitly to silence this warning.\n",
            "  data_train['body'] = data_train.groupby(['make', 'model'])['body'].transform(fillna_mode);\n",
            "C:\\Users\\Анастасия\\AppData\\Local\\Temp\\ipykernel_22752\\274250965.py:5: FutureWarning: The default dtype for empty Series will be 'object' instead of 'float64' in a future version. Specify a dtype explicitly to silence this warning.\n",
            "  data_train['body'] = data_train.groupby(['make', 'model'])['body'].transform(fillna_mode);\n",
            "C:\\Users\\Анастасия\\AppData\\Local\\Temp\\ipykernel_22752\\274250965.py:5: FutureWarning: The default dtype for empty Series will be 'object' instead of 'float64' in a future version. Specify a dtype explicitly to silence this warning.\n",
            "  data_train['body'] = data_train.groupby(['make', 'model'])['body'].transform(fillna_mode);\n",
            "C:\\Users\\Анастасия\\AppData\\Local\\Temp\\ipykernel_22752\\274250965.py:5: FutureWarning: The default dtype for empty Series will be 'object' instead of 'float64' in a future version. Specify a dtype explicitly to silence this warning.\n",
            "  data_train['body'] = data_train.groupby(['make', 'model'])['body'].transform(fillna_mode);\n",
            "C:\\Users\\Анастасия\\AppData\\Local\\Temp\\ipykernel_22752\\274250965.py:5: FutureWarning: The default dtype for empty Series will be 'object' instead of 'float64' in a future version. Specify a dtype explicitly to silence this warning.\n",
            "  data_train['body'] = data_train.groupby(['make', 'model'])['body'].transform(fillna_mode);\n",
            "C:\\Users\\Анастасия\\AppData\\Local\\Temp\\ipykernel_22752\\274250965.py:5: FutureWarning: The default dtype for empty Series will be 'object' instead of 'float64' in a future version. Specify a dtype explicitly to silence this warning.\n",
            "  data_train['body'] = data_train.groupby(['make', 'model'])['body'].transform(fillna_mode);\n",
            "C:\\Users\\Анастасия\\AppData\\Local\\Temp\\ipykernel_22752\\274250965.py:5: FutureWarning: The default dtype for empty Series will be 'object' instead of 'float64' in a future version. Specify a dtype explicitly to silence this warning.\n",
            "  data_train['body'] = data_train.groupby(['make', 'model'])['body'].transform(fillna_mode);\n",
            "C:\\Users\\Анастасия\\AppData\\Local\\Temp\\ipykernel_22752\\274250965.py:5: FutureWarning: The default dtype for empty Series will be 'object' instead of 'float64' in a future version. Specify a dtype explicitly to silence this warning.\n",
            "  data_train['body'] = data_train.groupby(['make', 'model'])['body'].transform(fillna_mode);\n",
            "C:\\Users\\Анастасия\\AppData\\Local\\Temp\\ipykernel_22752\\274250965.py:5: FutureWarning: The default dtype for empty Series will be 'object' instead of 'float64' in a future version. Specify a dtype explicitly to silence this warning.\n",
            "  data_train['body'] = data_train.groupby(['make', 'model'])['body'].transform(fillna_mode);\n",
            "C:\\Users\\Анастасия\\AppData\\Local\\Temp\\ipykernel_22752\\274250965.py:5: FutureWarning: The default dtype for empty Series will be 'object' instead of 'float64' in a future version. Specify a dtype explicitly to silence this warning.\n",
            "  data_train['body'] = data_train.groupby(['make', 'model'])['body'].transform(fillna_mode);\n",
            "C:\\Users\\Анастасия\\AppData\\Local\\Temp\\ipykernel_22752\\274250965.py:5: FutureWarning: The default dtype for empty Series will be 'object' instead of 'float64' in a future version. Specify a dtype explicitly to silence this warning.\n",
            "  data_train['body'] = data_train.groupby(['make', 'model'])['body'].transform(fillna_mode);\n",
            "C:\\Users\\Анастасия\\AppData\\Local\\Temp\\ipykernel_22752\\274250965.py:5: FutureWarning: The default dtype for empty Series will be 'object' instead of 'float64' in a future version. Specify a dtype explicitly to silence this warning.\n",
            "  data_train['body'] = data_train.groupby(['make', 'model'])['body'].transform(fillna_mode);\n",
            "C:\\Users\\Анастасия\\AppData\\Local\\Temp\\ipykernel_22752\\274250965.py:5: FutureWarning: The default dtype for empty Series will be 'object' instead of 'float64' in a future version. Specify a dtype explicitly to silence this warning.\n",
            "  data_train['body'] = data_train.groupby(['make', 'model'])['body'].transform(fillna_mode);\n",
            "C:\\Users\\Анастасия\\AppData\\Local\\Temp\\ipykernel_22752\\274250965.py:5: FutureWarning: The default dtype for empty Series will be 'object' instead of 'float64' in a future version. Specify a dtype explicitly to silence this warning.\n",
            "  data_train['body'] = data_train.groupby(['make', 'model'])['body'].transform(fillna_mode);\n",
            "C:\\Users\\Анастасия\\AppData\\Local\\Temp\\ipykernel_22752\\274250965.py:5: FutureWarning: The default dtype for empty Series will be 'object' instead of 'float64' in a future version. Specify a dtype explicitly to silence this warning.\n",
            "  data_train['body'] = data_train.groupby(['make', 'model'])['body'].transform(fillna_mode);\n",
            "C:\\Users\\Анастасия\\AppData\\Local\\Temp\\ipykernel_22752\\274250965.py:5: FutureWarning: The default dtype for empty Series will be 'object' instead of 'float64' in a future version. Specify a dtype explicitly to silence this warning.\n",
            "  data_train['body'] = data_train.groupby(['make', 'model'])['body'].transform(fillna_mode);\n",
            "C:\\Users\\Анастасия\\AppData\\Local\\Temp\\ipykernel_22752\\274250965.py:5: FutureWarning: The default dtype for empty Series will be 'object' instead of 'float64' in a future version. Specify a dtype explicitly to silence this warning.\n",
            "  data_train['body'] = data_train.groupby(['make', 'model'])['body'].transform(fillna_mode);\n",
            "C:\\Users\\Анастасия\\AppData\\Local\\Temp\\ipykernel_22752\\274250965.py:5: FutureWarning: The default dtype for empty Series will be 'object' instead of 'float64' in a future version. Specify a dtype explicitly to silence this warning.\n",
            "  data_train['body'] = data_train.groupby(['make', 'model'])['body'].transform(fillna_mode);\n",
            "C:\\Users\\Анастасия\\AppData\\Local\\Temp\\ipykernel_22752\\274250965.py:5: FutureWarning: The default dtype for empty Series will be 'object' instead of 'float64' in a future version. Specify a dtype explicitly to silence this warning.\n",
            "  data_train['body'] = data_train.groupby(['make', 'model'])['body'].transform(fillna_mode);\n",
            "C:\\Users\\Анастасия\\AppData\\Local\\Temp\\ipykernel_22752\\274250965.py:5: FutureWarning: The default dtype for empty Series will be 'object' instead of 'float64' in a future version. Specify a dtype explicitly to silence this warning.\n",
            "  data_train['body'] = data_train.groupby(['make', 'model'])['body'].transform(fillna_mode);\n",
            "C:\\Users\\Анастасия\\AppData\\Local\\Temp\\ipykernel_22752\\274250965.py:5: FutureWarning: The default dtype for empty Series will be 'object' instead of 'float64' in a future version. Specify a dtype explicitly to silence this warning.\n",
            "  data_train['body'] = data_train.groupby(['make', 'model'])['body'].transform(fillna_mode);\n",
            "C:\\Users\\Анастасия\\AppData\\Local\\Temp\\ipykernel_22752\\274250965.py:5: FutureWarning: The default dtype for empty Series will be 'object' instead of 'float64' in a future version. Specify a dtype explicitly to silence this warning.\n",
            "  data_train['body'] = data_train.groupby(['make', 'model'])['body'].transform(fillna_mode);\n",
            "C:\\Users\\Анастасия\\AppData\\Local\\Temp\\ipykernel_22752\\274250965.py:5: FutureWarning: The default dtype for empty Series will be 'object' instead of 'float64' in a future version. Specify a dtype explicitly to silence this warning.\n",
            "  data_train['body'] = data_train.groupby(['make', 'model'])['body'].transform(fillna_mode);\n",
            "C:\\Users\\Анастасия\\AppData\\Local\\Temp\\ipykernel_22752\\274250965.py:5: FutureWarning: The default dtype for empty Series will be 'object' instead of 'float64' in a future version. Specify a dtype explicitly to silence this warning.\n",
            "  data_train['body'] = data_train.groupby(['make', 'model'])['body'].transform(fillna_mode);\n",
            "C:\\Users\\Анастасия\\AppData\\Local\\Temp\\ipykernel_22752\\274250965.py:5: FutureWarning: The default dtype for empty Series will be 'object' instead of 'float64' in a future version. Specify a dtype explicitly to silence this warning.\n",
            "  data_train['body'] = data_train.groupby(['make', 'model'])['body'].transform(fillna_mode);\n",
            "C:\\Users\\Анастасия\\AppData\\Local\\Temp\\ipykernel_22752\\274250965.py:5: FutureWarning: The default dtype for empty Series will be 'object' instead of 'float64' in a future version. Specify a dtype explicitly to silence this warning.\n",
            "  data_train['body'] = data_train.groupby(['make', 'model'])['body'].transform(fillna_mode);\n",
            "C:\\Users\\Анастасия\\AppData\\Local\\Temp\\ipykernel_22752\\274250965.py:5: FutureWarning: The default dtype for empty Series will be 'object' instead of 'float64' in a future version. Specify a dtype explicitly to silence this warning.\n",
            "  data_train['body'] = data_train.groupby(['make', 'model'])['body'].transform(fillna_mode);\n",
            "C:\\Users\\Анастасия\\AppData\\Local\\Temp\\ipykernel_22752\\274250965.py:5: FutureWarning: The default dtype for empty Series will be 'object' instead of 'float64' in a future version. Specify a dtype explicitly to silence this warning.\n",
            "  data_train['body'] = data_train.groupby(['make', 'model'])['body'].transform(fillna_mode);\n",
            "C:\\Users\\Анастасия\\AppData\\Local\\Temp\\ipykernel_22752\\274250965.py:5: FutureWarning: The default dtype for empty Series will be 'object' instead of 'float64' in a future version. Specify a dtype explicitly to silence this warning.\n",
            "  data_train['body'] = data_train.groupby(['make', 'model'])['body'].transform(fillna_mode);\n",
            "C:\\Users\\Анастасия\\AppData\\Local\\Temp\\ipykernel_22752\\274250965.py:5: FutureWarning: The default dtype for empty Series will be 'object' instead of 'float64' in a future version. Specify a dtype explicitly to silence this warning.\n",
            "  data_train['body'] = data_train.groupby(['make', 'model'])['body'].transform(fillna_mode);\n",
            "C:\\Users\\Анастасия\\AppData\\Local\\Temp\\ipykernel_22752\\274250965.py:5: FutureWarning: The default dtype for empty Series will be 'object' instead of 'float64' in a future version. Specify a dtype explicitly to silence this warning.\n",
            "  data_train['body'] = data_train.groupby(['make', 'model'])['body'].transform(fillna_mode);\n",
            "C:\\Users\\Анастасия\\AppData\\Local\\Temp\\ipykernel_22752\\274250965.py:5: FutureWarning: The default dtype for empty Series will be 'object' instead of 'float64' in a future version. Specify a dtype explicitly to silence this warning.\n",
            "  data_train['body'] = data_train.groupby(['make', 'model'])['body'].transform(fillna_mode);\n",
            "C:\\Users\\Анастасия\\AppData\\Local\\Temp\\ipykernel_22752\\274250965.py:5: FutureWarning: The default dtype for empty Series will be 'object' instead of 'float64' in a future version. Specify a dtype explicitly to silence this warning.\n",
            "  data_train['body'] = data_train.groupby(['make', 'model'])['body'].transform(fillna_mode);\n",
            "C:\\Users\\Анастасия\\AppData\\Local\\Temp\\ipykernel_22752\\274250965.py:5: FutureWarning: The default dtype for empty Series will be 'object' instead of 'float64' in a future version. Specify a dtype explicitly to silence this warning.\n",
            "  data_train['body'] = data_train.groupby(['make', 'model'])['body'].transform(fillna_mode);\n",
            "C:\\Users\\Анастасия\\AppData\\Local\\Temp\\ipykernel_22752\\274250965.py:5: FutureWarning: The default dtype for empty Series will be 'object' instead of 'float64' in a future version. Specify a dtype explicitly to silence this warning.\n",
            "  data_train['body'] = data_train.groupby(['make', 'model'])['body'].transform(fillna_mode);\n",
            "C:\\Users\\Анастасия\\AppData\\Local\\Temp\\ipykernel_22752\\274250965.py:5: FutureWarning: The default dtype for empty Series will be 'object' instead of 'float64' in a future version. Specify a dtype explicitly to silence this warning.\n",
            "  data_train['body'] = data_train.groupby(['make', 'model'])['body'].transform(fillna_mode);\n",
            "C:\\Users\\Анастасия\\AppData\\Local\\Temp\\ipykernel_22752\\274250965.py:5: FutureWarning: The default dtype for empty Series will be 'object' instead of 'float64' in a future version. Specify a dtype explicitly to silence this warning.\n",
            "  data_train['body'] = data_train.groupby(['make', 'model'])['body'].transform(fillna_mode);\n",
            "C:\\Users\\Анастасия\\AppData\\Local\\Temp\\ipykernel_22752\\274250965.py:5: FutureWarning: The default dtype for empty Series will be 'object' instead of 'float64' in a future version. Specify a dtype explicitly to silence this warning.\n",
            "  data_train['body'] = data_train.groupby(['make', 'model'])['body'].transform(fillna_mode);\n",
            "C:\\Users\\Анастасия\\AppData\\Local\\Temp\\ipykernel_22752\\274250965.py:5: FutureWarning: The default dtype for empty Series will be 'object' instead of 'float64' in a future version. Specify a dtype explicitly to silence this warning.\n",
            "  data_train['body'] = data_train.groupby(['make', 'model'])['body'].transform(fillna_mode);\n",
            "C:\\Users\\Анастасия\\AppData\\Local\\Temp\\ipykernel_22752\\274250965.py:5: FutureWarning: The default dtype for empty Series will be 'object' instead of 'float64' in a future version. Specify a dtype explicitly to silence this warning.\n",
            "  data_train['body'] = data_train.groupby(['make', 'model'])['body'].transform(fillna_mode);\n",
            "C:\\Users\\Анастасия\\AppData\\Local\\Temp\\ipykernel_22752\\274250965.py:5: FutureWarning: The default dtype for empty Series will be 'object' instead of 'float64' in a future version. Specify a dtype explicitly to silence this warning.\n",
            "  data_train['body'] = data_train.groupby(['make', 'model'])['body'].transform(fillna_mode);\n",
            "C:\\Users\\Анастасия\\AppData\\Local\\Temp\\ipykernel_22752\\274250965.py:5: FutureWarning: The default dtype for empty Series will be 'object' instead of 'float64' in a future version. Specify a dtype explicitly to silence this warning.\n",
            "  data_train['body'] = data_train.groupby(['make', 'model'])['body'].transform(fillna_mode);\n",
            "C:\\Users\\Анастасия\\AppData\\Local\\Temp\\ipykernel_22752\\274250965.py:5: FutureWarning: The default dtype for empty Series will be 'object' instead of 'float64' in a future version. Specify a dtype explicitly to silence this warning.\n",
            "  data_train['body'] = data_train.groupby(['make', 'model'])['body'].transform(fillna_mode);\n",
            "C:\\Users\\Анастасия\\AppData\\Local\\Temp\\ipykernel_22752\\274250965.py:5: FutureWarning: The default dtype for empty Series will be 'object' instead of 'float64' in a future version. Specify a dtype explicitly to silence this warning.\n",
            "  data_train['body'] = data_train.groupby(['make', 'model'])['body'].transform(fillna_mode);\n",
            "C:\\Users\\Анастасия\\AppData\\Local\\Temp\\ipykernel_22752\\274250965.py:5: FutureWarning: The default dtype for empty Series will be 'object' instead of 'float64' in a future version. Specify a dtype explicitly to silence this warning.\n",
            "  data_train['body'] = data_train.groupby(['make', 'model'])['body'].transform(fillna_mode);\n",
            "C:\\Users\\Анастасия\\AppData\\Local\\Temp\\ipykernel_22752\\274250965.py:5: FutureWarning: The default dtype for empty Series will be 'object' instead of 'float64' in a future version. Specify a dtype explicitly to silence this warning.\n",
            "  data_train['body'] = data_train.groupby(['make', 'model'])['body'].transform(fillna_mode);\n"
          ]
        }
      ],
      "source": [
        "def fillna_mode(x):\n",
        "    mode = x.mode()\n",
        "    return mode[0] if not mode.empty else None\n",
        "\n",
        "data_train['body'] = data_train.groupby(['make', 'model'])['body'].transform(fillna_mode);\n"
      ]
    },
    {
      "cell_type": "code",
      "execution_count": 26,
      "metadata": {
        "colab": {
          "base_uri": "https://localhost:8080/"
        },
        "id": "CmxVyMaiaEBc",
        "outputId": "955fddc7-5374-498c-9083-d4bdeb1c023b"
      },
      "outputs": [
        {
          "name": "stderr",
          "output_type": "stream",
          "text": [
            "C:\\Users\\Анастасия\\AppData\\Local\\Temp\\ipykernel_22752\\2816788744.py:1: FutureWarning: The default dtype for empty Series will be 'object' instead of 'float64' in a future version. Specify a dtype explicitly to silence this warning.\n",
            "  data_test['body'] = data_test.groupby(['make', 'model'])['body'].transform(fillna_mode);\n",
            "C:\\Users\\Анастасия\\AppData\\Local\\Temp\\ipykernel_22752\\2816788744.py:1: FutureWarning: The default dtype for empty Series will be 'object' instead of 'float64' in a future version. Specify a dtype explicitly to silence this warning.\n",
            "  data_test['body'] = data_test.groupby(['make', 'model'])['body'].transform(fillna_mode);\n",
            "C:\\Users\\Анастасия\\AppData\\Local\\Temp\\ipykernel_22752\\2816788744.py:1: FutureWarning: The default dtype for empty Series will be 'object' instead of 'float64' in a future version. Specify a dtype explicitly to silence this warning.\n",
            "  data_test['body'] = data_test.groupby(['make', 'model'])['body'].transform(fillna_mode);\n",
            "C:\\Users\\Анастасия\\AppData\\Local\\Temp\\ipykernel_22752\\2816788744.py:1: FutureWarning: The default dtype for empty Series will be 'object' instead of 'float64' in a future version. Specify a dtype explicitly to silence this warning.\n",
            "  data_test['body'] = data_test.groupby(['make', 'model'])['body'].transform(fillna_mode);\n",
            "C:\\Users\\Анастасия\\AppData\\Local\\Temp\\ipykernel_22752\\2816788744.py:1: FutureWarning: The default dtype for empty Series will be 'object' instead of 'float64' in a future version. Specify a dtype explicitly to silence this warning.\n",
            "  data_test['body'] = data_test.groupby(['make', 'model'])['body'].transform(fillna_mode);\n",
            "C:\\Users\\Анастасия\\AppData\\Local\\Temp\\ipykernel_22752\\2816788744.py:1: FutureWarning: The default dtype for empty Series will be 'object' instead of 'float64' in a future version. Specify a dtype explicitly to silence this warning.\n",
            "  data_test['body'] = data_test.groupby(['make', 'model'])['body'].transform(fillna_mode);\n",
            "C:\\Users\\Анастасия\\AppData\\Local\\Temp\\ipykernel_22752\\2816788744.py:1: FutureWarning: The default dtype for empty Series will be 'object' instead of 'float64' in a future version. Specify a dtype explicitly to silence this warning.\n",
            "  data_test['body'] = data_test.groupby(['make', 'model'])['body'].transform(fillna_mode);\n",
            "C:\\Users\\Анастасия\\AppData\\Local\\Temp\\ipykernel_22752\\2816788744.py:1: FutureWarning: The default dtype for empty Series will be 'object' instead of 'float64' in a future version. Specify a dtype explicitly to silence this warning.\n",
            "  data_test['body'] = data_test.groupby(['make', 'model'])['body'].transform(fillna_mode);\n",
            "C:\\Users\\Анастасия\\AppData\\Local\\Temp\\ipykernel_22752\\2816788744.py:1: FutureWarning: The default dtype for empty Series will be 'object' instead of 'float64' in a future version. Specify a dtype explicitly to silence this warning.\n",
            "  data_test['body'] = data_test.groupby(['make', 'model'])['body'].transform(fillna_mode);\n",
            "C:\\Users\\Анастасия\\AppData\\Local\\Temp\\ipykernel_22752\\2816788744.py:1: FutureWarning: The default dtype for empty Series will be 'object' instead of 'float64' in a future version. Specify a dtype explicitly to silence this warning.\n",
            "  data_test['body'] = data_test.groupby(['make', 'model'])['body'].transform(fillna_mode);\n",
            "C:\\Users\\Анастасия\\AppData\\Local\\Temp\\ipykernel_22752\\2816788744.py:1: FutureWarning: The default dtype for empty Series will be 'object' instead of 'float64' in a future version. Specify a dtype explicitly to silence this warning.\n",
            "  data_test['body'] = data_test.groupby(['make', 'model'])['body'].transform(fillna_mode);\n",
            "C:\\Users\\Анастасия\\AppData\\Local\\Temp\\ipykernel_22752\\2816788744.py:1: FutureWarning: The default dtype for empty Series will be 'object' instead of 'float64' in a future version. Specify a dtype explicitly to silence this warning.\n",
            "  data_test['body'] = data_test.groupby(['make', 'model'])['body'].transform(fillna_mode);\n",
            "C:\\Users\\Анастасия\\AppData\\Local\\Temp\\ipykernel_22752\\2816788744.py:1: FutureWarning: The default dtype for empty Series will be 'object' instead of 'float64' in a future version. Specify a dtype explicitly to silence this warning.\n",
            "  data_test['body'] = data_test.groupby(['make', 'model'])['body'].transform(fillna_mode);\n",
            "C:\\Users\\Анастасия\\AppData\\Local\\Temp\\ipykernel_22752\\2816788744.py:1: FutureWarning: The default dtype for empty Series will be 'object' instead of 'float64' in a future version. Specify a dtype explicitly to silence this warning.\n",
            "  data_test['body'] = data_test.groupby(['make', 'model'])['body'].transform(fillna_mode);\n",
            "C:\\Users\\Анастасия\\AppData\\Local\\Temp\\ipykernel_22752\\2816788744.py:1: FutureWarning: The default dtype for empty Series will be 'object' instead of 'float64' in a future version. Specify a dtype explicitly to silence this warning.\n",
            "  data_test['body'] = data_test.groupby(['make', 'model'])['body'].transform(fillna_mode);\n",
            "C:\\Users\\Анастасия\\AppData\\Local\\Temp\\ipykernel_22752\\2816788744.py:1: FutureWarning: The default dtype for empty Series will be 'object' instead of 'float64' in a future version. Specify a dtype explicitly to silence this warning.\n",
            "  data_test['body'] = data_test.groupby(['make', 'model'])['body'].transform(fillna_mode);\n",
            "C:\\Users\\Анастасия\\AppData\\Local\\Temp\\ipykernel_22752\\2816788744.py:1: FutureWarning: The default dtype for empty Series will be 'object' instead of 'float64' in a future version. Specify a dtype explicitly to silence this warning.\n",
            "  data_test['body'] = data_test.groupby(['make', 'model'])['body'].transform(fillna_mode);\n",
            "C:\\Users\\Анастасия\\AppData\\Local\\Temp\\ipykernel_22752\\2816788744.py:1: FutureWarning: The default dtype for empty Series will be 'object' instead of 'float64' in a future version. Specify a dtype explicitly to silence this warning.\n",
            "  data_test['body'] = data_test.groupby(['make', 'model'])['body'].transform(fillna_mode);\n",
            "C:\\Users\\Анастасия\\AppData\\Local\\Temp\\ipykernel_22752\\2816788744.py:1: FutureWarning: The default dtype for empty Series will be 'object' instead of 'float64' in a future version. Specify a dtype explicitly to silence this warning.\n",
            "  data_test['body'] = data_test.groupby(['make', 'model'])['body'].transform(fillna_mode);\n",
            "C:\\Users\\Анастасия\\AppData\\Local\\Temp\\ipykernel_22752\\2816788744.py:1: FutureWarning: The default dtype for empty Series will be 'object' instead of 'float64' in a future version. Specify a dtype explicitly to silence this warning.\n",
            "  data_test['body'] = data_test.groupby(['make', 'model'])['body'].transform(fillna_mode);\n",
            "C:\\Users\\Анастасия\\AppData\\Local\\Temp\\ipykernel_22752\\2816788744.py:1: FutureWarning: The default dtype for empty Series will be 'object' instead of 'float64' in a future version. Specify a dtype explicitly to silence this warning.\n",
            "  data_test['body'] = data_test.groupby(['make', 'model'])['body'].transform(fillna_mode);\n",
            "C:\\Users\\Анастасия\\AppData\\Local\\Temp\\ipykernel_22752\\2816788744.py:1: FutureWarning: The default dtype for empty Series will be 'object' instead of 'float64' in a future version. Specify a dtype explicitly to silence this warning.\n",
            "  data_test['body'] = data_test.groupby(['make', 'model'])['body'].transform(fillna_mode);\n",
            "C:\\Users\\Анастасия\\AppData\\Local\\Temp\\ipykernel_22752\\2816788744.py:1: FutureWarning: The default dtype for empty Series will be 'object' instead of 'float64' in a future version. Specify a dtype explicitly to silence this warning.\n",
            "  data_test['body'] = data_test.groupby(['make', 'model'])['body'].transform(fillna_mode);\n",
            "C:\\Users\\Анастасия\\AppData\\Local\\Temp\\ipykernel_22752\\2816788744.py:1: FutureWarning: The default dtype for empty Series will be 'object' instead of 'float64' in a future version. Specify a dtype explicitly to silence this warning.\n",
            "  data_test['body'] = data_test.groupby(['make', 'model'])['body'].transform(fillna_mode);\n",
            "C:\\Users\\Анастасия\\AppData\\Local\\Temp\\ipykernel_22752\\2816788744.py:1: FutureWarning: The default dtype for empty Series will be 'object' instead of 'float64' in a future version. Specify a dtype explicitly to silence this warning.\n",
            "  data_test['body'] = data_test.groupby(['make', 'model'])['body'].transform(fillna_mode);\n",
            "C:\\Users\\Анастасия\\AppData\\Local\\Temp\\ipykernel_22752\\2816788744.py:1: FutureWarning: The default dtype for empty Series will be 'object' instead of 'float64' in a future version. Specify a dtype explicitly to silence this warning.\n",
            "  data_test['body'] = data_test.groupby(['make', 'model'])['body'].transform(fillna_mode);\n",
            "C:\\Users\\Анастасия\\AppData\\Local\\Temp\\ipykernel_22752\\2816788744.py:1: FutureWarning: The default dtype for empty Series will be 'object' instead of 'float64' in a future version. Specify a dtype explicitly to silence this warning.\n",
            "  data_test['body'] = data_test.groupby(['make', 'model'])['body'].transform(fillna_mode);\n",
            "C:\\Users\\Анастасия\\AppData\\Local\\Temp\\ipykernel_22752\\2816788744.py:1: FutureWarning: The default dtype for empty Series will be 'object' instead of 'float64' in a future version. Specify a dtype explicitly to silence this warning.\n",
            "  data_test['body'] = data_test.groupby(['make', 'model'])['body'].transform(fillna_mode);\n",
            "C:\\Users\\Анастасия\\AppData\\Local\\Temp\\ipykernel_22752\\2816788744.py:1: FutureWarning: The default dtype for empty Series will be 'object' instead of 'float64' in a future version. Specify a dtype explicitly to silence this warning.\n",
            "  data_test['body'] = data_test.groupby(['make', 'model'])['body'].transform(fillna_mode);\n",
            "C:\\Users\\Анастасия\\AppData\\Local\\Temp\\ipykernel_22752\\2816788744.py:1: FutureWarning: The default dtype for empty Series will be 'object' instead of 'float64' in a future version. Specify a dtype explicitly to silence this warning.\n",
            "  data_test['body'] = data_test.groupby(['make', 'model'])['body'].transform(fillna_mode);\n",
            "C:\\Users\\Анастасия\\AppData\\Local\\Temp\\ipykernel_22752\\2816788744.py:1: FutureWarning: The default dtype for empty Series will be 'object' instead of 'float64' in a future version. Specify a dtype explicitly to silence this warning.\n",
            "  data_test['body'] = data_test.groupby(['make', 'model'])['body'].transform(fillna_mode);\n",
            "C:\\Users\\Анастасия\\AppData\\Local\\Temp\\ipykernel_22752\\2816788744.py:1: FutureWarning: The default dtype for empty Series will be 'object' instead of 'float64' in a future version. Specify a dtype explicitly to silence this warning.\n",
            "  data_test['body'] = data_test.groupby(['make', 'model'])['body'].transform(fillna_mode);\n",
            "C:\\Users\\Анастасия\\AppData\\Local\\Temp\\ipykernel_22752\\2816788744.py:1: FutureWarning: The default dtype for empty Series will be 'object' instead of 'float64' in a future version. Specify a dtype explicitly to silence this warning.\n",
            "  data_test['body'] = data_test.groupby(['make', 'model'])['body'].transform(fillna_mode);\n",
            "C:\\Users\\Анастасия\\AppData\\Local\\Temp\\ipykernel_22752\\2816788744.py:1: FutureWarning: The default dtype for empty Series will be 'object' instead of 'float64' in a future version. Specify a dtype explicitly to silence this warning.\n",
            "  data_test['body'] = data_test.groupby(['make', 'model'])['body'].transform(fillna_mode);\n",
            "C:\\Users\\Анастасия\\AppData\\Local\\Temp\\ipykernel_22752\\2816788744.py:1: FutureWarning: The default dtype for empty Series will be 'object' instead of 'float64' in a future version. Specify a dtype explicitly to silence this warning.\n",
            "  data_test['body'] = data_test.groupby(['make', 'model'])['body'].transform(fillna_mode);\n",
            "C:\\Users\\Анастасия\\AppData\\Local\\Temp\\ipykernel_22752\\2816788744.py:1: FutureWarning: The default dtype for empty Series will be 'object' instead of 'float64' in a future version. Specify a dtype explicitly to silence this warning.\n",
            "  data_test['body'] = data_test.groupby(['make', 'model'])['body'].transform(fillna_mode);\n",
            "C:\\Users\\Анастасия\\AppData\\Local\\Temp\\ipykernel_22752\\2816788744.py:1: FutureWarning: The default dtype for empty Series will be 'object' instead of 'float64' in a future version. Specify a dtype explicitly to silence this warning.\n",
            "  data_test['body'] = data_test.groupby(['make', 'model'])['body'].transform(fillna_mode);\n",
            "C:\\Users\\Анастасия\\AppData\\Local\\Temp\\ipykernel_22752\\2816788744.py:1: FutureWarning: The default dtype for empty Series will be 'object' instead of 'float64' in a future version. Specify a dtype explicitly to silence this warning.\n",
            "  data_test['body'] = data_test.groupby(['make', 'model'])['body'].transform(fillna_mode);\n",
            "C:\\Users\\Анастасия\\AppData\\Local\\Temp\\ipykernel_22752\\2816788744.py:1: FutureWarning: The default dtype for empty Series will be 'object' instead of 'float64' in a future version. Specify a dtype explicitly to silence this warning.\n",
            "  data_test['body'] = data_test.groupby(['make', 'model'])['body'].transform(fillna_mode);\n",
            "C:\\Users\\Анастасия\\AppData\\Local\\Temp\\ipykernel_22752\\2816788744.py:1: FutureWarning: The default dtype for empty Series will be 'object' instead of 'float64' in a future version. Specify a dtype explicitly to silence this warning.\n",
            "  data_test['body'] = data_test.groupby(['make', 'model'])['body'].transform(fillna_mode);\n",
            "C:\\Users\\Анастасия\\AppData\\Local\\Temp\\ipykernel_22752\\2816788744.py:1: FutureWarning: The default dtype for empty Series will be 'object' instead of 'float64' in a future version. Specify a dtype explicitly to silence this warning.\n",
            "  data_test['body'] = data_test.groupby(['make', 'model'])['body'].transform(fillna_mode);\n",
            "C:\\Users\\Анастасия\\AppData\\Local\\Temp\\ipykernel_22752\\2816788744.py:1: FutureWarning: The default dtype for empty Series will be 'object' instead of 'float64' in a future version. Specify a dtype explicitly to silence this warning.\n",
            "  data_test['body'] = data_test.groupby(['make', 'model'])['body'].transform(fillna_mode);\n",
            "C:\\Users\\Анастасия\\AppData\\Local\\Temp\\ipykernel_22752\\2816788744.py:1: FutureWarning: The default dtype for empty Series will be 'object' instead of 'float64' in a future version. Specify a dtype explicitly to silence this warning.\n",
            "  data_test['body'] = data_test.groupby(['make', 'model'])['body'].transform(fillna_mode);\n",
            "C:\\Users\\Анастасия\\AppData\\Local\\Temp\\ipykernel_22752\\2816788744.py:1: FutureWarning: The default dtype for empty Series will be 'object' instead of 'float64' in a future version. Specify a dtype explicitly to silence this warning.\n",
            "  data_test['body'] = data_test.groupby(['make', 'model'])['body'].transform(fillna_mode);\n",
            "C:\\Users\\Анастасия\\AppData\\Local\\Temp\\ipykernel_22752\\2816788744.py:1: FutureWarning: The default dtype for empty Series will be 'object' instead of 'float64' in a future version. Specify a dtype explicitly to silence this warning.\n",
            "  data_test['body'] = data_test.groupby(['make', 'model'])['body'].transform(fillna_mode);\n",
            "C:\\Users\\Анастасия\\AppData\\Local\\Temp\\ipykernel_22752\\2816788744.py:1: FutureWarning: The default dtype for empty Series will be 'object' instead of 'float64' in a future version. Specify a dtype explicitly to silence this warning.\n",
            "  data_test['body'] = data_test.groupby(['make', 'model'])['body'].transform(fillna_mode);\n",
            "C:\\Users\\Анастасия\\AppData\\Local\\Temp\\ipykernel_22752\\2816788744.py:1: FutureWarning: The default dtype for empty Series will be 'object' instead of 'float64' in a future version. Specify a dtype explicitly to silence this warning.\n",
            "  data_test['body'] = data_test.groupby(['make', 'model'])['body'].transform(fillna_mode);\n",
            "C:\\Users\\Анастасия\\AppData\\Local\\Temp\\ipykernel_22752\\2816788744.py:1: FutureWarning: The default dtype for empty Series will be 'object' instead of 'float64' in a future version. Specify a dtype explicitly to silence this warning.\n",
            "  data_test['body'] = data_test.groupby(['make', 'model'])['body'].transform(fillna_mode);\n",
            "C:\\Users\\Анастасия\\AppData\\Local\\Temp\\ipykernel_22752\\2816788744.py:1: FutureWarning: The default dtype for empty Series will be 'object' instead of 'float64' in a future version. Specify a dtype explicitly to silence this warning.\n",
            "  data_test['body'] = data_test.groupby(['make', 'model'])['body'].transform(fillna_mode);\n",
            "C:\\Users\\Анастасия\\AppData\\Local\\Temp\\ipykernel_22752\\2816788744.py:1: FutureWarning: The default dtype for empty Series will be 'object' instead of 'float64' in a future version. Specify a dtype explicitly to silence this warning.\n",
            "  data_test['body'] = data_test.groupby(['make', 'model'])['body'].transform(fillna_mode);\n",
            "C:\\Users\\Анастасия\\AppData\\Local\\Temp\\ipykernel_22752\\2816788744.py:1: FutureWarning: The default dtype for empty Series will be 'object' instead of 'float64' in a future version. Specify a dtype explicitly to silence this warning.\n",
            "  data_test['body'] = data_test.groupby(['make', 'model'])['body'].transform(fillna_mode);\n",
            "C:\\Users\\Анастасия\\AppData\\Local\\Temp\\ipykernel_22752\\2816788744.py:1: FutureWarning: The default dtype for empty Series will be 'object' instead of 'float64' in a future version. Specify a dtype explicitly to silence this warning.\n",
            "  data_test['body'] = data_test.groupby(['make', 'model'])['body'].transform(fillna_mode);\n",
            "C:\\Users\\Анастасия\\AppData\\Local\\Temp\\ipykernel_22752\\2816788744.py:1: FutureWarning: The default dtype for empty Series will be 'object' instead of 'float64' in a future version. Specify a dtype explicitly to silence this warning.\n",
            "  data_test['body'] = data_test.groupby(['make', 'model'])['body'].transform(fillna_mode);\n",
            "C:\\Users\\Анастасия\\AppData\\Local\\Temp\\ipykernel_22752\\2816788744.py:1: FutureWarning: The default dtype for empty Series will be 'object' instead of 'float64' in a future version. Specify a dtype explicitly to silence this warning.\n",
            "  data_test['body'] = data_test.groupby(['make', 'model'])['body'].transform(fillna_mode);\n",
            "C:\\Users\\Анастасия\\AppData\\Local\\Temp\\ipykernel_22752\\2816788744.py:1: FutureWarning: The default dtype for empty Series will be 'object' instead of 'float64' in a future version. Specify a dtype explicitly to silence this warning.\n",
            "  data_test['body'] = data_test.groupby(['make', 'model'])['body'].transform(fillna_mode);\n",
            "C:\\Users\\Анастасия\\AppData\\Local\\Temp\\ipykernel_22752\\2816788744.py:1: FutureWarning: The default dtype for empty Series will be 'object' instead of 'float64' in a future version. Specify a dtype explicitly to silence this warning.\n",
            "  data_test['body'] = data_test.groupby(['make', 'model'])['body'].transform(fillna_mode);\n",
            "C:\\Users\\Анастасия\\AppData\\Local\\Temp\\ipykernel_22752\\2816788744.py:1: FutureWarning: The default dtype for empty Series will be 'object' instead of 'float64' in a future version. Specify a dtype explicitly to silence this warning.\n",
            "  data_test['body'] = data_test.groupby(['make', 'model'])['body'].transform(fillna_mode);\n",
            "C:\\Users\\Анастасия\\AppData\\Local\\Temp\\ipykernel_22752\\2816788744.py:1: FutureWarning: The default dtype for empty Series will be 'object' instead of 'float64' in a future version. Specify a dtype explicitly to silence this warning.\n",
            "  data_test['body'] = data_test.groupby(['make', 'model'])['body'].transform(fillna_mode);\n",
            "C:\\Users\\Анастасия\\AppData\\Local\\Temp\\ipykernel_22752\\2816788744.py:1: FutureWarning: The default dtype for empty Series will be 'object' instead of 'float64' in a future version. Specify a dtype explicitly to silence this warning.\n",
            "  data_test['body'] = data_test.groupby(['make', 'model'])['body'].transform(fillna_mode);\n",
            "C:\\Users\\Анастасия\\AppData\\Local\\Temp\\ipykernel_22752\\2816788744.py:1: FutureWarning: The default dtype for empty Series will be 'object' instead of 'float64' in a future version. Specify a dtype explicitly to silence this warning.\n",
            "  data_test['body'] = data_test.groupby(['make', 'model'])['body'].transform(fillna_mode);\n",
            "C:\\Users\\Анастасия\\AppData\\Local\\Temp\\ipykernel_22752\\2816788744.py:1: FutureWarning: The default dtype for empty Series will be 'object' instead of 'float64' in a future version. Specify a dtype explicitly to silence this warning.\n",
            "  data_test['body'] = data_test.groupby(['make', 'model'])['body'].transform(fillna_mode);\n",
            "C:\\Users\\Анастасия\\AppData\\Local\\Temp\\ipykernel_22752\\2816788744.py:1: FutureWarning: The default dtype for empty Series will be 'object' instead of 'float64' in a future version. Specify a dtype explicitly to silence this warning.\n",
            "  data_test['body'] = data_test.groupby(['make', 'model'])['body'].transform(fillna_mode);\n",
            "C:\\Users\\Анастасия\\AppData\\Local\\Temp\\ipykernel_22752\\2816788744.py:1: FutureWarning: The default dtype for empty Series will be 'object' instead of 'float64' in a future version. Specify a dtype explicitly to silence this warning.\n",
            "  data_test['body'] = data_test.groupby(['make', 'model'])['body'].transform(fillna_mode);\n",
            "C:\\Users\\Анастасия\\AppData\\Local\\Temp\\ipykernel_22752\\2816788744.py:1: FutureWarning: The default dtype for empty Series will be 'object' instead of 'float64' in a future version. Specify a dtype explicitly to silence this warning.\n",
            "  data_test['body'] = data_test.groupby(['make', 'model'])['body'].transform(fillna_mode);\n",
            "C:\\Users\\Анастасия\\AppData\\Local\\Temp\\ipykernel_22752\\2816788744.py:1: FutureWarning: The default dtype for empty Series will be 'object' instead of 'float64' in a future version. Specify a dtype explicitly to silence this warning.\n",
            "  data_test['body'] = data_test.groupby(['make', 'model'])['body'].transform(fillna_mode);\n",
            "C:\\Users\\Анастасия\\AppData\\Local\\Temp\\ipykernel_22752\\2816788744.py:1: FutureWarning: The default dtype for empty Series will be 'object' instead of 'float64' in a future version. Specify a dtype explicitly to silence this warning.\n",
            "  data_test['body'] = data_test.groupby(['make', 'model'])['body'].transform(fillna_mode);\n",
            "C:\\Users\\Анастасия\\AppData\\Local\\Temp\\ipykernel_22752\\2816788744.py:1: FutureWarning: The default dtype for empty Series will be 'object' instead of 'float64' in a future version. Specify a dtype explicitly to silence this warning.\n",
            "  data_test['body'] = data_test.groupby(['make', 'model'])['body'].transform(fillna_mode);\n",
            "C:\\Users\\Анастасия\\AppData\\Local\\Temp\\ipykernel_22752\\2816788744.py:1: FutureWarning: The default dtype for empty Series will be 'object' instead of 'float64' in a future version. Specify a dtype explicitly to silence this warning.\n",
            "  data_test['body'] = data_test.groupby(['make', 'model'])['body'].transform(fillna_mode);\n",
            "C:\\Users\\Анастасия\\AppData\\Local\\Temp\\ipykernel_22752\\2816788744.py:1: FutureWarning: The default dtype for empty Series will be 'object' instead of 'float64' in a future version. Specify a dtype explicitly to silence this warning.\n",
            "  data_test['body'] = data_test.groupby(['make', 'model'])['body'].transform(fillna_mode);\n",
            "C:\\Users\\Анастасия\\AppData\\Local\\Temp\\ipykernel_22752\\2816788744.py:1: FutureWarning: The default dtype for empty Series will be 'object' instead of 'float64' in a future version. Specify a dtype explicitly to silence this warning.\n",
            "  data_test['body'] = data_test.groupby(['make', 'model'])['body'].transform(fillna_mode);\n",
            "C:\\Users\\Анастасия\\AppData\\Local\\Temp\\ipykernel_22752\\2816788744.py:1: FutureWarning: The default dtype for empty Series will be 'object' instead of 'float64' in a future version. Specify a dtype explicitly to silence this warning.\n",
            "  data_test['body'] = data_test.groupby(['make', 'model'])['body'].transform(fillna_mode);\n",
            "C:\\Users\\Анастасия\\AppData\\Local\\Temp\\ipykernel_22752\\2816788744.py:1: FutureWarning: The default dtype for empty Series will be 'object' instead of 'float64' in a future version. Specify a dtype explicitly to silence this warning.\n",
            "  data_test['body'] = data_test.groupby(['make', 'model'])['body'].transform(fillna_mode);\n",
            "C:\\Users\\Анастасия\\AppData\\Local\\Temp\\ipykernel_22752\\2816788744.py:1: FutureWarning: The default dtype for empty Series will be 'object' instead of 'float64' in a future version. Specify a dtype explicitly to silence this warning.\n",
            "  data_test['body'] = data_test.groupby(['make', 'model'])['body'].transform(fillna_mode);\n",
            "C:\\Users\\Анастасия\\AppData\\Local\\Temp\\ipykernel_22752\\2816788744.py:1: FutureWarning: The default dtype for empty Series will be 'object' instead of 'float64' in a future version. Specify a dtype explicitly to silence this warning.\n",
            "  data_test['body'] = data_test.groupby(['make', 'model'])['body'].transform(fillna_mode);\n",
            "C:\\Users\\Анастасия\\AppData\\Local\\Temp\\ipykernel_22752\\2816788744.py:1: FutureWarning: The default dtype for empty Series will be 'object' instead of 'float64' in a future version. Specify a dtype explicitly to silence this warning.\n",
            "  data_test['body'] = data_test.groupby(['make', 'model'])['body'].transform(fillna_mode);\n",
            "C:\\Users\\Анастасия\\AppData\\Local\\Temp\\ipykernel_22752\\2816788744.py:1: FutureWarning: The default dtype for empty Series will be 'object' instead of 'float64' in a future version. Specify a dtype explicitly to silence this warning.\n",
            "  data_test['body'] = data_test.groupby(['make', 'model'])['body'].transform(fillna_mode);\n",
            "C:\\Users\\Анастасия\\AppData\\Local\\Temp\\ipykernel_22752\\2816788744.py:1: FutureWarning: The default dtype for empty Series will be 'object' instead of 'float64' in a future version. Specify a dtype explicitly to silence this warning.\n",
            "  data_test['body'] = data_test.groupby(['make', 'model'])['body'].transform(fillna_mode);\n",
            "C:\\Users\\Анастасия\\AppData\\Local\\Temp\\ipykernel_22752\\2816788744.py:1: FutureWarning: The default dtype for empty Series will be 'object' instead of 'float64' in a future version. Specify a dtype explicitly to silence this warning.\n",
            "  data_test['body'] = data_test.groupby(['make', 'model'])['body'].transform(fillna_mode);\n",
            "C:\\Users\\Анастасия\\AppData\\Local\\Temp\\ipykernel_22752\\2816788744.py:1: FutureWarning: The default dtype for empty Series will be 'object' instead of 'float64' in a future version. Specify a dtype explicitly to silence this warning.\n",
            "  data_test['body'] = data_test.groupby(['make', 'model'])['body'].transform(fillna_mode);\n",
            "C:\\Users\\Анастасия\\AppData\\Local\\Temp\\ipykernel_22752\\2816788744.py:1: FutureWarning: The default dtype for empty Series will be 'object' instead of 'float64' in a future version. Specify a dtype explicitly to silence this warning.\n",
            "  data_test['body'] = data_test.groupby(['make', 'model'])['body'].transform(fillna_mode);\n",
            "C:\\Users\\Анастасия\\AppData\\Local\\Temp\\ipykernel_22752\\2816788744.py:1: FutureWarning: The default dtype for empty Series will be 'object' instead of 'float64' in a future version. Specify a dtype explicitly to silence this warning.\n",
            "  data_test['body'] = data_test.groupby(['make', 'model'])['body'].transform(fillna_mode);\n",
            "C:\\Users\\Анастасия\\AppData\\Local\\Temp\\ipykernel_22752\\2816788744.py:1: FutureWarning: The default dtype for empty Series will be 'object' instead of 'float64' in a future version. Specify a dtype explicitly to silence this warning.\n",
            "  data_test['body'] = data_test.groupby(['make', 'model'])['body'].transform(fillna_mode);\n",
            "C:\\Users\\Анастасия\\AppData\\Local\\Temp\\ipykernel_22752\\2816788744.py:1: FutureWarning: The default dtype for empty Series will be 'object' instead of 'float64' in a future version. Specify a dtype explicitly to silence this warning.\n",
            "  data_test['body'] = data_test.groupby(['make', 'model'])['body'].transform(fillna_mode);\n",
            "C:\\Users\\Анастасия\\AppData\\Local\\Temp\\ipykernel_22752\\2816788744.py:1: FutureWarning: The default dtype for empty Series will be 'object' instead of 'float64' in a future version. Specify a dtype explicitly to silence this warning.\n",
            "  data_test['body'] = data_test.groupby(['make', 'model'])['body'].transform(fillna_mode);\n",
            "C:\\Users\\Анастасия\\AppData\\Local\\Temp\\ipykernel_22752\\2816788744.py:1: FutureWarning: The default dtype for empty Series will be 'object' instead of 'float64' in a future version. Specify a dtype explicitly to silence this warning.\n",
            "  data_test['body'] = data_test.groupby(['make', 'model'])['body'].transform(fillna_mode);\n",
            "C:\\Users\\Анастасия\\AppData\\Local\\Temp\\ipykernel_22752\\2816788744.py:1: FutureWarning: The default dtype for empty Series will be 'object' instead of 'float64' in a future version. Specify a dtype explicitly to silence this warning.\n",
            "  data_test['body'] = data_test.groupby(['make', 'model'])['body'].transform(fillna_mode);\n",
            "C:\\Users\\Анастасия\\AppData\\Local\\Temp\\ipykernel_22752\\2816788744.py:1: FutureWarning: The default dtype for empty Series will be 'object' instead of 'float64' in a future version. Specify a dtype explicitly to silence this warning.\n",
            "  data_test['body'] = data_test.groupby(['make', 'model'])['body'].transform(fillna_mode);\n",
            "C:\\Users\\Анастасия\\AppData\\Local\\Temp\\ipykernel_22752\\2816788744.py:1: FutureWarning: The default dtype for empty Series will be 'object' instead of 'float64' in a future version. Specify a dtype explicitly to silence this warning.\n",
            "  data_test['body'] = data_test.groupby(['make', 'model'])['body'].transform(fillna_mode);\n",
            "C:\\Users\\Анастасия\\AppData\\Local\\Temp\\ipykernel_22752\\2816788744.py:1: FutureWarning: The default dtype for empty Series will be 'object' instead of 'float64' in a future version. Specify a dtype explicitly to silence this warning.\n",
            "  data_test['body'] = data_test.groupby(['make', 'model'])['body'].transform(fillna_mode);\n",
            "C:\\Users\\Анастасия\\AppData\\Local\\Temp\\ipykernel_22752\\2816788744.py:1: FutureWarning: The default dtype for empty Series will be 'object' instead of 'float64' in a future version. Specify a dtype explicitly to silence this warning.\n",
            "  data_test['body'] = data_test.groupby(['make', 'model'])['body'].transform(fillna_mode);\n",
            "C:\\Users\\Анастасия\\AppData\\Local\\Temp\\ipykernel_22752\\2816788744.py:1: FutureWarning: The default dtype for empty Series will be 'object' instead of 'float64' in a future version. Specify a dtype explicitly to silence this warning.\n",
            "  data_test['body'] = data_test.groupby(['make', 'model'])['body'].transform(fillna_mode);\n",
            "C:\\Users\\Анастасия\\AppData\\Local\\Temp\\ipykernel_22752\\2816788744.py:1: FutureWarning: The default dtype for empty Series will be 'object' instead of 'float64' in a future version. Specify a dtype explicitly to silence this warning.\n",
            "  data_test['body'] = data_test.groupby(['make', 'model'])['body'].transform(fillna_mode);\n",
            "C:\\Users\\Анастасия\\AppData\\Local\\Temp\\ipykernel_22752\\2816788744.py:1: FutureWarning: The default dtype for empty Series will be 'object' instead of 'float64' in a future version. Specify a dtype explicitly to silence this warning.\n",
            "  data_test['body'] = data_test.groupby(['make', 'model'])['body'].transform(fillna_mode);\n",
            "C:\\Users\\Анастасия\\AppData\\Local\\Temp\\ipykernel_22752\\2816788744.py:1: FutureWarning: The default dtype for empty Series will be 'object' instead of 'float64' in a future version. Specify a dtype explicitly to silence this warning.\n",
            "  data_test['body'] = data_test.groupby(['make', 'model'])['body'].transform(fillna_mode);\n",
            "C:\\Users\\Анастасия\\AppData\\Local\\Temp\\ipykernel_22752\\2816788744.py:1: FutureWarning: The default dtype for empty Series will be 'object' instead of 'float64' in a future version. Specify a dtype explicitly to silence this warning.\n",
            "  data_test['body'] = data_test.groupby(['make', 'model'])['body'].transform(fillna_mode);\n",
            "C:\\Users\\Анастасия\\AppData\\Local\\Temp\\ipykernel_22752\\2816788744.py:1: FutureWarning: The default dtype for empty Series will be 'object' instead of 'float64' in a future version. Specify a dtype explicitly to silence this warning.\n",
            "  data_test['body'] = data_test.groupby(['make', 'model'])['body'].transform(fillna_mode);\n",
            "C:\\Users\\Анастасия\\AppData\\Local\\Temp\\ipykernel_22752\\2816788744.py:1: FutureWarning: The default dtype for empty Series will be 'object' instead of 'float64' in a future version. Specify a dtype explicitly to silence this warning.\n",
            "  data_test['body'] = data_test.groupby(['make', 'model'])['body'].transform(fillna_mode);\n",
            "C:\\Users\\Анастасия\\AppData\\Local\\Temp\\ipykernel_22752\\2816788744.py:1: FutureWarning: The default dtype for empty Series will be 'object' instead of 'float64' in a future version. Specify a dtype explicitly to silence this warning.\n",
            "  data_test['body'] = data_test.groupby(['make', 'model'])['body'].transform(fillna_mode);\n",
            "C:\\Users\\Анастасия\\AppData\\Local\\Temp\\ipykernel_22752\\2816788744.py:1: FutureWarning: The default dtype for empty Series will be 'object' instead of 'float64' in a future version. Specify a dtype explicitly to silence this warning.\n",
            "  data_test['body'] = data_test.groupby(['make', 'model'])['body'].transform(fillna_mode);\n",
            "C:\\Users\\Анастасия\\AppData\\Local\\Temp\\ipykernel_22752\\2816788744.py:1: FutureWarning: The default dtype for empty Series will be 'object' instead of 'float64' in a future version. Specify a dtype explicitly to silence this warning.\n",
            "  data_test['body'] = data_test.groupby(['make', 'model'])['body'].transform(fillna_mode);\n",
            "C:\\Users\\Анастасия\\AppData\\Local\\Temp\\ipykernel_22752\\2816788744.py:1: FutureWarning: The default dtype for empty Series will be 'object' instead of 'float64' in a future version. Specify a dtype explicitly to silence this warning.\n",
            "  data_test['body'] = data_test.groupby(['make', 'model'])['body'].transform(fillna_mode);\n",
            "C:\\Users\\Анастасия\\AppData\\Local\\Temp\\ipykernel_22752\\2816788744.py:1: FutureWarning: The default dtype for empty Series will be 'object' instead of 'float64' in a future version. Specify a dtype explicitly to silence this warning.\n",
            "  data_test['body'] = data_test.groupby(['make', 'model'])['body'].transform(fillna_mode);\n",
            "C:\\Users\\Анастасия\\AppData\\Local\\Temp\\ipykernel_22752\\2816788744.py:1: FutureWarning: The default dtype for empty Series will be 'object' instead of 'float64' in a future version. Specify a dtype explicitly to silence this warning.\n",
            "  data_test['body'] = data_test.groupby(['make', 'model'])['body'].transform(fillna_mode);\n",
            "C:\\Users\\Анастасия\\AppData\\Local\\Temp\\ipykernel_22752\\2816788744.py:1: FutureWarning: The default dtype for empty Series will be 'object' instead of 'float64' in a future version. Specify a dtype explicitly to silence this warning.\n",
            "  data_test['body'] = data_test.groupby(['make', 'model'])['body'].transform(fillna_mode);\n"
          ]
        }
      ],
      "source": [
        "data_test['body'] = data_test.groupby(['make', 'model'])['body'].transform(fillna_mode);"
      ]
    },
    {
      "cell_type": "markdown",
      "metadata": {},
      "source": [
        "Если заполнение путем группировки по производителю и модели оставило какие-то пропуски, то запоним их самым популярным значением."
      ]
    },
    {
      "cell_type": "code",
      "execution_count": 27,
      "metadata": {
        "colab": {
          "base_uri": "https://localhost:8080/"
        },
        "id": "w1aS_cXivlSX",
        "outputId": "fc985485-c77c-4190-946b-3d70b7de082d"
      },
      "outputs": [
        {
          "data": {
            "text/plain": [
              "sedan                      204186\n",
              "suv                        113603\n",
              "minivan                     20295\n",
              "crew cab                    19125\n",
              "hatchback                   16865\n",
              "wagon                       11841\n",
              "supercrew                   11408\n",
              "coupe                       10400\n",
              "g sedan                      5859\n",
              "convertible                  3758\n",
              "van                          3547\n",
              "quad cab                     2778\n",
              "double cab                   1973\n",
              "supercab                     1498\n",
              "e-series van                 1426\n",
              "g coupe                      1282\n",
              "extended cab                  451\n",
              "g convertible                 251\n",
              "genesis coupe                 221\n",
              "cts coupe                     115\n",
              "elantra coupe                  74\n",
              "regular cab                    68\n",
              "beetle convertible             52\n",
              "promaster cargo van            45\n",
              "q60 convertible                33\n",
              "q60 coupe                      30\n",
              "tsx sport wagon                29\n",
              "cts-v coupe                    28\n",
              "g37 convertible                18\n",
              "transit van                    16\n",
              "g37 coupe                      10\n",
              "granturismo convertible        10\n",
              "cts wagon                       9\n",
              "cab plus 4                      6\n",
              "cab plus                        4\n",
              "ram van                         1\n",
              "cts-v wagon                     1\n",
              "Name: body, dtype: int64"
            ]
          },
          "execution_count": 27,
          "metadata": {},
          "output_type": "execute_result"
        }
      ],
      "source": [
        "data_train['body'].value_counts()"
      ]
    },
    {
      "cell_type": "code",
      "execution_count": 28,
      "metadata": {
        "id": "vHyE8mSl8Z2Z"
      },
      "outputs": [],
      "source": [
        "data_train['body'] = data_train['body'].fillna('sedan')"
      ]
    },
    {
      "cell_type": "code",
      "execution_count": 29,
      "metadata": {
        "colab": {
          "base_uri": "https://localhost:8080/"
        },
        "id": "tnclJcnKaRAO",
        "outputId": "39e28a8a-ea80-43e7-b8d5-3ea2db6b932c"
      },
      "outputs": [
        {
          "data": {
            "text/plain": [
              "sedan                      51363\n",
              "suv                        28431\n",
              "minivan                     5130\n",
              "crew cab                    4179\n",
              "hatchback                   3606\n",
              "wagon                       3138\n",
              "supercrew                   2737\n",
              "coupe                       2487\n",
              "g sedan                     1486\n",
              "quad cab                    1314\n",
              "convertible                 1062\n",
              "van                          920\n",
              "supercab                     391\n",
              "e-series van                 387\n",
              "g coupe                      299\n",
              "crewmax cab                  260\n",
              "double cab                   218\n",
              "extended cab                 103\n",
              "g convertible                 69\n",
              "genesis coupe                 68\n",
              "cts coupe                     38\n",
              "elantra coupe                 29\n",
              "regular cab                   16\n",
              "promaster cargo van           14\n",
              "q60 convertible                9\n",
              "beetle convertible             7\n",
              "cts-v coupe                    7\n",
              "tsx sport wagon                7\n",
              "q60 coupe                      6\n",
              "cts wagon                      4\n",
              "granturismo convertible        3\n",
              "transit van                    3\n",
              "g37 coupe                      2\n",
              "g37 convertible                2\n",
              "Name: body, dtype: int64"
            ]
          },
          "execution_count": 29,
          "metadata": {},
          "output_type": "execute_result"
        }
      ],
      "source": [
        "data_test['body'].value_counts()"
      ]
    },
    {
      "cell_type": "code",
      "execution_count": 30,
      "metadata": {
        "id": "p5kQdaIwaWXG"
      },
      "outputs": [],
      "source": [
        "data_test['body'] = data_test['body'].fillna('sedan')"
      ]
    },
    {
      "cell_type": "markdown",
      "metadata": {},
      "source": [
        "И в тренировочной и в тестовой выборках самым популярным типом кузова оказался седан. Его мы и прописали в данных, где определить тип кузова посредством группировки не удалось. Но также, можно было заметить, что данные в этом столбце иногда не имеют сильных отличий, что может затруднить обучение модели. Приведем все названия типов кузова к самым основным."
      ]
    },
    {
      "cell_type": "code",
      "execution_count": 31,
      "metadata": {
        "colab": {
          "base_uri": "https://localhost:8080/"
        },
        "id": "8db6EU3LyVqn",
        "outputId": "ba2c3c20-c45e-44e2-bac4-39129eb7875c"
      },
      "outputs": [],
      "source": [
        "def get_best_match(query, choices):\n",
        "    return process.extractOne(query, choices)[0]\n",
        "\n",
        "replacement_options = ['sedan', 'suv', 'minivan', 'hatchback', 'coupe', 'wagon', 'crew cab ', 'supercrew', 'convertible', 'van']\n",
        "data_train['body'] = data_train['body'].apply(get_best_match, choices=replacement_options)\n",
        "data_test['body'] = data_test['body'].apply(get_best_match, choices=replacement_options)"
      ]
    },
    {
      "cell_type": "code",
      "execution_count": 32,
      "metadata": {
        "colab": {
          "base_uri": "https://localhost:8080/"
        },
        "id": "xecwZzKi6x1l",
        "outputId": "029b59bf-65dc-47bc-bdc0-dc9a2fb0889b"
      },
      "outputs": [
        {
          "data": {
            "text/plain": [
              "sedan          218965\n",
              "suv            113603\n",
              "crew cab        24405\n",
              "minivan         20295\n",
              "hatchback       16865\n",
              "supercrew       12906\n",
              "coupe           12160\n",
              "wagon           11880\n",
              "van              5035\n",
              "convertible      4122\n",
              "Name: body, dtype: int64"
            ]
          },
          "execution_count": 32,
          "metadata": {},
          "output_type": "execute_result"
        }
      ],
      "source": [
        "data_train['body'].value_counts()"
      ]
    },
    {
      "cell_type": "markdown",
      "metadata": {},
      "source": [
        "У нас осталось немного пропусков в последних двух столбцах, содержащих информацию о цвете автомобиля и цвете салона. Заполним эти пропуски модой ровки данных по марке и модели и по марке,модели и цвету автомобиля, соответственно."
      ]
    },
    {
      "cell_type": "code",
      "execution_count": 33,
      "metadata": {
        "colab": {
          "base_uri": "https://localhost:8080/"
        },
        "id": "UB9bdBT1_Rmj",
        "outputId": "f2b82136-ca32-40aa-c48b-be348f0be1d9"
      },
      "outputs": [
        {
          "data": {
            "text/plain": [
              "black        87115\n",
              "white        84149\n",
              "silver       65667\n",
              "gray         65284\n",
              "blue         40237\n",
              "red          34514\n",
              "—            19520\n",
              "green         8975\n",
              "gold          8934\n",
              "beige         7257\n",
              "burgundy      7059\n",
              "brown         5320\n",
              "orange        1629\n",
              "purple        1250\n",
              "off-white     1143\n",
              "yellow         979\n",
              "charcoal       389\n",
              "turquoise      183\n",
              "pink            32\n",
              "lime            14\n",
              "Name: color, dtype: int64"
            ]
          },
          "execution_count": 33,
          "metadata": {},
          "output_type": "execute_result"
        }
      ],
      "source": [
        "data_train['color'].value_counts()"
      ]
    },
    {
      "cell_type": "code",
      "execution_count": 34,
      "metadata": {
        "id": "BKBpxbUA_f0V"
      },
      "outputs": [],
      "source": [
        "data_train['color'] = data_train.groupby(['make','model'])['color'].transform(lambda x: x.fillna(x.mode()[0]))\n",
        "data_test['color'] = data_test.groupby(['make','model'])['color'].transform(lambda x: x.fillna(x.mode()[0]))"
      ]
    },
    {
      "cell_type": "code",
      "execution_count": 35,
      "metadata": {
        "id": "9Eq0Yg_eAKJC"
      },
      "outputs": [],
      "source": [
        "data_train['interior'] = data_train.groupby(['make','model','color'])['interior'].transform(lambda x: x.fillna(x.mode()[0]))\n",
        "data_test['interior'] = data_test.groupby(['make','model','color'])['interior'].transform(lambda x: x.fillna(x.mode()[0]))"
      ]
    },
    {
      "cell_type": "markdown",
      "metadata": {},
      "source": [
        "Посмотрим, есть ли в наших заполненных данных дубликаты. Если они есть - удалим их."
      ]
    },
    {
      "cell_type": "code",
      "execution_count": 36,
      "metadata": {
        "colab": {
          "base_uri": "https://localhost:8080/"
        },
        "id": "1wGtCn7YAckG",
        "outputId": "b33e684a-bf4c-4537-ffdb-c01c7ae57a63"
      },
      "outputs": [
        {
          "data": {
            "text/plain": [
              "0"
            ]
          },
          "execution_count": 36,
          "metadata": {},
          "output_type": "execute_result"
        }
      ],
      "source": [
        "data_train.duplicated().sum()"
      ]
    },
    {
      "cell_type": "markdown",
      "metadata": {},
      "source": [
        "Проведем анализ числовых данных. Уберем из тренировочной выборки выбросы и неккоректные значения."
      ]
    },
    {
      "cell_type": "code",
      "execution_count": 37,
      "metadata": {
        "colab": {
          "base_uri": "https://localhost:8080/",
          "height": 300
        },
        "id": "v0bw3kTxCbuL",
        "outputId": "04c60558-e19f-4a9b-d640-9c6fb944835a"
      },
      "outputs": [
        {
          "data": {
            "text/html": [
              "<div>\n",
              "<style scoped>\n",
              "    .dataframe tbody tr th:only-of-type {\n",
              "        vertical-align: middle;\n",
              "    }\n",
              "\n",
              "    .dataframe tbody tr th {\n",
              "        vertical-align: top;\n",
              "    }\n",
              "\n",
              "    .dataframe thead th {\n",
              "        text-align: right;\n",
              "    }\n",
              "</style>\n",
              "<table border=\"1\" class=\"dataframe\">\n",
              "  <thead>\n",
              "    <tr style=\"text-align: right;\">\n",
              "      <th></th>\n",
              "      <th>year</th>\n",
              "      <th>condition</th>\n",
              "      <th>odometer</th>\n",
              "      <th>sellingprice</th>\n",
              "    </tr>\n",
              "  </thead>\n",
              "  <tbody>\n",
              "    <tr>\n",
              "      <th>count</th>\n",
              "      <td>440236.000000</td>\n",
              "      <td>440236.000000</td>\n",
              "      <td>440236.000000</td>\n",
              "      <td>440236.000000</td>\n",
              "    </tr>\n",
              "    <tr>\n",
              "      <th>mean</th>\n",
              "      <td>2010.040101</td>\n",
              "      <td>3.410759</td>\n",
              "      <td>68353.570939</td>\n",
              "      <td>13592.209588</td>\n",
              "    </tr>\n",
              "    <tr>\n",
              "      <th>std</th>\n",
              "      <td>3.977945</td>\n",
              "      <td>0.949614</td>\n",
              "      <td>53545.126954</td>\n",
              "      <td>9751.479098</td>\n",
              "    </tr>\n",
              "    <tr>\n",
              "      <th>min</th>\n",
              "      <td>1982.000000</td>\n",
              "      <td>1.000000</td>\n",
              "      <td>1.000000</td>\n",
              "      <td>1.000000</td>\n",
              "    </tr>\n",
              "    <tr>\n",
              "      <th>25%</th>\n",
              "      <td>2007.000000</td>\n",
              "      <td>2.700000</td>\n",
              "      <td>28259.000000</td>\n",
              "      <td>6900.000000</td>\n",
              "    </tr>\n",
              "    <tr>\n",
              "      <th>50%</th>\n",
              "      <td>2012.000000</td>\n",
              "      <td>3.600000</td>\n",
              "      <td>52103.500000</td>\n",
              "      <td>12100.000000</td>\n",
              "    </tr>\n",
              "    <tr>\n",
              "      <th>75%</th>\n",
              "      <td>2013.000000</td>\n",
              "      <td>4.200000</td>\n",
              "      <td>99283.250000</td>\n",
              "      <td>18200.000000</td>\n",
              "    </tr>\n",
              "    <tr>\n",
              "      <th>max</th>\n",
              "      <td>2015.000000</td>\n",
              "      <td>5.000000</td>\n",
              "      <td>999999.000000</td>\n",
              "      <td>230000.000000</td>\n",
              "    </tr>\n",
              "  </tbody>\n",
              "</table>\n",
              "</div>"
            ],
            "text/plain": [
              "                year      condition       odometer   sellingprice\n",
              "count  440236.000000  440236.000000  440236.000000  440236.000000\n",
              "mean     2010.040101       3.410759   68353.570939   13592.209588\n",
              "std         3.977945       0.949614   53545.126954    9751.479098\n",
              "min      1982.000000       1.000000       1.000000       1.000000\n",
              "25%      2007.000000       2.700000   28259.000000    6900.000000\n",
              "50%      2012.000000       3.600000   52103.500000   12100.000000\n",
              "75%      2013.000000       4.200000   99283.250000   18200.000000\n",
              "max      2015.000000       5.000000  999999.000000  230000.000000"
            ]
          },
          "execution_count": 37,
          "metadata": {},
          "output_type": "execute_result"
        }
      ],
      "source": [
        "data_train.describe()"
      ]
    },
    {
      "cell_type": "code",
      "execution_count": 38,
      "metadata": {
        "id": "ItNpllTOAv5h"
      },
      "outputs": [],
      "source": [
        "year_counts = data_train['year'].value_counts().sort_index()"
      ]
    },
    {
      "cell_type": "code",
      "execution_count": 39,
      "metadata": {
        "colab": {
          "base_uri": "https://localhost:8080/",
          "height": 564
        },
        "id": "v7UbogE1B5vB",
        "outputId": "e6b3bd57-3d16-43ef-e72e-458fcac12b51"
      },
      "outputs": [
        {
          "data": {
            "image/png": "[encoded data removed]",
            "text/plain": [
              "<Figure size 1000x600 with 1 Axes>"
            ]
          },
          "metadata": {},
          "output_type": "display_data"
        }
      ],
      "source": [
        "plt.figure(figsize =(10,6))\n",
        "plt.bar(year_counts.index, year_counts.values)\n",
        "plt.xlabel('Год выпуска')\n",
        "plt.ylabel('Количество машин')\n",
        "plt.title('Распределение кол-ва машин по годам')\n",
        "plt.show()"
      ]
    },
    {
      "cell_type": "markdown",
      "metadata": {},
      "source": [
        "Мы построили график распределения объема автомобилей по году их выпуска. Основная часть проданных автомобилей была произведена 2010-2014 годах. Построим график \"яцик с усами\" чтобы увидеть какого года выпуска был продан самый старый автомобиль и не является ли он выбросом"
      ]
    },
    {
      "cell_type": "code",
      "execution_count": 40,
      "metadata": {
        "colab": {
          "base_uri": "https://localhost:8080/",
          "height": 332
        },
        "id": "2hf3zM6PDXCG",
        "outputId": "fec81710-a2e1-4410-820a-a14131e4316b"
      },
      "outputs": [
        {
          "data": {
            "image/png": "[encoded data removed]",
            "text/plain": [
              "<Figure size 2000x500 with 1 Axes>"
            ]
          },
          "metadata": {},
          "output_type": "display_data"
        }
      ],
      "source": [
        "plt.figure(figsize=(20, 5))\n",
        "plt.boxplot (data_train['year'], vert = False)\n",
        "plt.title('Разброс годов производства автомобилей')\n",
        "plt.show();"
      ]
    },
    {
      "cell_type": "code",
      "execution_count": 41,
      "metadata": {
        "colab": {
          "base_uri": "https://localhost:8080/"
        },
        "id": "fXOgyM-E43LU",
        "outputId": "9c987c27-3d49-44a0-9d6c-9df73bd88b64"
      },
      "outputs": [
        {
          "data": {
            "text/plain": [
              "2012    80625\n",
              "2013    77566\n",
              "2014    64225\n",
              "2011    38115\n",
              "2008    24646\n",
              "2007    24152\n",
              "2006    21118\n",
              "2010    20647\n",
              "2005    16794\n",
              "2009    16064\n",
              "2004    13658\n",
              "2003    10512\n",
              "2002     7726\n",
              "2015     7462\n",
              "2001     5147\n",
              "2000     4161\n",
              "1999     2658\n",
              "1998     1747\n",
              "1997     1224\n",
              "1996      683\n",
              "1995      567\n",
              "1994      319\n",
              "1993      168\n",
              "1992      103\n",
              "1991       56\n",
              "1990       38\n",
              "1989       15\n",
              "1988       11\n",
              "1985       10\n",
              "1986        8\n",
              "1987        5\n",
              "1984        4\n",
              "1983        1\n",
              "1982        1\n",
              "Name: year, dtype: int64"
            ]
          },
          "execution_count": 41,
          "metadata": {},
          "output_type": "execute_result"
        }
      ],
      "source": [
        "data_train['year'].value_counts()"
      ]
    },
    {
      "cell_type": "markdown",
      "metadata": {},
      "source": [
        "Мы видим, что основная часть автомобилей была выпущена 1998 - 2015 годы, продажа автомобилей выпущенных ранее являются единичными случаями, поэтому оставим в выборке только автомобили, произведенные в 1993 году и позднее, так как авто данного года выпуска превышает в количестве хотя бы 100 штук."
      ]
    },
    {
      "cell_type": "code",
      "execution_count": 42,
      "metadata": {
        "id": "DWcLI_qm7nna"
      },
      "outputs": [],
      "source": [
        "data_train = data_train[data_train['year'] >= 1993]"
      ]
    },
    {
      "cell_type": "markdown",
      "metadata": {},
      "source": [
        "Посмотрим на данные по оценке состояния автомобиля на момент продажи. В описании ничего необычного замечено не было, но лучше все же увидеть наглядно."
      ]
    },
    {
      "cell_type": "code",
      "execution_count": 43,
      "metadata": {
        "colab": {
          "base_uri": "https://localhost:8080/",
          "height": 332
        },
        "id": "0EetlcUg8JG7",
        "outputId": "be361a6f-fc73-4efb-942b-e55869c2aceb"
      },
      "outputs": [
        {
          "data": {
            "image/png": "[encoded data removed]",
            "text/plain": [
              "<Figure size 2000x500 with 1 Axes>"
            ]
          },
          "metadata": {},
          "output_type": "display_data"
        }
      ],
      "source": [
        "plt.figure(figsize=(20, 5))\n",
        "plt.boxplot (data_train['condition'], vert = False)\n",
        "plt.title('Разброс оценки состояния авто на момент продажи')\n",
        "plt.show();"
      ]
    },
    {
      "cell_type": "markdown",
      "metadata": {},
      "source": [
        "В оценках состояния авто действительно нет выбросов, все авто оценены от 1 до 5, бОльшая часть автомобилей имеет среднюю оценку. Теперь взглянем на показатели пробега автомобилей в данных."
      ]
    },
    {
      "cell_type": "code",
      "execution_count": 44,
      "metadata": {
        "colab": {
          "base_uri": "https://localhost:8080/",
          "height": 345
        },
        "id": "seueoSHU-yWP",
        "outputId": "cec7253f-b437-4320-dc54-f1d0a99fbbf4"
      },
      "outputs": [
        {
          "data": {
            "image/png": "[encoded data removed]",
            "text/plain": [
              "<Figure size 2000x500 with 1 Axes>"
            ]
          },
          "metadata": {},
          "output_type": "display_data"
        }
      ],
      "source": [
        "plt.figure(figsize=(20, 5))\n",
        "plt.boxplot (data_train['odometer'], vert = False)\n",
        "plt.title('Разброс километров пробега у продаваемых автомобилей')\n",
        "plt.show();"
      ]
    },
    {
      "cell_type": "markdown",
      "metadata": {},
      "source": [
        "Разброс действительно большой. Максимальный пробег составляет 999999. Посмотрим сколько автомобилей с таким пробегом в данных и какое значение будет следующим при сортировке по убыванию"
      ]
    },
    {
      "cell_type": "code",
      "execution_count": 45,
      "metadata": {
        "colab": {
          "base_uri": "https://localhost:8080/"
        },
        "id": "L-Epfrsa_W45",
        "outputId": "917ba75a-9542-47a0-8577-e629d07b7490"
      },
      "outputs": [
        {
          "data": {
            "text/plain": [
              "55"
            ]
          },
          "execution_count": 45,
          "metadata": {},
          "output_type": "execute_result"
        }
      ],
      "source": [
        "data_train[data_train['odometer'] >= 999999]['odometer'].count()"
      ]
    },
    {
      "cell_type": "code",
      "execution_count": 46,
      "metadata": {
        "colab": {
          "base_uri": "https://localhost:8080/"
        },
        "id": "N0XylK0xJNGr",
        "outputId": "8de39146-ce82-4b9a-cc97-a7595c092227"
      },
      "outputs": [
        {
          "data": {
            "text/plain": [
              "239758    999999.0\n",
              "150893    999999.0\n",
              "262840    999999.0\n",
              "6069      999999.0\n",
              "116247    999999.0\n",
              "213734    980113.0\n",
              "17341     959276.0\n",
              "9830      694978.0\n",
              "154833    694978.0\n",
              "111232    537334.0\n",
              "Name: odometer, dtype: float64"
            ]
          },
          "execution_count": 46,
          "metadata": {},
          "output_type": "execute_result"
        }
      ],
      "source": [
        "data_train['odometer'].sort_values(ascending = False).iloc[50:60]"
      ]
    },
    {
      "cell_type": "markdown",
      "metadata": {},
      "source": [
        "Также посмотрим минимальное значение и соседнее с ним в сортировке. Начнем с 10, хоть и в описании наших данных сказано, что минимальный пробег составляет 1. Даже если машина только вышла с конвеера и приехала в салон продажи значение в 1 км/м/милю кажется сомнительным"
      ]
    },
    {
      "cell_type": "code",
      "execution_count": 47,
      "metadata": {
        "colab": {
          "base_uri": "https://localhost:8080/"
        },
        "id": "Xvxvs7HsNZ-P",
        "outputId": "d5290b5d-0739-4aaa-9db6-258aad4bd90b"
      },
      "outputs": [
        {
          "data": {
            "text/plain": [
              "1154"
            ]
          },
          "execution_count": 47,
          "metadata": {},
          "output_type": "execute_result"
        }
      ],
      "source": [
        "data_train[data_train['odometer'] <= 10]['odometer'].count()"
      ]
    },
    {
      "cell_type": "code",
      "execution_count": 48,
      "metadata": {
        "colab": {
          "base_uri": "https://localhost:8080/"
        },
        "id": "TWxv5r00OHAO",
        "outputId": "f8219dcd-4cfb-4578-9868-7c47caa01b0f"
      },
      "outputs": [
        {
          "data": {
            "text/plain": [
              "394275    1.0\n",
              "16922     1.0\n",
              "275392    1.0\n",
              "45056     1.0\n",
              "425423    1.0\n",
              "         ... \n",
              "74430     6.0\n",
              "129931    6.0\n",
              "357323    6.0\n",
              "127481    7.0\n",
              "696       7.0\n",
              "Name: odometer, Length: 90, dtype: float64"
            ]
          },
          "execution_count": 48,
          "metadata": {},
          "output_type": "execute_result"
        }
      ],
      "source": [
        "data_train['odometer'].sort_values(ascending = True).iloc[1010:1100]"
      ]
    },
    {
      "cell_type": "markdown",
      "metadata": {},
      "source": [
        "Оставим данные о тех автомобилях, которые имеют пробег более 10 единиц и менее 959276"
      ]
    },
    {
      "cell_type": "code",
      "execution_count": 49,
      "metadata": {
        "id": "4zWh_ZNoOO_A"
      },
      "outputs": [],
      "source": [
        "data_train = data_train[(data_train['odometer'] >= 10) & (data_train['odometer'] <= 959276)]"
      ]
    },
    {
      "cell_type": "markdown",
      "metadata": {},
      "source": [
        "Изучим разброс цен, за которые были проданы автомобили."
      ]
    },
    {
      "cell_type": "code",
      "execution_count": 50,
      "metadata": {
        "colab": {
          "base_uri": "https://localhost:8080/",
          "height": 332
        },
        "id": "Xhj5hdxmPSax",
        "outputId": "2ce0f2d4-633d-444b-83ef-168c0497d997"
      },
      "outputs": [
        {
          "data": {
            "image/png": "[encoded data removed]",
            "text/plain": [
              "<Figure size 2000x500 with 1 Axes>"
            ]
          },
          "metadata": {},
          "output_type": "display_data"
        }
      ],
      "source": [
        "plt.figure(figsize=(20, 5))\n",
        "plt.boxplot (data_train['sellingprice'], vert = False)\n",
        "plt.title('Разброс последней цены автомобилей')\n",
        "plt.show();"
      ]
    },
    {
      "cell_type": "markdown",
      "metadata": {},
      "source": [
        "Начнем с минимальной цены. Посмотрим сколько автомобилей было продано за 1 у.е. и какое следующее значение при сортировке по возрастанию."
      ]
    },
    {
      "cell_type": "code",
      "execution_count": 51,
      "metadata": {
        "colab": {
          "base_uri": "https://localhost:8080/"
        },
        "id": "nonNi7HHPq3q",
        "outputId": "39557916-cd32-4c09-e732-7abb407b71e5"
      },
      "outputs": [
        {
          "data": {
            "text/plain": [
              "1"
            ]
          },
          "execution_count": 51,
          "metadata": {},
          "output_type": "execute_result"
        }
      ],
      "source": [
        "data_train[data_train['sellingprice'] <= 1]['odometer'].count()"
      ]
    },
    {
      "cell_type": "code",
      "execution_count": 52,
      "metadata": {
        "colab": {
          "base_uri": "https://localhost:8080/"
        },
        "id": "x2b8V_7EP_md",
        "outputId": "e82f57b6-8f5d-4047-c496-a2f748755373"
      },
      "outputs": [
        {
          "data": {
            "text/plain": [
              "418021      1\n",
              "227267    100\n",
              "413415    100\n",
              "90212     100\n",
              "262011    100\n",
              "368828    100\n",
              "51885     100\n",
              "51979     100\n",
              "292850    100\n",
              "317945    100\n",
              "346972    100\n",
              "18762     100\n",
              "189460    100\n",
              "331771    100\n",
              "355906    100\n",
              "414775    125\n",
              "422347    150\n",
              "323401    150\n",
              "306434    150\n",
              "16457     150\n",
              "90262     150\n",
              "223098    150\n",
              "147052    150\n",
              "90128     150\n",
              "302626    150\n",
              "432667    150\n",
              "131324    150\n",
              "14811     150\n",
              "301820    150\n",
              "32013     175\n",
              "Name: sellingprice, dtype: int64"
            ]
          },
          "execution_count": 52,
          "metadata": {},
          "output_type": "execute_result"
        }
      ],
      "source": [
        "data_train['sellingprice'].sort_values(ascending = True).iloc[:30]"
      ]
    },
    {
      "cell_type": "code",
      "execution_count": 53,
      "metadata": {
        "colab": {
          "base_uri": "https://localhost:8080/"
        },
        "id": "XSobc7wtQIYu",
        "outputId": "a7595689-362f-464e-9404-2ddc6b2c0ecc"
      },
      "outputs": [
        {
          "data": {
            "text/plain": [
              "392004    230000\n",
              "423302    183000\n",
              "359111    173000\n",
              "26083     171500\n",
              "291685    169500\n",
              "           ...  \n",
              "90212        100\n",
              "413415       100\n",
              "346972       100\n",
              "227267       100\n",
              "418021         1\n",
              "Name: sellingprice, Length: 438797, dtype: int64"
            ]
          },
          "execution_count": 53,
          "metadata": {},
          "output_type": "execute_result"
        }
      ],
      "source": [
        "data_train['sellingprice'].sort_values(ascending = False)#.iloc[:30]"
      ]
    },
    {
      "cell_type": "code",
      "execution_count": 54,
      "metadata": {
        "colab": {
          "base_uri": "https://localhost:8080/"
        },
        "id": "Nf5oHBxuQont",
        "outputId": "e0ea2719-af1a-44bd-b133-94a73326bf1d"
      },
      "outputs": [
        {
          "data": {
            "text/plain": [
              "34"
            ]
          },
          "execution_count": 54,
          "metadata": {},
          "output_type": "execute_result"
        }
      ],
      "source": [
        "data_train[data_train['sellingprice'] >= 140000]['odometer'].count()"
      ]
    },
    {
      "cell_type": "markdown",
      "metadata": {},
      "source": [
        "Автомобиль проданный за 1 у.е. всего один, а вот автомобилей проданных более чем за 140 000 более 30. Высокая цена выбивается из основной части. Поэтому удаляем из данных машины дороже 140 000 и автомобиль проданный за 1."
      ]
    },
    {
      "cell_type": "code",
      "execution_count": 55,
      "metadata": {
        "id": "d0VxB6U6RD5c"
      },
      "outputs": [],
      "source": [
        "data_train = data_train[(data_train['sellingprice'] <= 140000) & (data_train['sellingprice'] > 1)]"
      ]
    },
    {
      "cell_type": "markdown",
      "metadata": {},
      "source": [
        "Мы убрали из выборки выбросы и некорректные значения. Проверим сколько из общего объема данных мы убрали и не является ли этот объем критичным."
      ]
    },
    {
      "cell_type": "code",
      "execution_count": 56,
      "metadata": {
        "colab": {
          "base_uri": "https://localhost:8080/"
        },
        "id": "3Myk1_46Rxou",
        "outputId": "c1f7eeef-3557-409e-9850-1f4139edd262"
      },
      "outputs": [
        {
          "data": {
            "text/plain": [
              "(438762, 15)"
            ]
          },
          "execution_count": 56,
          "metadata": {},
          "output_type": "execute_result"
        }
      ],
      "source": [
        "data_train.shape"
      ]
    },
    {
      "cell_type": "markdown",
      "metadata": {},
      "source": [
        "Изначально в тренировочной выборке было 440236 строк. При обработке мы лишились 1474 строк, что менее 1% и это более чем допустимо. Приступим к добавлению новых,синтетических данных, которые помогут нашей модели лучше увидеть закономерности и давать наиболее точные прогнозы. Для этого еще раз взглянем на наши данные"
      ]
    },
    {
      "cell_type": "code",
      "execution_count": 57,
      "metadata": {
        "colab": {
          "base_uri": "https://localhost:8080/",
          "height": 573
        },
        "id": "2h8WeyITWT3f",
        "outputId": "94b90ea3-ed8a-4563-a660-121900c93758"
      },
      "outputs": [
        {
          "data": {
            "text/html": [
              "<div>\n",
              "<style scoped>\n",
              "    .dataframe tbody tr th:only-of-type {\n",
              "        vertical-align: middle;\n",
              "    }\n",
              "\n",
              "    .dataframe tbody tr th {\n",
              "        vertical-align: top;\n",
              "    }\n",
              "\n",
              "    .dataframe thead th {\n",
              "        text-align: right;\n",
              "    }\n",
              "</style>\n",
              "<table border=\"1\" class=\"dataframe\">\n",
              "  <thead>\n",
              "    <tr style=\"text-align: right;\">\n",
              "      <th></th>\n",
              "      <th>year</th>\n",
              "      <th>make</th>\n",
              "      <th>model</th>\n",
              "      <th>trim</th>\n",
              "      <th>body</th>\n",
              "      <th>transmission</th>\n",
              "      <th>vin</th>\n",
              "      <th>state</th>\n",
              "      <th>condition</th>\n",
              "      <th>odometer</th>\n",
              "      <th>color</th>\n",
              "      <th>interior</th>\n",
              "      <th>seller</th>\n",
              "      <th>sellingprice</th>\n",
              "      <th>saledate</th>\n",
              "    </tr>\n",
              "  </thead>\n",
              "  <tbody>\n",
              "    <tr>\n",
              "      <th>0</th>\n",
              "      <td>2011</td>\n",
              "      <td>ford</td>\n",
              "      <td>edge</td>\n",
              "      <td>sel</td>\n",
              "      <td>suv</td>\n",
              "      <td>automatic</td>\n",
              "      <td>2fmdk3jc4bba41556</td>\n",
              "      <td>md</td>\n",
              "      <td>4.2</td>\n",
              "      <td>111041.0</td>\n",
              "      <td>black</td>\n",
              "      <td>black</td>\n",
              "      <td>santander consumer</td>\n",
              "      <td>12500</td>\n",
              "      <td>tue jun 02 2015 02:30:00 gmt-0700 (pdt)</td>\n",
              "    </tr>\n",
              "    <tr>\n",
              "      <th>1</th>\n",
              "      <td>2014</td>\n",
              "      <td>ford</td>\n",
              "      <td>fusion</td>\n",
              "      <td>se</td>\n",
              "      <td>sedan</td>\n",
              "      <td>automatic</td>\n",
              "      <td>3fa6p0h75er208976</td>\n",
              "      <td>mo</td>\n",
              "      <td>3.5</td>\n",
              "      <td>31034.0</td>\n",
              "      <td>black</td>\n",
              "      <td>black</td>\n",
              "      <td>ars/avis budget group</td>\n",
              "      <td>14500</td>\n",
              "      <td>wed feb 25 2015 02:00:00 gmt-0800 (pst)</td>\n",
              "    </tr>\n",
              "    <tr>\n",
              "      <th>2</th>\n",
              "      <td>2012</td>\n",
              "      <td>nissan</td>\n",
              "      <td>sentra</td>\n",
              "      <td>2.0 sl</td>\n",
              "      <td>sedan</td>\n",
              "      <td>automatic</td>\n",
              "      <td>3n1ab6ap4cl698412</td>\n",
              "      <td>nj</td>\n",
              "      <td>2.2</td>\n",
              "      <td>35619.0</td>\n",
              "      <td>black</td>\n",
              "      <td>black</td>\n",
              "      <td>nissan-infiniti lt</td>\n",
              "      <td>9100</td>\n",
              "      <td>wed jun 10 2015 02:30:00 gmt-0700 (pdt)</td>\n",
              "    </tr>\n",
              "    <tr>\n",
              "      <th>3</th>\n",
              "      <td>2003</td>\n",
              "      <td>hummer</td>\n",
              "      <td>h2</td>\n",
              "      <td>base</td>\n",
              "      <td>suv</td>\n",
              "      <td>automatic</td>\n",
              "      <td>5grgn23u93h101360</td>\n",
              "      <td>tx</td>\n",
              "      <td>2.8</td>\n",
              "      <td>131301.0</td>\n",
              "      <td>gold</td>\n",
              "      <td>beige</td>\n",
              "      <td>wichita falls ford lin inc</td>\n",
              "      <td>13300</td>\n",
              "      <td>wed jun 17 2015 03:00:00 gmt-0700 (pdt)</td>\n",
              "    </tr>\n",
              "    <tr>\n",
              "      <th>4</th>\n",
              "      <td>2007</td>\n",
              "      <td>ford</td>\n",
              "      <td>fusion</td>\n",
              "      <td>sel</td>\n",
              "      <td>sedan</td>\n",
              "      <td>automatic</td>\n",
              "      <td>3fahp08z17r268380</td>\n",
              "      <td>md</td>\n",
              "      <td>2.0</td>\n",
              "      <td>127709.0</td>\n",
              "      <td>black</td>\n",
              "      <td>black</td>\n",
              "      <td>purple heart</td>\n",
              "      <td>1300</td>\n",
              "      <td>tue feb 03 2015 04:00:00 gmt-0800 (pst)</td>\n",
              "    </tr>\n",
              "  </tbody>\n",
              "</table>\n",
              "</div>"
            ],
            "text/plain": [
              "   year    make   model    trim   body transmission                vin state  \\\n",
              "0  2011    ford    edge     sel    suv    automatic  2fmdk3jc4bba41556    md   \n",
              "1  2014    ford  fusion      se  sedan    automatic  3fa6p0h75er208976    mo   \n",
              "2  2012  nissan  sentra  2.0 sl  sedan    automatic  3n1ab6ap4cl698412    nj   \n",
              "3  2003  hummer      h2    base    suv    automatic  5grgn23u93h101360    tx   \n",
              "4  2007    ford  fusion     sel  sedan    automatic  3fahp08z17r268380    md   \n",
              "\n",
              "   condition  odometer  color interior                      seller  \\\n",
              "0        4.2  111041.0  black    black          santander consumer   \n",
              "1        3.5   31034.0  black    black       ars/avis budget group   \n",
              "2        2.2   35619.0  black    black          nissan-infiniti lt   \n",
              "3        2.8  131301.0   gold    beige  wichita falls ford lin inc   \n",
              "4        2.0  127709.0  black    black                purple heart   \n",
              "\n",
              "   sellingprice                                 saledate  \n",
              "0         12500  tue jun 02 2015 02:30:00 gmt-0700 (pdt)  \n",
              "1         14500  wed feb 25 2015 02:00:00 gmt-0800 (pst)  \n",
              "2          9100  wed jun 10 2015 02:30:00 gmt-0700 (pdt)  \n",
              "3         13300  wed jun 17 2015 03:00:00 gmt-0700 (pdt)  \n",
              "4          1300  tue feb 03 2015 04:00:00 gmt-0800 (pst)  "
            ]
          },
          "execution_count": 57,
          "metadata": {},
          "output_type": "execute_result"
        }
      ],
      "source": [
        "data_train.head()"
      ]
    },
    {
      "cell_type": "markdown",
      "metadata": {},
      "source": [
        "Мы видим, что год поизводства автомобиля и дата продажи автомобиля имеют неверный формат данных. Приведем их к верному формату и создадим новый столбец с количсетвом дней от момента производства автомобиля до момента его продажи на вторичном рынке."
      ]
    },
    {
      "cell_type": "code",
      "execution_count": 58,
      "metadata": {
        "id": "5HJDVvViRzmX"
      },
      "outputs": [],
      "source": [
        "data_train ['year_datetime'] = pd.to_datetime(data_train['year'], format = '%Y').dt.strftime('%d.%m.%Y')\n",
        "data_train ['year_datetime'] = pd.to_datetime(data_train ['year_datetime'], format = ('%d.%m.%Y'))"
      ]
    },
    {
      "cell_type": "code",
      "execution_count": 59,
      "metadata": {
        "id": "aZaCl8HWY7Dq"
      },
      "outputs": [],
      "source": [
        "data_test ['year_datetime'] = pd.to_datetime(data_test['year'], format = '%Y').dt.strftime('%d.%m.%Y')\n",
        "data_test ['year_datetime'] = pd.to_datetime(data_test ['year_datetime'], format = ('%d.%m.%Y'))"
      ]
    },
    {
      "cell_type": "code",
      "execution_count": 60,
      "metadata": {
        "id": "hWxYdUuCdH6t"
      },
      "outputs": [],
      "source": [
        "# Используем регулярное выражение для извлечения даты в столбце с датой продажи автомобиля.\n",
        "date_pattern = r'(\\w{3} \\w{3} \\d{2} \\d{4} \\d{2}:\\d{2}:\\d{2})'\n",
        "data_train['saledate_datetime'] = data_train['saledate'].str.extract(date_pattern, expand=False)\n",
        "data_train['saledate_datetime'] = pd.to_datetime(data_train['saledate_datetime'], format='%a %b %d %Y %H:%M:%S').dt.strftime('%d.%m.%Y')\n",
        "data_train['saledate_datetime'] = pd.to_datetime(data_train['saledate_datetime'], format = ('%d.%m.%Y'))"
      ]
    },
    {
      "cell_type": "code",
      "execution_count": 61,
      "metadata": {
        "id": "wdmrrlGpgnD_"
      },
      "outputs": [],
      "source": [
        "# Аналогично делаем и для тестовой выборки\n",
        "date_pattern = r'(\\w{3} \\w{3} \\d{2} \\d{4} \\d{2}:\\d{2}:\\d{2})'\n",
        "data_test['saledate_datetime'] = data_test['saledate'].str.extract(date_pattern, expand=False)\n",
        "data_test['saledate_datetime'] = pd.to_datetime(data_test['saledate_datetime'], format='%a %b %d %Y %H:%M:%S').dt.strftime('%d.%m.%Y')\n",
        "data_test['saledate_datetime'] = pd.to_datetime(data_test['saledate_datetime'], format = ('%d.%m.%Y'))"
      ]
    },
    {
      "cell_type": "code",
      "execution_count": 62,
      "metadata": {
        "id": "O77pF1Gmgwjs"
      },
      "outputs": [],
      "source": [
        "# Создаем новый столбец с данными и приводим его в числовой формат\n",
        "data_train['expluatacion_days'] = (data_train['saledate_datetime'] - data_train['year_datetime']).dt.days\n",
        "data_test['expluatacion_days'] = (data_test['saledate_datetime'] - data_test['year_datetime']).dt.days"
      ]
    },
    {
      "cell_type": "markdown",
      "metadata": {},
      "source": [
        "Создаем еще один столбец с синтетическими данными: сколько в среднем проезжал автомобиль за день. Для этого делим пробег на количество дней жизни автомобиля."
      ]
    },
    {
      "cell_type": "code",
      "execution_count": 63,
      "metadata": {
        "id": "YtsrAu0thhRp"
      },
      "outputs": [],
      "source": [
        "data_train['mileage_per_day'] = (data_train['odometer']/data_train['expluatacion_days']).round(2)\n",
        "data_test['mileage_per_day'] = (data_test['odometer']/data_train['expluatacion_days']).round(2)\n",
        "data_test['mileage_per_day'] = data_test['mileage_per_day'] .fillna(data_test['mileage_per_day'].median())"
      ]
    },
    {
      "cell_type": "markdown",
      "metadata": {},
      "source": [
        "Проверим не появилось ли при делении значений равных бесконечности."
      ]
    },
    {
      "cell_type": "code",
      "execution_count": 64,
      "metadata": {},
      "outputs": [
        {
          "data": {
            "text/html": [
              "<div>\n",
              "<style scoped>\n",
              "    .dataframe tbody tr th:only-of-type {\n",
              "        vertical-align: middle;\n",
              "    }\n",
              "\n",
              "    .dataframe tbody tr th {\n",
              "        vertical-align: top;\n",
              "    }\n",
              "\n",
              "    .dataframe thead th {\n",
              "        text-align: right;\n",
              "    }\n",
              "</style>\n",
              "<table border=\"1\" class=\"dataframe\">\n",
              "  <thead>\n",
              "    <tr style=\"text-align: right;\">\n",
              "      <th></th>\n",
              "      <th>year</th>\n",
              "      <th>make</th>\n",
              "      <th>model</th>\n",
              "      <th>trim</th>\n",
              "      <th>body</th>\n",
              "      <th>transmission</th>\n",
              "      <th>vin</th>\n",
              "      <th>state</th>\n",
              "      <th>condition</th>\n",
              "      <th>odometer</th>\n",
              "      <th>color</th>\n",
              "      <th>interior</th>\n",
              "      <th>seller</th>\n",
              "      <th>sellingprice</th>\n",
              "      <th>saledate</th>\n",
              "      <th>year_datetime</th>\n",
              "      <th>saledate_datetime</th>\n",
              "      <th>expluatacion_days</th>\n",
              "      <th>mileage_per_day</th>\n",
              "    </tr>\n",
              "  </thead>\n",
              "  <tbody>\n",
              "    <tr>\n",
              "      <th>2180</th>\n",
              "      <td>2014</td>\n",
              "      <td>toyota</td>\n",
              "      <td>camry</td>\n",
              "      <td>xle</td>\n",
              "      <td>sedan</td>\n",
              "      <td>automatic</td>\n",
              "      <td>4t1bf1fk3eu327266</td>\n",
              "      <td>sc</td>\n",
              "      <td>3.0</td>\n",
              "      <td>33959.0</td>\n",
              "      <td>gray</td>\n",
              "      <td>gray</td>\n",
              "      <td>enterprise vehicle exchange / tra / rental / t...</td>\n",
              "      <td>14800</td>\n",
              "      <td>wed jan 01 2014 09:15:00 gmt-0800 (pst)</td>\n",
              "      <td>2014-01-01</td>\n",
              "      <td>2014-01-01</td>\n",
              "      <td>0</td>\n",
              "      <td>inf</td>\n",
              "    </tr>\n",
              "    <tr>\n",
              "      <th>11022</th>\n",
              "      <td>2014</td>\n",
              "      <td>chevrolet</td>\n",
              "      <td>malibu</td>\n",
              "      <td>lt</td>\n",
              "      <td>sedan</td>\n",
              "      <td>automatic</td>\n",
              "      <td>1g11e5sl4ef137451</td>\n",
              "      <td>sc</td>\n",
              "      <td>2.7</td>\n",
              "      <td>27495.0</td>\n",
              "      <td>black</td>\n",
              "      <td>black</td>\n",
              "      <td>enterprise veh exchange/rental</td>\n",
              "      <td>13800</td>\n",
              "      <td>wed jan 01 2014 09:15:00 gmt-0800 (pst)</td>\n",
              "      <td>2014-01-01</td>\n",
              "      <td>2014-01-01</td>\n",
              "      <td>0</td>\n",
              "      <td>inf</td>\n",
              "    </tr>\n",
              "    <tr>\n",
              "      <th>38837</th>\n",
              "      <td>2014</td>\n",
              "      <td>ford</td>\n",
              "      <td>f-250 super duty</td>\n",
              "      <td>xl</td>\n",
              "      <td>crew cab</td>\n",
              "      <td>automatic</td>\n",
              "      <td>1ft7w2b66eea10763</td>\n",
              "      <td>sc</td>\n",
              "      <td>4.2</td>\n",
              "      <td>19808.0</td>\n",
              "      <td>white</td>\n",
              "      <td>gray</td>\n",
              "      <td>enterprise veh exchange/rental</td>\n",
              "      <td>26500</td>\n",
              "      <td>wed jan 01 2014 09:15:00 gmt-0800 (pst)</td>\n",
              "      <td>2014-01-01</td>\n",
              "      <td>2014-01-01</td>\n",
              "      <td>0</td>\n",
              "      <td>inf</td>\n",
              "    </tr>\n",
              "    <tr>\n",
              "      <th>49792</th>\n",
              "      <td>2014</td>\n",
              "      <td>chrysler</td>\n",
              "      <td>town and country</td>\n",
              "      <td>touring</td>\n",
              "      <td>minivan</td>\n",
              "      <td>automatic</td>\n",
              "      <td>2c4rc1bg9er131861</td>\n",
              "      <td>sc</td>\n",
              "      <td>2.0</td>\n",
              "      <td>28905.0</td>\n",
              "      <td>white</td>\n",
              "      <td>tan</td>\n",
              "      <td>enterprise vehicle exchange / tra / rental / t...</td>\n",
              "      <td>13600</td>\n",
              "      <td>wed jan 01 2014 11:00:00 gmt-0800 (pst)</td>\n",
              "      <td>2014-01-01</td>\n",
              "      <td>2014-01-01</td>\n",
              "      <td>0</td>\n",
              "      <td>inf</td>\n",
              "    </tr>\n",
              "    <tr>\n",
              "      <th>97329</th>\n",
              "      <td>2014</td>\n",
              "      <td>dodge</td>\n",
              "      <td>challenger</td>\n",
              "      <td>sxt</td>\n",
              "      <td>coupe</td>\n",
              "      <td>automatic</td>\n",
              "      <td>2c3cdyagxeh224606</td>\n",
              "      <td>sc</td>\n",
              "      <td>2.0</td>\n",
              "      <td>25586.0</td>\n",
              "      <td>silver</td>\n",
              "      <td>black</td>\n",
              "      <td>enterprise vehicle exchange / tra / rental / t...</td>\n",
              "      <td>15900</td>\n",
              "      <td>wed jan 01 2014 11:00:00 gmt-0800 (pst)</td>\n",
              "      <td>2014-01-01</td>\n",
              "      <td>2014-01-01</td>\n",
              "      <td>0</td>\n",
              "      <td>inf</td>\n",
              "    </tr>\n",
              "    <tr>\n",
              "      <th>254760</th>\n",
              "      <td>2015</td>\n",
              "      <td>chevrolet</td>\n",
              "      <td>suburban</td>\n",
              "      <td>lt</td>\n",
              "      <td>suv</td>\n",
              "      <td>automatic</td>\n",
              "      <td>1gnscjkcxfr165840</td>\n",
              "      <td>sc</td>\n",
              "      <td>1.0</td>\n",
              "      <td>6914.0</td>\n",
              "      <td>black</td>\n",
              "      <td>gray</td>\n",
              "      <td>enterprise vehicle exchange / tra / rental / t...</td>\n",
              "      <td>37200</td>\n",
              "      <td>thu jan 01 2015 11:00:00 gmt-0800 (pst)</td>\n",
              "      <td>2015-01-01</td>\n",
              "      <td>2015-01-01</td>\n",
              "      <td>0</td>\n",
              "      <td>inf</td>\n",
              "    </tr>\n",
              "    <tr>\n",
              "      <th>352181</th>\n",
              "      <td>2014</td>\n",
              "      <td>chrysler</td>\n",
              "      <td>200</td>\n",
              "      <td>lx</td>\n",
              "      <td>sedan</td>\n",
              "      <td>automatic</td>\n",
              "      <td>1c3ccbab5en141595</td>\n",
              "      <td>sc</td>\n",
              "      <td>2.0</td>\n",
              "      <td>28176.0</td>\n",
              "      <td>burgundy</td>\n",
              "      <td>silver</td>\n",
              "      <td>enterprise vehicle exchange / tra / rental / t...</td>\n",
              "      <td>9700</td>\n",
              "      <td>wed jan 01 2014 11:00:00 gmt-0800 (pst)</td>\n",
              "      <td>2014-01-01</td>\n",
              "      <td>2014-01-01</td>\n",
              "      <td>0</td>\n",
              "      <td>inf</td>\n",
              "    </tr>\n",
              "    <tr>\n",
              "      <th>409159</th>\n",
              "      <td>2015</td>\n",
              "      <td>mazda</td>\n",
              "      <td>cx-5</td>\n",
              "      <td>touring</td>\n",
              "      <td>suv</td>\n",
              "      <td>automatic</td>\n",
              "      <td>jm3ke2cy0f0435575</td>\n",
              "      <td>sc</td>\n",
              "      <td>1.0</td>\n",
              "      <td>19276.0</td>\n",
              "      <td>silver</td>\n",
              "      <td>black</td>\n",
              "      <td>enterprise vehicle exchange / tra / rental / t...</td>\n",
              "      <td>11600</td>\n",
              "      <td>thu jan 01 2015 11:00:00 gmt-0800 (pst)</td>\n",
              "      <td>2015-01-01</td>\n",
              "      <td>2015-01-01</td>\n",
              "      <td>0</td>\n",
              "      <td>inf</td>\n",
              "    </tr>\n",
              "    <tr>\n",
              "      <th>436660</th>\n",
              "      <td>2014</td>\n",
              "      <td>chevrolet</td>\n",
              "      <td>captiva sport</td>\n",
              "      <td>ltz fleet</td>\n",
              "      <td>suv</td>\n",
              "      <td>automatic</td>\n",
              "      <td>3gnal4ek8es560059</td>\n",
              "      <td>sc</td>\n",
              "      <td>2.8</td>\n",
              "      <td>34169.0</td>\n",
              "      <td>black</td>\n",
              "      <td>gray</td>\n",
              "      <td>enterprise veh exchange/rental</td>\n",
              "      <td>15000</td>\n",
              "      <td>wed jan 01 2014 09:15:00 gmt-0800 (pst)</td>\n",
              "      <td>2014-01-01</td>\n",
              "      <td>2014-01-01</td>\n",
              "      <td>0</td>\n",
              "      <td>inf</td>\n",
              "    </tr>\n",
              "  </tbody>\n",
              "</table>\n",
              "</div>"
            ],
            "text/plain": [
              "        year       make             model       trim       body transmission  \\\n",
              "2180    2014     toyota             camry        xle      sedan    automatic   \n",
              "11022   2014  chevrolet            malibu         lt      sedan    automatic   \n",
              "38837   2014       ford  f-250 super duty         xl  crew cab     automatic   \n",
              "49792   2014   chrysler  town and country    touring    minivan    automatic   \n",
              "97329   2014      dodge        challenger        sxt      coupe    automatic   \n",
              "254760  2015  chevrolet          suburban         lt        suv    automatic   \n",
              "352181  2014   chrysler               200         lx      sedan    automatic   \n",
              "409159  2015      mazda              cx-5    touring        suv    automatic   \n",
              "436660  2014  chevrolet     captiva sport  ltz fleet        suv    automatic   \n",
              "\n",
              "                      vin state  condition  odometer     color interior  \\\n",
              "2180    4t1bf1fk3eu327266    sc        3.0   33959.0      gray     gray   \n",
              "11022   1g11e5sl4ef137451    sc        2.7   27495.0     black    black   \n",
              "38837   1ft7w2b66eea10763    sc        4.2   19808.0     white     gray   \n",
              "49792   2c4rc1bg9er131861    sc        2.0   28905.0     white      tan   \n",
              "97329   2c3cdyagxeh224606    sc        2.0   25586.0    silver    black   \n",
              "254760  1gnscjkcxfr165840    sc        1.0    6914.0     black     gray   \n",
              "352181  1c3ccbab5en141595    sc        2.0   28176.0  burgundy   silver   \n",
              "409159  jm3ke2cy0f0435575    sc        1.0   19276.0    silver    black   \n",
              "436660  3gnal4ek8es560059    sc        2.8   34169.0     black     gray   \n",
              "\n",
              "                                                   seller  sellingprice  \\\n",
              "2180    enterprise vehicle exchange / tra / rental / t...         14800   \n",
              "11022                      enterprise veh exchange/rental         13800   \n",
              "38837                      enterprise veh exchange/rental         26500   \n",
              "49792   enterprise vehicle exchange / tra / rental / t...         13600   \n",
              "97329   enterprise vehicle exchange / tra / rental / t...         15900   \n",
              "254760  enterprise vehicle exchange / tra / rental / t...         37200   \n",
              "352181  enterprise vehicle exchange / tra / rental / t...          9700   \n",
              "409159  enterprise vehicle exchange / tra / rental / t...         11600   \n",
              "436660                     enterprise veh exchange/rental         15000   \n",
              "\n",
              "                                       saledate year_datetime  \\\n",
              "2180    wed jan 01 2014 09:15:00 gmt-0800 (pst)    2014-01-01   \n",
              "11022   wed jan 01 2014 09:15:00 gmt-0800 (pst)    2014-01-01   \n",
              "38837   wed jan 01 2014 09:15:00 gmt-0800 (pst)    2014-01-01   \n",
              "49792   wed jan 01 2014 11:00:00 gmt-0800 (pst)    2014-01-01   \n",
              "97329   wed jan 01 2014 11:00:00 gmt-0800 (pst)    2014-01-01   \n",
              "254760  thu jan 01 2015 11:00:00 gmt-0800 (pst)    2015-01-01   \n",
              "352181  wed jan 01 2014 11:00:00 gmt-0800 (pst)    2014-01-01   \n",
              "409159  thu jan 01 2015 11:00:00 gmt-0800 (pst)    2015-01-01   \n",
              "436660  wed jan 01 2014 09:15:00 gmt-0800 (pst)    2014-01-01   \n",
              "\n",
              "       saledate_datetime  expluatacion_days  mileage_per_day  \n",
              "2180          2014-01-01                  0              inf  \n",
              "11022         2014-01-01                  0              inf  \n",
              "38837         2014-01-01                  0              inf  \n",
              "49792         2014-01-01                  0              inf  \n",
              "97329         2014-01-01                  0              inf  \n",
              "254760        2015-01-01                  0              inf  \n",
              "352181        2014-01-01                  0              inf  \n",
              "409159        2015-01-01                  0              inf  \n",
              "436660        2014-01-01                  0              inf  "
            ]
          },
          "execution_count": 64,
          "metadata": {},
          "output_type": "execute_result"
        }
      ],
      "source": [
        "data_train[data_train.isin([np.inf, -np.inf]).any(axis = 1)]"
      ]
    },
    {
      "cell_type": "code",
      "execution_count": 65,
      "metadata": {},
      "outputs": [
        {
          "data": {
            "text/html": [
              "<div>\n",
              "<style scoped>\n",
              "    .dataframe tbody tr th:only-of-type {\n",
              "        vertical-align: middle;\n",
              "    }\n",
              "\n",
              "    .dataframe tbody tr th {\n",
              "        vertical-align: top;\n",
              "    }\n",
              "\n",
              "    .dataframe thead th {\n",
              "        text-align: right;\n",
              "    }\n",
              "</style>\n",
              "<table border=\"1\" class=\"dataframe\">\n",
              "  <thead>\n",
              "    <tr style=\"text-align: right;\">\n",
              "      <th></th>\n",
              "      <th>year</th>\n",
              "      <th>make</th>\n",
              "      <th>model</th>\n",
              "      <th>trim</th>\n",
              "      <th>body</th>\n",
              "      <th>transmission</th>\n",
              "      <th>vin</th>\n",
              "      <th>state</th>\n",
              "      <th>condition</th>\n",
              "      <th>odometer</th>\n",
              "      <th>color</th>\n",
              "      <th>interior</th>\n",
              "      <th>seller</th>\n",
              "      <th>saledate</th>\n",
              "      <th>year_datetime</th>\n",
              "      <th>saledate_datetime</th>\n",
              "      <th>expluatacion_days</th>\n",
              "      <th>mileage_per_day</th>\n",
              "    </tr>\n",
              "  </thead>\n",
              "  <tbody>\n",
              "    <tr>\n",
              "      <th>2180</th>\n",
              "      <td>2007</td>\n",
              "      <td>chevrolet</td>\n",
              "      <td>equinox</td>\n",
              "      <td>ls</td>\n",
              "      <td>suv</td>\n",
              "      <td>automatic</td>\n",
              "      <td>2cndl23f376004559</td>\n",
              "      <td>nc</td>\n",
              "      <td>2.9</td>\n",
              "      <td>97725.0</td>\n",
              "      <td>black</td>\n",
              "      <td>gray</td>\n",
              "      <td>manheim statesville</td>\n",
              "      <td>tue jan 20 2015 01:30:00 gmt-0800 (pst)</td>\n",
              "      <td>2007-01-01</td>\n",
              "      <td>2015-01-20</td>\n",
              "      <td>2941</td>\n",
              "      <td>inf</td>\n",
              "    </tr>\n",
              "    <tr>\n",
              "      <th>11022</th>\n",
              "      <td>2014</td>\n",
              "      <td>ford</td>\n",
              "      <td>explorer</td>\n",
              "      <td>sport</td>\n",
              "      <td>suv</td>\n",
              "      <td>automatic</td>\n",
              "      <td>1fm5k8gt3egc39955</td>\n",
              "      <td>mo</td>\n",
              "      <td>4.2</td>\n",
              "      <td>20814.0</td>\n",
              "      <td>off-white</td>\n",
              "      <td>black</td>\n",
              "      <td>kc landsmen ars</td>\n",
              "      <td>wed jan 21 2015 02:00:00 gmt-0800 (pst)</td>\n",
              "      <td>2014-01-01</td>\n",
              "      <td>2015-01-21</td>\n",
              "      <td>385</td>\n",
              "      <td>inf</td>\n",
              "    </tr>\n",
              "    <tr>\n",
              "      <th>38837</th>\n",
              "      <td>2007</td>\n",
              "      <td>ford</td>\n",
              "      <td>f-150</td>\n",
              "      <td>fx4</td>\n",
              "      <td>supercrew</td>\n",
              "      <td>automatic</td>\n",
              "      <td>1ftpw14v67kc80708</td>\n",
              "      <td>tx</td>\n",
              "      <td>2.0</td>\n",
              "      <td>184613.0</td>\n",
              "      <td>white</td>\n",
              "      <td>black</td>\n",
              "      <td>allen samuels chrysler dodge jeep ram</td>\n",
              "      <td>wed feb 18 2015 02:00:00 gmt-0800 (pst)</td>\n",
              "      <td>2007-01-01</td>\n",
              "      <td>2015-02-18</td>\n",
              "      <td>2970</td>\n",
              "      <td>inf</td>\n",
              "    </tr>\n",
              "    <tr>\n",
              "      <th>49792</th>\n",
              "      <td>2014</td>\n",
              "      <td>kia</td>\n",
              "      <td>sportage</td>\n",
              "      <td>lx</td>\n",
              "      <td>suv</td>\n",
              "      <td>automatic</td>\n",
              "      <td>kndpb3ac3e7563075</td>\n",
              "      <td>nv</td>\n",
              "      <td>3.7</td>\n",
              "      <td>16923.0</td>\n",
              "      <td>black</td>\n",
              "      <td>gray</td>\n",
              "      <td>kia motors america, inc</td>\n",
              "      <td>fri feb 06 2015 04:00:00 gmt-0800 (pst)</td>\n",
              "      <td>2014-01-01</td>\n",
              "      <td>2015-02-06</td>\n",
              "      <td>401</td>\n",
              "      <td>inf</td>\n",
              "    </tr>\n",
              "    <tr>\n",
              "      <th>97329</th>\n",
              "      <td>2014</td>\n",
              "      <td>nissan</td>\n",
              "      <td>altima</td>\n",
              "      <td>2.5 s</td>\n",
              "      <td>sedan</td>\n",
              "      <td>automatic</td>\n",
              "      <td>1n4al3ap6en351293</td>\n",
              "      <td>fl</td>\n",
              "      <td>3.5</td>\n",
              "      <td>31215.0</td>\n",
              "      <td>silver</td>\n",
              "      <td>black</td>\n",
              "      <td>avis corporation</td>\n",
              "      <td>tue may 26 2015 02:15:00 gmt-0700 (pdt)</td>\n",
              "      <td>2014-01-01</td>\n",
              "      <td>2015-05-26</td>\n",
              "      <td>510</td>\n",
              "      <td>inf</td>\n",
              "    </tr>\n",
              "  </tbody>\n",
              "</table>\n",
              "</div>"
            ],
            "text/plain": [
              "       year       make     model   trim       body transmission  \\\n",
              "2180   2007  chevrolet   equinox     ls        suv    automatic   \n",
              "11022  2014       ford  explorer  sport        suv    automatic   \n",
              "38837  2007       ford     f-150    fx4  supercrew    automatic   \n",
              "49792  2014        kia  sportage     lx        suv    automatic   \n",
              "97329  2014     nissan    altima  2.5 s      sedan    automatic   \n",
              "\n",
              "                     vin state  condition  odometer      color interior  \\\n",
              "2180   2cndl23f376004559    nc        2.9   97725.0      black     gray   \n",
              "11022  1fm5k8gt3egc39955    mo        4.2   20814.0  off-white    black   \n",
              "38837  1ftpw14v67kc80708    tx        2.0  184613.0      white    black   \n",
              "49792  kndpb3ac3e7563075    nv        3.7   16923.0      black     gray   \n",
              "97329  1n4al3ap6en351293    fl        3.5   31215.0     silver    black   \n",
              "\n",
              "                                      seller  \\\n",
              "2180                     manheim statesville   \n",
              "11022                        kc landsmen ars   \n",
              "38837  allen samuels chrysler dodge jeep ram   \n",
              "49792                kia motors america, inc   \n",
              "97329                       avis corporation   \n",
              "\n",
              "                                      saledate year_datetime  \\\n",
              "2180   tue jan 20 2015 01:30:00 gmt-0800 (pst)    2007-01-01   \n",
              "11022  wed jan 21 2015 02:00:00 gmt-0800 (pst)    2014-01-01   \n",
              "38837  wed feb 18 2015 02:00:00 gmt-0800 (pst)    2007-01-01   \n",
              "49792  fri feb 06 2015 04:00:00 gmt-0800 (pst)    2014-01-01   \n",
              "97329  tue may 26 2015 02:15:00 gmt-0700 (pdt)    2014-01-01   \n",
              "\n",
              "      saledate_datetime  expluatacion_days  mileage_per_day  \n",
              "2180         2015-01-20               2941              inf  \n",
              "11022        2015-01-21                385              inf  \n",
              "38837        2015-02-18               2970              inf  \n",
              "49792        2015-02-06                401              inf  \n",
              "97329        2015-05-26                510              inf  "
            ]
          },
          "execution_count": 65,
          "metadata": {},
          "output_type": "execute_result"
        }
      ],
      "source": [
        "data_test[data_test.isin([np.inf, -np.inf]).any(axis = 1)]"
      ]
    },
    {
      "cell_type": "markdown",
      "metadata": {},
      "source": [
        "Так как бесконечные значения все же были обнаружены в обоих датасетах, хоть и не в большом количестве, заменим их значения медианным значением."
      ]
    },
    {
      "cell_type": "code",
      "execution_count": 66,
      "metadata": {},
      "outputs": [],
      "source": [
        "train_index = data_train[data_train.isin([np.inf, -np.inf]).any(axis = 1)].index\n",
        "test_index = data_test[data_test.isin([np.inf, -np.inf]).any(axis = 1)].index\n",
        "data_train.loc[train_index,'mileage_per_day'] = data_train['mileage_per_day'].median()\n",
        "data_test.loc[test_index,'mileage_per_day'] = data_test['mileage_per_day'].median()"
      ]
    },
    {
      "cell_type": "markdown",
      "metadata": {},
      "source": [
        "Построим матрицу корреляции чтоб посмотреть имеются ли сильные зависимости между нашими параметрами и решим что можно и нужно ли с ними сделать, так как в будущем это может повлиять на результаты нашего обучения"
      ]
    },
    {
      "cell_type": "code",
      "execution_count": 67,
      "metadata": {
        "colab": {
          "base_uri": "https://localhost:8080/",
          "height": 623
        },
        "id": "xs1v3g9yYQP5",
        "outputId": "679e8d79-9b0a-4026-a8f9-edc8c644ee7f"
      },
      "outputs": [
        {
          "data": {
            "image/png": "[encoded data removed]",
            "text/plain": [
              "<Figure size 640x480 with 2 Axes>"
            ]
          },
          "metadata": {},
          "output_type": "display_data"
        }
      ],
      "source": [
        "sns.heatmap(data_train.corr(), annot=True, cmap='coolwarm')\n",
        "plt.title('Корреляционная матрица')\n",
        "plt.show()"
      ]
    },
    {
      "cell_type": "markdown",
      "metadata": {},
      "source": [
        "Год производства и пробег и год производства и дни жизни автомобиля имеют высокую обратную зависимоть. Также как и пробег и дни жизни имеют высокую прямую зависимость. Вероятно, стоило бы удалить некоторые столбцы, но так как я не планирую использовать линейные модели и считаю эти признаки достаточно значимыми,то оставлю их."
      ]
    },
    {
      "cell_type": "markdown",
      "metadata": {},
      "source": [
        "## 2. Обучение моделей"
      ]
    },
    {
      "cell_type": "markdown",
      "metadata": {},
      "source": [
        "Перед тем как приступить к обучению моделей удалим из выборок столбцы, которые не несут в себе никакой значимой информации и никак не помогут обучению нашей модели."
      ]
    },
    {
      "cell_type": "code",
      "execution_count": 68,
      "metadata": {
        "id": "zZ7K4CvnXsJe"
      },
      "outputs": [],
      "source": [
        "data_train = data_train.drop(columns = ['vin', 'seller', 'saledate', 'year_datetime', 'saledate_datetime'])\n",
        "data_test = data_test.drop(columns = ['vin', 'seller', 'saledate', 'year_datetime', 'saledate_datetime'])"
      ]
    },
    {
      "cell_type": "markdown",
      "metadata": {},
      "source": [
        "Теперь разделим нашу выборку на признаки для обучения и целевой признак (цена продажи). Так как тестовая выборка не имеет целевого признака и на ней мы будем делать предсказания на лучшей модели, то просто немного скорректируем название ее переменной для дальнейшего удобства."
      ]
    },
    {
      "cell_type": "code",
      "execution_count": 69,
      "metadata": {
        "id": "aTmCTPGIBfQa"
      },
      "outputs": [],
      "source": [
        "features_train = data_train.drop(columns = 'sellingprice')\n",
        "target_train = data_train['sellingprice']\n",
        "\n",
        "features_test = data_test"
      ]
    },
    {
      "cell_type": "markdown",
      "metadata": {},
      "source": [
        "Для некоторых моделей необходимо кодирование не числовых признаков. Заранее выделим имена столбцов с такими признаками для последующего удобства использования."
      ]
    },
    {
      "cell_type": "code",
      "execution_count": 70,
      "metadata": {
        "id": "CzCV5OyYEsSm"
      },
      "outputs": [],
      "source": [
        "oe_features = features_train.drop(columns = ['year', 'condition', 'odometer', 'expluatacion_days', 'mileage_per_day']).columns"
      ]
    },
    {
      "cell_type": "markdown",
      "metadata": {},
      "source": [
        "Закодируем необходимые признаки посредством LabelEncoder. Датасет с незакодированными признаки сохраним в отдельной переменной."
      ]
    },
    {
      "cell_type": "code",
      "execution_count": 71,
      "metadata": {},
      "outputs": [],
      "source": [
        "not_encod_features_train = features_train.copy()\n",
        "label_encoder = LabelEncoder()\n",
        "for column in oe_features.tolist():\n",
        "    features_train[column] = label_encoder.fit_transform(features_train[column])"
      ]
    },
    {
      "cell_type": "markdown",
      "metadata": {},
      "source": [
        "Нашей первой обученной моделью будет модель случайного леса. Подбор оптимальных параметров будет производиться посредством Optuna.Создаем модель, которая будет перебирать параметры и искать оптимальные, задаем сами параметры и начинаем обучение."
      ]
    },
    {
      "cell_type": "code",
      "execution_count": 72,
      "metadata": {},
      "outputs": [
        {
          "name": "stderr",
          "output_type": "stream",
          "text": [
            "[I 2023-09-02 20:05:26,217] A new study created in memory with name: no-name-37c36f8a-a369-4cfd-a696-d86622bc960b\n",
            "[I 2023-09-02 20:05:58,551] Trial 0 finished with value: 98.09003047124143 and parameters: {'n_estimators': 74, 'max_depth': 10, 'min_samples_split': 0.5195252653929443, 'min_samples_leaf': 0.18252024592177607}. Best is trial 0 with value: 98.09003047124143.\n",
            "[I 2023-09-02 20:06:03,214] Trial 1 finished with value: 176.32467131067355 and parameters: {'n_estimators': 84, 'max_depth': 2, 'min_samples_split': 0.5042912921076894, 'min_samples_leaf': 0.4336983000847038}. Best is trial 0 with value: 98.09003047124143.\n",
            "[I 2023-09-02 20:06:04,870] Trial 2 finished with value: 176.29613673718575 and parameters: {'n_estimators': 27, 'max_depth': 15, 'min_samples_split': 0.4911872714456287, 'min_samples_leaf': 0.48507975916754487}. Best is trial 0 with value: 98.09003047124143.\n",
            "[I 2023-09-02 20:06:08,981] Trial 3 finished with value: 176.3321485260191 and parameters: {'n_estimators': 74, 'max_depth': 12, 'min_samples_split': 0.22322430094882748, 'min_samples_leaf': 0.40654945220498073}. Best is trial 0 with value: 98.09003047124143.\n",
            "[I 2023-09-02 20:06:29,144] Trial 4 finished with value: 98.15029307086958 and parameters: {'n_estimators': 46, 'max_depth': 11, 'min_samples_split': 0.6044099611654407, 'min_samples_leaf': 0.1183513346681028}. Best is trial 0 with value: 98.09003047124143.\n",
            "[I 2023-09-02 20:06:31,627] Trial 5 finished with value: 176.3269804515517 and parameters: {'n_estimators': 42, 'max_depth': 2, 'min_samples_split': 0.5893919480985359, 'min_samples_leaf': 0.3825238648747189}. Best is trial 0 with value: 98.09003047124143.\n",
            "[I 2023-09-02 20:06:43,730] Trial 6 finished with value: 98.1421374854752 and parameters: {'n_estimators': 28, 'max_depth': 11, 'min_samples_split': 0.5321392941566241, 'min_samples_leaf': 0.15277518555217187}. Best is trial 0 with value: 98.09003047124143.\n",
            "[I 2023-09-02 20:06:45,975] Trial 7 finished with value: 176.32792790840998 and parameters: {'n_estimators': 39, 'max_depth': 3, 'min_samples_split': 0.28993149910041977, 'min_samples_leaf': 0.4839290276967244}. Best is trial 0 with value: 98.09003047124143.\n",
            "[I 2023-09-02 20:06:50,802] Trial 8 finished with value: 176.33001670690197 and parameters: {'n_estimators': 88, 'max_depth': 16, 'min_samples_split': 0.2544644288529739, 'min_samples_leaf': 0.3218942546237008}. Best is trial 0 with value: 98.09003047124143.\n",
            "[I 2023-09-02 20:06:53,561] Trial 9 finished with value: 176.32697413362223 and parameters: {'n_estimators': 47, 'max_depth': 5, 'min_samples_split': 0.8257954206933392, 'min_samples_leaf': 0.23497621203187624}. Best is trial 0 with value: 98.09003047124143.\n",
            "[I 2023-09-02 20:06:57,496] Trial 10 finished with value: 176.32793866485758 and parameters: {'n_estimators': 66, 'max_depth': 7, 'min_samples_split': 0.9267945233688226, 'min_samples_leaf': 0.19866055620608059}. Best is trial 0 with value: 98.09003047124143.\n",
            "[I 2023-09-02 20:07:04,041] Trial 11 finished with value: 98.14533773760981 and parameters: {'n_estimators': 14, 'max_depth': 9, 'min_samples_split': 0.4236837202342159, 'min_samples_leaf': 0.1205647154837797}. Best is trial 0 with value: 98.09003047124143.\n",
            "[I 2023-09-02 20:07:07,538] Trial 12 finished with value: 176.3345171337347 and parameters: {'n_estimators': 63, 'max_depth': 12, 'min_samples_split': 0.7513987498635739, 'min_samples_leaf': 0.20195415374720652}. Best is trial 0 with value: 98.09003047124143.\n",
            "[I 2023-09-02 20:08:12,747] Trial 13 finished with value: 95.81679657796205 and parameters: {'n_estimators': 97, 'max_depth': 9, 'min_samples_split': 0.11244384844243321, 'min_samples_leaf': 0.16273041882320574}. Best is trial 13 with value: 95.81679657796205.\n",
            "[I 2023-09-02 20:08:53,538] Trial 14 finished with value: 103.85083814236742 and parameters: {'n_estimators': 98, 'max_depth': 8, 'min_samples_split': 0.10524204004138749, 'min_samples_leaf': 0.2764212045166172}. Best is trial 13 with value: 95.81679657796205.\n",
            "[I 2023-09-02 20:09:56,305] Trial 15 finished with value: 95.82245103085613 and parameters: {'n_estimators': 98, 'max_depth': 6, 'min_samples_split': 0.3610306777064306, 'min_samples_leaf': 0.17695231064698216}. Best is trial 13 with value: 95.81679657796205.\n",
            "[I 2023-09-02 20:10:38,315] Trial 16 finished with value: 98.30481507471526 and parameters: {'n_estimators': 99, 'max_depth': 6, 'min_samples_split': 0.12531902357064664, 'min_samples_leaf': 0.2454674374465043}. Best is trial 13 with value: 95.81679657796205.\n",
            "[I 2023-09-02 20:11:35,499] Trial 17 finished with value: 95.88178052592092 and parameters: {'n_estimators': 88, 'max_depth': 4, 'min_samples_split': 0.37889269228935096, 'min_samples_leaf': 0.10309153069460016}. Best is trial 13 with value: 95.81679657796205.\n",
            "[I 2023-09-02 20:12:40,329] Trial 18 finished with value: 95.82564090194519 and parameters: {'n_estimators': 100, 'max_depth': 7, 'min_samples_split': 0.3535261352577981, 'min_samples_leaf': 0.1558133071263946}. Best is trial 13 with value: 95.81679657796205.\n",
            "[I 2023-09-02 20:13:12,910] Trial 19 finished with value: 109.99030058699051 and parameters: {'n_estimators': 81, 'max_depth': 5, 'min_samples_split': 0.20008365783443832, 'min_samples_leaf': 0.30654814107393186}. Best is trial 13 with value: 95.81679657796205.\n",
            "[I 2023-09-02 20:13:49,467] Trial 20 finished with value: 95.84234123396477 and parameters: {'n_estimators': 57, 'max_depth': 14, 'min_samples_split': 0.31609808787869714, 'min_samples_leaf': 0.15303015574895612}. Best is trial 13 with value: 95.81679657796205.\n",
            "[I 2023-09-02 20:14:54,845] Trial 21 finished with value: 95.8226977236459 and parameters: {'n_estimators': 99, 'max_depth': 8, 'min_samples_split': 0.3444201024999159, 'min_samples_leaf': 0.1438422667333702}. Best is trial 13 with value: 95.81679657796205.\n",
            "[I 2023-09-02 20:15:36,088] Trial 22 finished with value: 98.07817702829435 and parameters: {'n_estimators': 93, 'max_depth': 9, 'min_samples_split': 0.16652519654886888, 'min_samples_leaf': 0.22580453569974177}. Best is trial 13 with value: 95.81679657796205.\n",
            "[I 2023-09-02 20:16:25,371] Trial 23 finished with value: 95.83003444039073 and parameters: {'n_estimators': 77, 'max_depth': 8, 'min_samples_split': 0.2540853445635264, 'min_samples_leaf': 0.17307710492444708}. Best is trial 13 with value: 95.81679657796205.\n",
            "[I 2023-09-02 20:17:23,607] Trial 24 finished with value: 95.81580298996775 and parameters: {'n_estimators': 90, 'max_depth': 6, 'min_samples_split': 0.1738397864656547, 'min_samples_leaf': 0.14016201414846038}. Best is trial 24 with value: 95.81580298996775.\n",
            "[I 2023-09-02 20:18:07,266] Trial 25 finished with value: 97.29347746292775 and parameters: {'n_estimators': 91, 'max_depth': 5, 'min_samples_split': 0.18339293487969047, 'min_samples_leaf': 0.193216145427439}. Best is trial 24 with value: 95.81580298996775.\n",
            "[I 2023-09-02 20:19:02,956] Trial 26 finished with value: 70.16553497433058 and parameters: {'n_estimators': 69, 'max_depth': 6, 'min_samples_split': 0.150166132345488, 'min_samples_leaf': 0.10470396754789107}. Best is trial 26 with value: 70.16553497433058.\n",
            "[I 2023-09-02 20:19:58,446] Trial 27 finished with value: 70.1697898640341 and parameters: {'n_estimators': 64, 'max_depth': 4, 'min_samples_split': 0.12930741109152066, 'min_samples_leaf': 0.10371218012254622}. Best is trial 26 with value: 70.16553497433058.\n",
            "[I 2023-09-02 20:20:53,664] Trial 28 finished with value: 70.17230802689892 and parameters: {'n_estimators': 66, 'max_depth': 4, 'min_samples_split': 0.21075745057852177, 'min_samples_leaf': 0.10498485774873459}. Best is trial 26 with value: 70.16553497433058.\n",
            "[I 2023-09-02 20:21:36,619] Trial 29 finished with value: 95.8458477688051 and parameters: {'n_estimators': 66, 'max_depth': 3, 'min_samples_split': 0.2644725099001791, 'min_samples_leaf': 0.1127142234491676}. Best is trial 26 with value: 70.16553497433058.\n",
            "[I 2023-09-02 20:22:20,487] Trial 30 finished with value: 70.16998518789696 and parameters: {'n_estimators': 55, 'max_depth': 4, 'min_samples_split': 0.10447061078402164, 'min_samples_leaf': 0.10280247358469798}. Best is trial 26 with value: 70.16553497433058.\n",
            "[I 2023-09-02 20:23:06,010] Trial 31 finished with value: 70.17059719600685 and parameters: {'n_estimators': 56, 'max_depth': 4, 'min_samples_split': 0.15085587373326423, 'min_samples_leaf': 0.10125387602336186}. Best is trial 26 with value: 70.16553497433058.\n",
            "[I 2023-09-02 20:23:41,950] Trial 32 finished with value: 95.84106701165267 and parameters: {'n_estimators': 55, 'max_depth': 3, 'min_samples_split': 0.10140844613332059, 'min_samples_leaf': 0.13633587838214545}. Best is trial 26 with value: 70.16553497433058.\n",
            "[I 2023-09-02 20:24:34,215] Trial 33 finished with value: 70.17209173948594 and parameters: {'n_estimators': 61, 'max_depth': 4, 'min_samples_split': 0.14591060358883454, 'min_samples_leaf': 0.10052828122488515}. Best is trial 26 with value: 70.16553497433058.\n",
            "[I 2023-09-02 20:25:20,197] Trial 34 finished with value: 95.83365058593539 and parameters: {'n_estimators': 71, 'max_depth': 2, 'min_samples_split': 0.20787277744920024, 'min_samples_leaf': 0.13283917678191023}. Best is trial 26 with value: 70.16553497433058.\n",
            "[I 2023-09-02 20:25:54,250] Trial 35 finished with value: 95.2788899760666 and parameters: {'n_estimators': 52, 'max_depth': 4, 'min_samples_split': 0.2387900403555655, 'min_samples_leaf': 0.1304450859895793}. Best is trial 26 with value: 70.16553497433058.\n",
            "[I 2023-09-02 20:26:52,633] Trial 36 finished with value: 70.89510644177761 and parameters: {'n_estimators': 72, 'max_depth': 2, 'min_samples_split': 0.16230579187244348, 'min_samples_leaf': 0.12061075953073197}. Best is trial 26 with value: 70.16553497433058.\n",
            "[I 2023-09-02 20:27:25,330] Trial 37 finished with value: 95.8371111211304 and parameters: {'n_estimators': 51, 'max_depth': 5, 'min_samples_split': 0.2991230134952608, 'min_samples_leaf': 0.16904906774891093}. Best is trial 26 with value: 70.16553497433058.\n",
            "[I 2023-09-02 20:27:54,060] Trial 38 finished with value: 70.18873940201007 and parameters: {'n_estimators': 33, 'max_depth': 3, 'min_samples_split': 0.14437548323477378, 'min_samples_leaf': 0.10194815045470736}. Best is trial 26 with value: 70.16553497433058.\n",
            "[I 2023-09-02 20:28:32,301] Trial 39 finished with value: 95.85255872233384 and parameters: {'n_estimators': 59, 'max_depth': 7, 'min_samples_split': 0.23259789507913675, 'min_samples_leaf': 0.13483569862759348}. Best is trial 26 with value: 70.16553497433058.\n",
            "[I 2023-09-02 20:28:57,947] Trial 40 finished with value: 95.87246374156709 and parameters: {'n_estimators': 40, 'max_depth': 6, 'min_samples_split': 0.10374082468674181, 'min_samples_leaf': 0.15362298119825518}. Best is trial 26 with value: 70.16553497433058.\n",
            "[I 2023-09-02 20:29:47,551] Trial 41 finished with value: 70.17209173948594 and parameters: {'n_estimators': 61, 'max_depth': 4, 'min_samples_split': 0.16045299252809178, 'min_samples_leaf': 0.1021356656556165}. Best is trial 26 with value: 70.16553497433058.\n",
            "[I 2023-09-02 20:30:24,923] Trial 42 finished with value: 70.179946020198 and parameters: {'n_estimators': 46, 'max_depth': 3, 'min_samples_split': 0.14890100023745942, 'min_samples_leaf': 0.10004743031805056}. Best is trial 26 with value: 70.16553497433058.\n",
            "[I 2023-09-02 20:31:23,097] Trial 43 finished with value: 77.68875234750006 and parameters: {'n_estimators': 78, 'max_depth': 4, 'min_samples_split': 0.19969616529623052, 'min_samples_leaf': 0.12318256027050349}. Best is trial 26 with value: 70.16553497433058.\n",
            "[I 2023-09-02 20:32:08,090] Trial 44 finished with value: 95.82544682706138 and parameters: {'n_estimators': 69, 'max_depth': 5, 'min_samples_split': 0.2786867819324569, 'min_samples_leaf': 0.11923870357232201}. Best is trial 26 with value: 70.16553497433058.\n",
            "[I 2023-09-02 20:32:42,021] Trial 45 finished with value: 95.81984167568417 and parameters: {'n_estimators': 51, 'max_depth': 3, 'min_samples_split': 0.14498167342593488, 'min_samples_leaf': 0.1827601821579527}. Best is trial 26 with value: 70.16553497433058.\n",
            "[I 2023-09-02 20:33:22,367] Trial 46 finished with value: 95.84554864339566 and parameters: {'n_estimators': 63, 'max_depth': 2, 'min_samples_split': 0.22322535551648448, 'min_samples_leaf': 0.14913595454789688}. Best is trial 26 with value: 70.16553497433058.\n",
            "[I 2023-09-02 20:34:07,603] Trial 47 finished with value: 76.53777387684745 and parameters: {'n_estimators': 54, 'max_depth': 4, 'min_samples_split': 0.10245284811721192, 'min_samples_leaf': 0.12244732097137193}. Best is trial 26 with value: 70.16553497433058.\n",
            "[I 2023-09-02 20:34:43,000] Trial 48 finished with value: 95.88265251503121 and parameters: {'n_estimators': 45, 'max_depth': 6, 'min_samples_split': 0.2740097713662262, 'min_samples_leaf': 0.16880186530115684}. Best is trial 26 with value: 70.16553497433058.\n",
            "[I 2023-09-02 20:35:12,984] Trial 49 finished with value: 74.91210521621731 and parameters: {'n_estimators': 36, 'max_depth': 5, 'min_samples_split': 0.14203605205802194, 'min_samples_leaf': 0.1220327656765427}. Best is trial 26 with value: 70.16553497433058.\n"
          ]
        }
      ],
      "source": [
        "def objective(trial):\n",
        "    # Параметры для оптимизации\n",
        "    n_estimators = trial.suggest_int('n_estimators', 10, 100)\n",
        "    max_depth = trial.suggest_int('max_depth', 2, 16)\n",
        "    min_samples_split = trial.suggest_float('min_samples_split', 0.1, 1.0)\n",
        "    min_samples_leaf = trial.suggest_float('min_samples_leaf', 0.1, 0.5)\n",
        "\n",
        "    # Создание и обучение модели с выбранными параметрами\n",
        "    model = RandomForestRegressor(\n",
        "        n_estimators=n_estimators,\n",
        "        max_depth=max_depth,\n",
        "        min_samples_split=min_samples_split,\n",
        "        min_samples_leaf=min_samples_leaf,\n",
        "        random_state=42\n",
        "    )\n",
        "\n",
        "    # Оценка модели с помощью кросс-валидации и метрики MAPE на тренировочных данных\n",
        "    target_train_pred = cross_val_predict(model, features_train, target_train, cv=3)\n",
        "    mape = mean_absolute_percentage_error(target_train, target_train_pred) * 100\n",
        "\n",
        "    return mape\n",
        "\n",
        "study = optuna.create_study(direction='minimize')\n",
        "study.optimize(objective, n_trials=50)\n",
        "\n",
        "# Получение наилучших параметров\n",
        "best_params_rf = study.best_trial.params\n",
        "\n",
        "# Создание и обучение лучшей модели\n",
        "best_model_rf = RandomForestRegressor(\n",
        "    n_estimators=best_params_rf['n_estimators'],\n",
        "    max_depth=best_params_rf['max_depth'],\n",
        "    min_samples_split=best_params_rf['min_samples_split'],\n",
        "    min_samples_leaf=best_params_rf['min_samples_leaf'],\n",
        "    random_state=327\n",
        ")\n",
        "best_model_rf.fit(features_train, target_train)\n",
        "\n",
        "# Оценка качества модели на тренировочных данных\n",
        "target_train_pred = best_model_rf.predict(features_train)\n",
        "mape = mean_absolute_percentage_error(target_train, target_train_pred)"
      ]
    },
    {
      "cell_type": "markdown",
      "metadata": {},
      "source": [
        "Выводим на экран лучший показатель метрики и параметры при котором он был получен."
      ]
    },
    {
      "cell_type": "code",
      "execution_count": 73,
      "metadata": {},
      "outputs": [
        {
          "name": "stdout",
          "output_type": "stream",
          "text": [
            "Параметры лучшей модели: {'n_estimators': 69, 'max_depth': 6, 'min_samples_split': 0.150166132345488, 'min_samples_leaf': 0.10470396754789107}\n",
            "Лучший показатель метрики МАРЕ: 70.16553497433058\n"
          ]
        }
      ],
      "source": [
        "print('Параметры лучшей модели:', best_params_rf)\n",
        "print('Лучший показатель метрики МАРЕ:',study.best_trial.value)"
      ]
    },
    {
      "cell_type": "markdown",
      "metadata": {},
      "source": [
        "Второй нашей моделью будет LihgtGBM. Также создаем функцию, задаем параметры и запускаем обучение."
      ]
    },
    {
      "cell_type": "code",
      "execution_count": 74,
      "metadata": {
        "id": "FGlywk73zvWn"
      },
      "outputs": [
        {
          "name": "stderr",
          "output_type": "stream",
          "text": [
            "[I 2023-09-02 20:35:45,462] A new study created in memory with name: no-name-bd8ff728-f299-4eff-9f0c-36741996fbce\n",
            "[I 2023-09-02 20:35:49,742] Trial 0 finished with value: 36.80636069303957 and parameters: {'n_estimators': 71, 'learning_rate': 0.12924382807419518, 'max_depth': 3, 'colsample_bytree': 0.5453473736782485, 'subsample': 0.9434226598070349}. Best is trial 0 with value: 36.80636069303957.\n",
            "[I 2023-09-02 20:35:53,278] Trial 1 finished with value: 117.86234570735647 and parameters: {'n_estimators': 64, 'learning_rate': 0.01124263989314854, 'max_depth': 2, 'colsample_bytree': 0.6941175367699632, 'subsample': 0.4015628965066881}. Best is trial 0 with value: 36.80636069303957.\n",
            "[I 2023-09-02 20:36:00,558] Trial 2 finished with value: 67.27528407531275 and parameters: {'n_estimators': 80, 'learning_rate': 0.02006961475031396, 'max_depth': 15, 'colsample_bytree': 0.9504147108903717, 'subsample': 0.16304064695728998}. Best is trial 0 with value: 36.80636069303957.\n",
            "[I 2023-09-02 20:36:07,236] Trial 3 finished with value: 39.978976827714696 and parameters: {'n_estimators': 93, 'learning_rate': 0.036428361950160755, 'max_depth': 12, 'colsample_bytree': 0.5900572661243912, 'subsample': 0.46405314645335904}. Best is trial 0 with value: 36.80636069303957.\n",
            "[I 2023-09-02 20:36:09,953] Trial 4 finished with value: 108.26098378764782 and parameters: {'n_estimators': 20, 'learning_rate': 0.04416034922271719, 'max_depth': 16, 'colsample_bytree': 0.3399852278734005, 'subsample': 0.7079398167598522}. Best is trial 0 with value: 36.80636069303957.\n",
            "[I 2023-09-02 20:36:15,065] Trial 5 finished with value: 75.36268045796373 and parameters: {'n_estimators': 64, 'learning_rate': 0.02167234970828254, 'max_depth': 16, 'colsample_bytree': 0.6202635123985827, 'subsample': 0.20012371177335642}. Best is trial 0 with value: 36.80636069303957.\n",
            "[I 2023-09-02 20:36:18,835] Trial 6 finished with value: 69.68889434491334 and parameters: {'n_estimators': 50, 'learning_rate': 0.03531173513045188, 'max_depth': 3, 'colsample_bytree': 0.9298506103873008, 'subsample': 0.5132313922722994}. Best is trial 0 with value: 36.80636069303957.\n",
            "[I 2023-09-02 20:36:22,631] Trial 7 finished with value: 134.85179174556058 and parameters: {'n_estimators': 33, 'learning_rate': 0.011116250668710664, 'max_depth': 15, 'colsample_bytree': 0.9548295089574195, 'subsample': 0.2642030993479182}. Best is trial 0 with value: 36.80636069303957.\n",
            "[I 2023-09-02 20:36:26,377] Trial 8 finished with value: 35.25573494379026 and parameters: {'n_estimators': 36, 'learning_rate': 0.11326900782595993, 'max_depth': 8, 'colsample_bytree': 0.9471336300050769, 'subsample': 0.12406691661895464}. Best is trial 8 with value: 35.25573494379026.\n",
            "[I 2023-09-02 20:36:34,023] Trial 9 finished with value: 30.696103163427836 and parameters: {'n_estimators': 93, 'learning_rate': 0.05700920566497605, 'max_depth': 13, 'colsample_bytree': 0.8251918167054515, 'subsample': 0.18241146034129122}. Best is trial 9 with value: 30.696103163427836.\n",
            "[I 2023-09-02 20:36:39,100] Trial 10 finished with value: 48.446120066466726 and parameters: {'n_estimators': 100, 'learning_rate': 0.29773040809204726, 'max_depth': 9, 'colsample_bytree': 0.10561063026469936, 'subsample': 0.36102214101776475}. Best is trial 9 with value: 30.696103163427836.\n",
            "[I 2023-09-02 20:36:43,339] Trial 11 finished with value: 35.29860791614725 and parameters: {'n_estimators': 43, 'learning_rate': 0.09553420831250028, 'max_depth': 8, 'colsample_bytree': 0.8001346981327976, 'subsample': 0.1262624449924692}. Best is trial 9 with value: 30.696103163427836.\n",
            "[I 2023-09-02 20:36:46,107] Trial 12 finished with value: 65.57617034723563 and parameters: {'n_estimators': 20, 'learning_rate': 0.07890917460893668, 'max_depth': 6, 'colsample_bytree': 0.8233478474879217, 'subsample': 0.10874239241096774}. Best is trial 9 with value: 30.696103163427836.\n",
            "[I 2023-09-02 20:36:49,969] Trial 13 finished with value: 49.49907970489052 and parameters: {'n_estimators': 36, 'learning_rate': 0.06721028624539045, 'max_depth': 12, 'colsample_bytree': 0.9940110794045935, 'subsample': 0.298219218656637}. Best is trial 9 with value: 30.696103163427836.\n",
            "[I 2023-09-02 20:36:52,234] Trial 14 finished with value: 67.23459930195132 and parameters: {'n_estimators': 11, 'learning_rate': 0.13819646397549062, 'max_depth': 12, 'colsample_bytree': 0.8302064639473763, 'subsample': 0.27254851914191724}. Best is trial 9 with value: 30.696103163427836.\n",
            "[I 2023-09-02 20:36:58,915] Trial 15 finished with value: 34.03919920404622 and parameters: {'n_estimators': 84, 'learning_rate': 0.05543692666225782, 'max_depth': 6, 'colsample_bytree': 0.7654654771214806, 'subsample': 0.10500169201894906}. Best is trial 9 with value: 30.696103163427836.\n",
            "[I 2023-09-02 20:37:05,064] Trial 16 finished with value: 34.681150023933775 and parameters: {'n_estimators': 82, 'learning_rate': 0.054137034474359046, 'max_depth': 6, 'colsample_bytree': 0.7262913479727959, 'subsample': 0.24372825974192175}. Best is trial 9 with value: 30.696103163427836.\n",
            "[I 2023-09-02 20:37:11,385] Trial 17 finished with value: 32.07415085839724 and parameters: {'n_estimators': 89, 'learning_rate': 0.06146796903084168, 'max_depth': 5, 'colsample_bytree': 0.487466648698862, 'subsample': 0.3608569041815448}. Best is trial 9 with value: 30.696103163427836.\n",
            "[I 2023-09-02 20:37:18,603] Trial 18 finished with value: 26.524368875677133 and parameters: {'n_estimators': 100, 'learning_rate': 0.07549977022189534, 'max_depth': 13, 'colsample_bytree': 0.5175897405324353, 'subsample': 0.3687480605102307}. Best is trial 18 with value: 26.524368875677133.\n",
            "[I 2023-09-02 20:37:24,959] Trial 19 finished with value: 22.47809196133436 and parameters: {'n_estimators': 100, 'learning_rate': 0.18978562552493977, 'max_depth': 13, 'colsample_bytree': 0.4288704033938186, 'subsample': 0.6104914934769137}. Best is trial 19 with value: 22.47809196133436.\n",
            "[I 2023-09-02 20:37:30,310] Trial 20 finished with value: 23.68921534612856 and parameters: {'n_estimators': 73, 'learning_rate': 0.1860078073299621, 'max_depth': 10, 'colsample_bytree': 0.4272666489105117, 'subsample': 0.6256752827078927}. Best is trial 19 with value: 22.47809196133436.\n",
            "[I 2023-09-02 20:37:35,538] Trial 21 finished with value: 23.796751473471925 and parameters: {'n_estimators': 73, 'learning_rate': 0.17946772008611905, 'max_depth': 11, 'colsample_bytree': 0.4078328098147252, 'subsample': 0.6186136518644064}. Best is trial 19 with value: 22.47809196133436.\n",
            "[I 2023-09-02 20:37:40,451] Trial 22 finished with value: 23.71088616337406 and parameters: {'n_estimators': 75, 'learning_rate': 0.19449978886069386, 'max_depth': 10, 'colsample_bytree': 0.39964578209022017, 'subsample': 0.6324079444917455}. Best is trial 19 with value: 22.47809196133436.\n",
            "[I 2023-09-02 20:37:44,530] Trial 23 finished with value: 27.743618738915 and parameters: {'n_estimators': 59, 'learning_rate': 0.20782337818023858, 'max_depth': 10, 'colsample_bytree': 0.33477363332380755, 'subsample': 0.619059368740051}. Best is trial 19 with value: 22.47809196133436.\n",
            "[I 2023-09-02 20:37:49,682] Trial 24 finished with value: 23.341827109267495 and parameters: {'n_estimators': 73, 'learning_rate': 0.2742708296329823, 'max_depth': 10, 'colsample_bytree': 0.426428181235732, 'subsample': 0.7258470958326356}. Best is trial 19 with value: 22.47809196133436.\n",
            "[I 2023-09-02 20:37:53,850] Trial 25 finished with value: 24.11100997779107 and parameters: {'n_estimators': 53, 'learning_rate': 0.29522406089504816, 'max_depth': 14, 'colsample_bytree': 0.45702380405440113, 'subsample': 0.765122591618321}. Best is trial 19 with value: 22.47809196133436.\n",
            "[I 2023-09-02 20:37:58,183] Trial 26 finished with value: 27.90912828659967 and parameters: {'n_estimators': 67, 'learning_rate': 0.17086264812306365, 'max_depth': 10, 'colsample_bytree': 0.28999861850218545, 'subsample': 0.7917288531298494}. Best is trial 19 with value: 22.47809196133436.\n",
            "[I 2023-09-02 20:38:04,070] Trial 27 finished with value: 23.246847935216245 and parameters: {'n_estimators': 79, 'learning_rate': 0.23347548504056792, 'max_depth': 8, 'colsample_bytree': 0.4481489978467836, 'subsample': 0.5499547860251907}. Best is trial 19 with value: 22.47809196133436.\n",
            "[I 2023-09-02 20:38:10,153] Trial 28 finished with value: 22.297452753557796 and parameters: {'n_estimators': 87, 'learning_rate': 0.24103905326004085, 'max_depth': 9, 'colsample_bytree': 0.5793897223672608, 'subsample': 0.5062667531345428}. Best is trial 28 with value: 22.297452753557796.\n",
            "[I 2023-09-02 20:38:16,567] Trial 29 finished with value: 24.38957362326052 and parameters: {'n_estimators': 89, 'learning_rate': 0.12941635102288607, 'max_depth': 8, 'colsample_bytree': 0.5517291585535262, 'subsample': 0.530167716396007}. Best is trial 28 with value: 22.297452753557796.\n",
            "[I 2023-09-02 20:38:22,628] Trial 30 finished with value: 22.322281619367978 and parameters: {'n_estimators': 95, 'learning_rate': 0.24038809360821117, 'max_depth': 7, 'colsample_bytree': 0.6259733980340811, 'subsample': 0.462224713908794}. Best is trial 28 with value: 22.297452753557796.\n",
            "[I 2023-09-02 20:38:28,420] Trial 31 finished with value: 22.66445334368921 and parameters: {'n_estimators': 93, 'learning_rate': 0.23245648890232085, 'max_depth': 7, 'colsample_bytree': 0.65343594118383, 'subsample': 0.45229772377045074}. Best is trial 28 with value: 22.297452753557796.\n",
            "[I 2023-09-02 20:38:34,985] Trial 32 finished with value: 22.327755691531763 and parameters: {'n_estimators': 95, 'learning_rate': 0.2435469370312157, 'max_depth': 7, 'colsample_bytree': 0.639398697584084, 'subsample': 0.43454100835967663}. Best is trial 28 with value: 22.297452753557796.\n",
            "[I 2023-09-02 20:38:41,609] Trial 33 finished with value: 28.96867234885291 and parameters: {'n_estimators': 100, 'learning_rate': 0.1569481887198481, 'max_depth': 4, 'colsample_bytree': 0.6589500321317563, 'subsample': 0.4391158975583909}. Best is trial 28 with value: 22.297452753557796.\n",
            "[I 2023-09-02 20:38:47,702] Trial 34 finished with value: 23.281443717408003 and parameters: {'n_estimators': 87, 'learning_rate': 0.22841109343811597, 'max_depth': 7, 'colsample_bytree': 0.5716450414406463, 'subsample': 0.4932085074782792}. Best is trial 28 with value: 22.297452753557796.\n",
            "[I 2023-09-02 20:38:53,790] Trial 35 finished with value: 22.858814400970523 and parameters: {'n_estimators': 95, 'learning_rate': 0.15950891282587285, 'max_depth': 9, 'colsample_bytree': 0.610046168697528, 'subsample': 0.41127834662304874}. Best is trial 28 with value: 22.297452753557796.\n",
            "[I 2023-09-02 20:39:00,336] Trial 36 finished with value: 24.097217985295096 and parameters: {'n_estimators': 95, 'learning_rate': 0.25170391097417505, 'max_depth': 5, 'colsample_bytree': 0.5438413955691923, 'subsample': 0.4872582309030193}. Best is trial 28 with value: 22.297452753557796.\n",
            "[I 2023-09-02 20:39:06,038] Trial 37 finished with value: 23.269742442412383 and parameters: {'n_estimators': 78, 'learning_rate': 0.21434465030007688, 'max_depth': 7, 'colsample_bytree': 0.6904225972099993, 'subsample': 0.5410471268970092}. Best is trial 28 with value: 22.297452753557796.\n",
            "[I 2023-09-02 20:39:09,540] Trial 38 finished with value: 41.425244231068696 and parameters: {'n_estimators': 85, 'learning_rate': 0.1436383613334588, 'max_depth': 2, 'colsample_bytree': 0.6099160642022976, 'subsample': 0.4442126220371293}. Best is trial 28 with value: 22.297452753557796.\n",
            "[I 2023-09-02 20:39:15,598] Trial 39 finished with value: 24.587357158912614 and parameters: {'n_estimators': 90, 'learning_rate': 0.11489725713631944, 'max_depth': 11, 'colsample_bytree': 0.5245839236552774, 'subsample': 0.4908101966768234}. Best is trial 28 with value: 22.297452753557796.\n",
            "[I 2023-09-02 20:39:21,695] Trial 40 finished with value: 23.84048911029285 and parameters: {'n_estimators': 97, 'learning_rate': 0.253041571662571, 'max_depth': 5, 'colsample_bytree': 0.6433287780680977, 'subsample': 0.4039856149997435}. Best is trial 28 with value: 22.297452753557796.\n",
            "[I 2023-09-02 20:39:28,468] Trial 41 finished with value: 22.580939560057466 and parameters: {'n_estimators': 92, 'learning_rate': 0.2213748718318093, 'max_depth': 7, 'colsample_bytree': 0.6702187345748855, 'subsample': 0.46047773727619257}. Best is trial 28 with value: 22.297452753557796.\n",
            "[I 2023-09-02 20:39:34,614] Trial 42 finished with value: 22.455861301397665 and parameters: {'n_estimators': 92, 'learning_rate': 0.18849753743307132, 'max_depth': 9, 'colsample_bytree': 0.5822443459694174, 'subsample': 0.5796186679296729}. Best is trial 28 with value: 22.297452753557796.\n",
            "[I 2023-09-02 20:39:40,497] Trial 43 finished with value: 23.030463706357374 and parameters: {'n_estimators': 85, 'learning_rate': 0.18361973667564238, 'max_depth': 9, 'colsample_bytree': 0.5812214612381016, 'subsample': 0.571467237828198}. Best is trial 28 with value: 22.297452753557796.\n",
            "[I 2023-09-02 20:39:46,389] Trial 44 finished with value: 21.97798652747078 and parameters: {'n_estimators': 97, 'learning_rate': 0.28403581679602646, 'max_depth': 9, 'colsample_bytree': 0.6080846451030975, 'subsample': 0.5816917749198518}. Best is trial 44 with value: 21.97798652747078.\n",
            "[I 2023-09-02 20:39:51,151] Trial 45 finished with value: 23.1458095630773 and parameters: {'n_estimators': 68, 'learning_rate': 0.2938749549462233, 'max_depth': 9, 'colsample_bytree': 0.6149966578890989, 'subsample': 0.5701249783268922}. Best is trial 44 with value: 21.97798652747078.\n",
            "[I 2023-09-02 20:39:56,659] Trial 46 finished with value: 22.60194639317915 and parameters: {'n_estimators': 80, 'learning_rate': 0.253857099313412, 'max_depth': 8, 'colsample_bytree': 0.7147005170080729, 'subsample': 0.4976380112311821}. Best is trial 44 with value: 21.97798652747078.\n",
            "[I 2023-09-02 20:40:03,910] Trial 47 finished with value: 21.828642413669925 and parameters: {'n_estimators': 96, 'learning_rate': 0.29966814883385035, 'max_depth': 11, 'colsample_bytree': 0.5897675488091544, 'subsample': 0.577138863560783}. Best is trial 47 with value: 21.828642413669925.\n",
            "[I 2023-09-02 20:40:10,281] Trial 48 finished with value: 21.906040530456426 and parameters: {'n_estimators': 96, 'learning_rate': 0.2751266708869971, 'max_depth': 11, 'colsample_bytree': 0.6341046287632776, 'subsample': 0.5188813664272021}. Best is trial 47 with value: 21.828642413669925.\n",
            "[I 2023-09-02 20:40:15,983] Trial 49 finished with value: 21.84289342249848 and parameters: {'n_estimators': 87, 'learning_rate': 0.29510764861278266, 'max_depth': 11, 'colsample_bytree': 0.7035959613938136, 'subsample': 0.515604685130723}. Best is trial 47 with value: 21.828642413669925.\n",
            "[I 2023-09-02 20:40:21,860] Trial 50 finished with value: 21.67025462010244 and parameters: {'n_estimators': 87, 'learning_rate': 0.29716125805648336, 'max_depth': 11, 'colsample_bytree': 0.7448770537929974, 'subsample': 0.5277988577631105}. Best is trial 50 with value: 21.67025462010244.\n",
            "[I 2023-09-02 20:40:27,482] Trial 51 finished with value: 22.019713184969863 and parameters: {'n_estimators': 88, 'learning_rate': 0.2941303737904375, 'max_depth': 11, 'colsample_bytree': 0.7423357189635064, 'subsample': 0.6597143763572192}. Best is trial 50 with value: 21.67025462010244.\n",
            "[I 2023-09-02 20:40:32,870] Trial 52 finished with value: 22.11431892156636 and parameters: {'n_estimators': 82, 'learning_rate': 0.29936040431350547, 'max_depth': 11, 'colsample_bytree': 0.7015952962368506, 'subsample': 0.659573715896422}. Best is trial 50 with value: 21.67025462010244.\n",
            "[I 2023-09-02 20:40:38,426] Trial 53 finished with value: 21.569169900397164 and parameters: {'n_estimators': 89, 'learning_rate': 0.2737022797864551, 'max_depth': 12, 'colsample_bytree': 0.7641782272758291, 'subsample': 0.6752503753782251}. Best is trial 53 with value: 21.569169900397164.\n",
            "[I 2023-09-02 20:40:44,754] Trial 54 finished with value: 22.048199002646157 and parameters: {'n_estimators': 97, 'learning_rate': 0.21197420620992005, 'max_depth': 12, 'colsample_bytree': 0.7828173925111042, 'subsample': 0.5299800824229877}. Best is trial 53 with value: 21.569169900397164.\n",
            "[I 2023-09-02 20:40:50,785] Trial 55 finished with value: 21.919127504048387 and parameters: {'n_estimators': 83, 'learning_rate': 0.2679028925966897, 'max_depth': 13, 'colsample_bytree': 0.7314893097146627, 'subsample': 0.5836571197226953}. Best is trial 53 with value: 21.569169900397164.\n",
            "[I 2023-09-02 20:40:55,470] Trial 56 finished with value: 23.10430081941049 and parameters: {'n_estimators': 60, 'learning_rate': 0.2685204391210499, 'max_depth': 14, 'colsample_bytree': 0.7481729021224358, 'subsample': 0.531001765076709}. Best is trial 53 with value: 21.569169900397164.\n",
            "[I 2023-09-02 20:41:00,998] Trial 57 finished with value: 22.812639429671822 and parameters: {'n_estimators': 76, 'learning_rate': 0.20679309121212994, 'max_depth': 14, 'colsample_bytree': 0.8707740257606986, 'subsample': 0.5928486872724023}. Best is trial 53 with value: 21.569169900397164.\n",
            "[I 2023-09-02 20:41:06,641] Trial 58 finished with value: 23.01931772616165 and parameters: {'n_estimators': 82, 'learning_rate': 0.16081968541377506, 'max_depth': 13, 'colsample_bytree': 0.766243241949116, 'subsample': 0.66515460034995}. Best is trial 53 with value: 21.569169900397164.\n",
            "[I 2023-09-02 20:41:12,796] Trial 59 finished with value: 21.928734919849564 and parameters: {'n_estimators': 91, 'learning_rate': 0.25445751862683097, 'max_depth': 12, 'colsample_bytree': 0.6868305755290691, 'subsample': 0.5618453735666725}. Best is trial 53 with value: 21.569169900397164.\n",
            "[I 2023-09-02 20:41:18,721] Trial 60 finished with value: 22.34536673845772 and parameters: {'n_estimators': 84, 'learning_rate': 0.20579938120742491, 'max_depth': 15, 'colsample_bytree': 0.7352069582510963, 'subsample': 0.5163003413739142}. Best is trial 53 with value: 21.569169900397164.\n",
            "[I 2023-09-02 20:41:24,694] Trial 61 finished with value: 21.645127827227288 and parameters: {'n_estimators': 91, 'learning_rate': 0.26833958629860666, 'max_depth': 12, 'colsample_bytree': 0.6851575048622934, 'subsample': 0.556779159391472}. Best is trial 53 with value: 21.569169900397164.\n",
            "[I 2023-09-02 20:41:29,355] Trial 62 finished with value: 24.477262708243593 and parameters: {'n_estimators': 45, 'learning_rate': 0.26168186302062507, 'max_depth': 12, 'colsample_bytree': 0.7230002493190625, 'subsample': 0.6003618535569237}. Best is trial 53 with value: 21.569169900397164.\n",
            "[I 2023-09-02 20:41:35,650] Trial 63 finished with value: 21.971319026407308 and parameters: {'n_estimators': 87, 'learning_rate': 0.27079180852001405, 'max_depth': 11, 'colsample_bytree': 0.6858618950289576, 'subsample': 0.5528354358820279}. Best is trial 53 with value: 21.569169900397164.\n",
            "[I 2023-09-02 20:41:42,540] Trial 64 finished with value: 21.785855859059065 and parameters: {'n_estimators': 90, 'learning_rate': 0.22040428637639303, 'max_depth': 13, 'colsample_bytree': 0.7993259497620038, 'subsample': 0.6411807613280398}. Best is trial 53 with value: 21.569169900397164.\n",
            "[I 2023-09-02 20:41:49,129] Trial 65 finished with value: 21.94316940854502 and parameters: {'n_estimators': 91, 'learning_rate': 0.2239712610510851, 'max_depth': 12, 'colsample_bytree': 0.8105414028202726, 'subsample': 0.6862577346035823}. Best is trial 53 with value: 21.569169900397164.\n",
            "[I 2023-09-02 20:41:52,071] Trial 66 finished with value: 31.143218292307534 and parameters: {'n_estimators': 25, 'learning_rate': 0.19692704206776726, 'max_depth': 11, 'colsample_bytree': 0.7900736529350232, 'subsample': 0.6275214480250777}. Best is trial 53 with value: 21.569169900397164.\n",
            "[I 2023-09-02 20:41:57,597] Trial 67 finished with value: 21.72228181357142 and parameters: {'n_estimators': 77, 'learning_rate': 0.29540955988999135, 'max_depth': 13, 'colsample_bytree': 0.8452682781072046, 'subsample': 0.7142523791927428}. Best is trial 53 with value: 21.569169900397164.\n",
            "[I 2023-09-02 20:42:03,487] Trial 68 finished with value: 23.137367815384415 and parameters: {'n_estimators': 77, 'learning_rate': 0.1715002669729509, 'max_depth': 14, 'colsample_bytree': 0.8484515471197974, 'subsample': 0.722223445847048}. Best is trial 53 with value: 21.569169900397164.\n",
            "[I 2023-09-02 20:42:09,614] Trial 69 finished with value: 22.017998151590835 and parameters: {'n_estimators': 87, 'learning_rate': 0.2216312810210017, 'max_depth': 13, 'colsample_bytree': 0.8974246726705767, 'subsample': 0.6952100968151499}. Best is trial 53 with value: 21.569169900397164.\n",
            "[I 2023-09-02 20:42:15,632] Trial 70 finished with value: 23.16481227652597 and parameters: {'n_estimators': 70, 'learning_rate': 0.20193079014350468, 'max_depth': 15, 'colsample_bytree': 0.8172573934325993, 'subsample': 0.7460261747578181}. Best is trial 53 with value: 21.569169900397164.\n",
            "[I 2023-09-02 20:42:22,165] Trial 71 finished with value: 21.14410623343759 and parameters: {'n_estimators': 98, 'learning_rate': 0.29792923331524507, 'max_depth': 12, 'colsample_bytree': 0.7713671646048853, 'subsample': 0.6478051636778427}. Best is trial 71 with value: 21.14410623343759.\n",
            "[I 2023-09-02 20:42:28,548] Trial 72 finished with value: 21.211223418419394 and parameters: {'n_estimators': 99, 'learning_rate': 0.28970577156477434, 'max_depth': 12, 'colsample_bytree': 0.7711880838962166, 'subsample': 0.629988169140587}. Best is trial 71 with value: 21.14410623343759.\n",
            "[I 2023-09-02 20:42:35,107] Trial 73 finished with value: 21.18216105805477 and parameters: {'n_estimators': 99, 'learning_rate': 0.29843233552343656, 'max_depth': 13, 'colsample_bytree': 0.7745403945225783, 'subsample': 0.6457905011865887}. Best is trial 71 with value: 21.14410623343759.\n",
            "[I 2023-09-02 20:42:41,623] Trial 74 finished with value: 21.530297019073227 and parameters: {'n_estimators': 100, 'learning_rate': 0.23662839572375205, 'max_depth': 13, 'colsample_bytree': 0.7761762606488306, 'subsample': 0.6560052142729784}. Best is trial 71 with value: 21.14410623343759.\n",
            "[I 2023-09-02 20:42:48,065] Trial 75 finished with value: 21.402058688660453 and parameters: {'n_estimators': 100, 'learning_rate': 0.2411500137798228, 'max_depth': 14, 'colsample_bytree': 0.7614248422759669, 'subsample': 0.6934751236428375}. Best is trial 71 with value: 21.14410623343759.\n",
            "[I 2023-09-02 20:42:54,744] Trial 76 finished with value: 21.233229189404028 and parameters: {'n_estimators': 100, 'learning_rate': 0.24148074911723674, 'max_depth': 14, 'colsample_bytree': 0.7606864513346148, 'subsample': 0.6168508307421089}. Best is trial 71 with value: 21.14410623343759.\n",
            "[I 2023-09-02 20:43:01,347] Trial 77 finished with value: 21.463702521145205 and parameters: {'n_estimators': 100, 'learning_rate': 0.2399912091853274, 'max_depth': 16, 'colsample_bytree': 0.7770563854705703, 'subsample': 0.67888510669961}. Best is trial 71 with value: 21.14410623343759.\n",
            "[I 2023-09-02 20:43:08,129] Trial 78 finished with value: 21.39652403273637 and parameters: {'n_estimators': 100, 'learning_rate': 0.2403816737245907, 'max_depth': 16, 'colsample_bytree': 0.7765608516294832, 'subsample': 0.6840231732091419}. Best is trial 71 with value: 21.14410623343759.\n",
            "[I 2023-09-02 20:43:14,705] Trial 79 finished with value: 21.54185633438775 and parameters: {'n_estimators': 100, 'learning_rate': 0.2353975445205582, 'max_depth': 16, 'colsample_bytree': 0.7813016180369872, 'subsample': 0.6999119696145681}. Best is trial 71 with value: 21.14410623343759.\n",
            "[I 2023-09-02 20:43:21,616] Trial 80 finished with value: 21.80164560725651 and parameters: {'n_estimators': 99, 'learning_rate': 0.18420997579511988, 'max_depth': 16, 'colsample_bytree': 0.8067505175929747, 'subsample': 0.64412045353346}. Best is trial 71 with value: 21.14410623343759.\n",
            "[I 2023-09-02 20:43:28,312] Trial 81 finished with value: 21.5629802630435 and parameters: {'n_estimators': 100, 'learning_rate': 0.23535753922428043, 'max_depth': 16, 'colsample_bytree': 0.7717112913086233, 'subsample': 0.6891023399154448}. Best is trial 71 with value: 21.14410623343759.\n",
            "[I 2023-09-02 20:43:34,735] Trial 82 finished with value: 21.682733494687056 and parameters: {'n_estimators': 98, 'learning_rate': 0.23991512187794053, 'max_depth': 16, 'colsample_bytree': 0.7769387993283166, 'subsample': 0.7114102485888778}. Best is trial 71 with value: 21.14410623343759.\n",
            "[I 2023-09-02 20:43:41,328] Trial 83 finished with value: 21.197631264564162 and parameters: {'n_estimators': 100, 'learning_rate': 0.24303448463826707, 'max_depth': 15, 'colsample_bytree': 0.831227379221075, 'subsample': 0.6166300227086667}. Best is trial 71 with value: 21.14410623343759.\n",
            "[I 2023-09-02 20:43:47,980] Trial 84 finished with value: 22.19261058397691 and parameters: {'n_estimators': 94, 'learning_rate': 0.19994764992432995, 'max_depth': 15, 'colsample_bytree': 0.83483720106784, 'subsample': 0.645748141590705}. Best is trial 71 with value: 21.14410623343759.\n",
            "[I 2023-09-02 20:43:54,698] Trial 85 finished with value: 21.30467363065715 and parameters: {'n_estimators': 98, 'learning_rate': 0.25082510468890956, 'max_depth': 14, 'colsample_bytree': 0.8605858065027585, 'subsample': 0.6130500684157448}. Best is trial 71 with value: 21.14410623343759.\n",
            "[I 2023-09-02 20:44:01,399] Trial 86 finished with value: 22.230838378920993 and parameters: {'n_estimators': 94, 'learning_rate': 0.17467405936033154, 'max_depth': 14, 'colsample_bytree': 0.8700032659217483, 'subsample': 0.6077355215272656}. Best is trial 71 with value: 21.14410623343759.\n",
            "[I 2023-09-02 20:44:08,223] Trial 87 finished with value: 21.470294956529866 and parameters: {'n_estimators': 98, 'learning_rate': 0.24793911927039508, 'max_depth': 15, 'colsample_bytree': 0.9184040335766347, 'subsample': 0.6214459011990231}. Best is trial 71 with value: 21.14410623343759.\n",
            "[I 2023-09-02 20:44:14,836] Trial 88 finished with value: 22.888622248096134 and parameters: {'n_estimators': 94, 'learning_rate': 0.14911433043279063, 'max_depth': 15, 'colsample_bytree': 0.8248386325331287, 'subsample': 0.6076764987295107}. Best is trial 71 with value: 21.14410623343759.\n",
            "[I 2023-09-02 20:44:21,376] Trial 89 finished with value: 21.27327485449339 and parameters: {'n_estimators': 98, 'learning_rate': 0.2567620811270281, 'max_depth': 14, 'colsample_bytree': 0.8013163909039384, 'subsample': 0.6339196056985155}. Best is trial 71 with value: 21.14410623343759.\n",
            "[I 2023-09-02 20:44:28,207] Trial 90 finished with value: 22.027180708862033 and parameters: {'n_estimators': 97, 'learning_rate': 0.1931129468727563, 'max_depth': 14, 'colsample_bytree': 0.7991910214935088, 'subsample': 0.6214917252477892}. Best is trial 71 with value: 21.14410623343759.\n",
            "[I 2023-09-02 20:44:34,770] Trial 91 finished with value: 21.357408848335304 and parameters: {'n_estimators': 98, 'learning_rate': 0.25594723479780584, 'max_depth': 15, 'colsample_bytree': 0.7560731973083499, 'subsample': 0.6754480189764152}. Best is trial 71 with value: 21.14410623343759.\n",
            "[I 2023-09-02 20:44:41,587] Trial 92 finished with value: 21.597139711459384 and parameters: {'n_estimators': 98, 'learning_rate': 0.26221091664364293, 'max_depth': 14, 'colsample_bytree': 0.752950427987926, 'subsample': 0.6414727855379679}. Best is trial 71 with value: 21.14410623343759.\n",
            "[I 2023-09-02 20:44:47,819] Trial 93 finished with value: 21.875759657863668 and parameters: {'n_estimators': 94, 'learning_rate': 0.2160962132613787, 'max_depth': 15, 'colsample_bytree': 0.7149813324647838, 'subsample': 0.6724688488590989}. Best is trial 71 with value: 21.14410623343759.\n",
            "[I 2023-09-02 20:44:54,259] Trial 94 finished with value: 21.478375903363865 and parameters: {'n_estimators': 96, 'learning_rate': 0.2555349693217312, 'max_depth': 14, 'colsample_bytree': 0.817360570173679, 'subsample': 0.5972776754138847}. Best is trial 71 with value: 21.14410623343759.\n",
            "[I 2023-09-02 20:45:00,504] Trial 95 finished with value: 21.303120573925543 and parameters: {'n_estimators': 98, 'learning_rate': 0.2732818937668198, 'max_depth': 15, 'colsample_bytree': 0.8482268406204528, 'subsample': 0.7575389807635245}. Best is trial 71 with value: 21.14410623343759.\n",
            "[I 2023-09-02 20:45:06,601] Trial 96 finished with value: 21.469346537965404 and parameters: {'n_estimators': 93, 'learning_rate': 0.2744931640360586, 'max_depth': 15, 'colsample_bytree': 0.8543385135216944, 'subsample': 0.7339958819663124}. Best is trial 71 with value: 21.14410623343759.\n",
            "[I 2023-09-02 20:45:12,818] Trial 97 finished with value: 21.344876202610827 and parameters: {'n_estimators': 96, 'learning_rate': 0.2762633335656949, 'max_depth': 16, 'colsample_bytree': 0.8339686881819222, 'subsample': 0.7655924321131649}. Best is trial 71 with value: 21.14410623343759.\n",
            "[I 2023-09-02 20:45:21,172] Trial 98 finished with value: 21.298510236356094 and parameters: {'n_estimators': 96, 'learning_rate': 0.28199150319749977, 'max_depth': 15, 'colsample_bytree': 0.8440991921437829, 'subsample': 0.7951171959160083}. Best is trial 71 with value: 21.14410623343759.\n",
            "[I 2023-09-02 20:45:29,336] Trial 99 finished with value: 21.578071999325115 and parameters: {'n_estimators': 92, 'learning_rate': 0.2826060314304972, 'max_depth': 14, 'colsample_bytree': 0.8738642404151157, 'subsample': 0.792924730740553}. Best is trial 71 with value: 21.14410623343759.\n"
          ]
        },
        {
          "name": "stdout",
          "output_type": "stream",
          "text": [
            "[LightGBM] [Warning] Accuracy may be bad since you didn't explicitly set num_leaves OR 2^max_depth > num_leaves. (num_leaves=31).\n",
            "[LightGBM] [Warning] Accuracy may be bad since you didn't explicitly set num_leaves OR 2^max_depth > num_leaves. (num_leaves=31).\n",
            "[LightGBM] [Warning] Auto-choosing col-wise multi-threading, the overhead of testing was 0.059670 seconds.\n",
            "You can set `force_col_wise=true` to remove the overhead.\n",
            "[LightGBM] [Info] Total Bins 1522\n",
            "[LightGBM] [Info] Number of data points in the train set: 438762, number of used features: 13\n",
            "[LightGBM] [Info] Start training from score 13615.028391\n"
          ]
        },
        {
          "data": {
            "text/plain": [
              "LGBMRegressor(colsample_bytree=0.7713671646048853,\n",
              "              learning_rate=0.29792923331524507, max_depth=12, n_estimators=98,\n",
              "              subsample=0.6478051636778427)"
            ]
          },
          "execution_count": 74,
          "metadata": {},
          "output_type": "execute_result"
        }
      ],
      "source": [
        "def objective(trial):\n",
        "    # Параметры для оптимизации\n",
        "    params = {\n",
        "        'objective': 'regression',\n",
        "        'metric': 'mape',\n",
        "        'verbosity': -1,\n",
        "        'boosting_type': 'gbdt',\n",
        "        'n_estimators': trial.suggest_int('n_estimators', 10, 100),\n",
        "        'learning_rate': trial.suggest_float('learning_rate', 0.01, 0.3, log=True),\n",
        "        'max_depth': trial.suggest_int('max_depth', 2, 16),\n",
        "        'colsample_bytree': trial.suggest_float('colsample_bytree', 0.1, 1.0),\n",
        "        'subsample': trial.suggest_float('subsample', 0.1, 1.0),\n",
        "        'random_state': 327\n",
        "    }\n",
        "\n",
        "    # Создание и обучение модели с выбранными параметрами\n",
        "    model = lgb.LGBMRegressor(**params)\n",
        "\n",
        "    # Оценка модели с помощью кросс-валидации и метрики MAPE\n",
        "    target_train_pred = cross_val_predict(model, features_train, target_train, cv=3)\n",
        "    mape = np.mean(np.abs((target_train - target_train_pred) / target_train)) * 100\n",
        "\n",
        "    return mape\n",
        "\n",
        "study = optuna.create_study(direction='minimize')\n",
        "study.optimize(objective, n_trials=100)\n",
        "\n",
        "# Получение наилучших параметров\n",
        "best_params_lgb = study.best_trial.params\n",
        "\n",
        "# Создание и обучение лучшей модели\n",
        "best_model_lgb = lgb.LGBMRegressor(**best_params_lgb)\n",
        "best_model_lgb.fit(features_train, target_train)"
      ]
    },
    {
      "cell_type": "markdown",
      "metadata": {},
      "source": [
        "Выводим на экран лучшие результаты."
      ]
    },
    {
      "cell_type": "code",
      "execution_count": 75,
      "metadata": {},
      "outputs": [
        {
          "name": "stdout",
          "output_type": "stream",
          "text": [
            "Параметры лучшей моедли: {'n_estimators': 98, 'learning_rate': 0.29792923331524507, 'max_depth': 12, 'colsample_bytree': 0.7713671646048853, 'subsample': 0.6478051636778427}\n",
            "Лучший показатель метрики МАРЕ: 21.14410623343759\n"
          ]
        }
      ],
      "source": [
        "print('Параметры лучшей моедли:', best_params_lgb)\n",
        "print('Лучший показатель метрики МАРЕ:',study.best_trial.value)"
      ]
    },
    {
      "cell_type": "markdown",
      "metadata": {},
      "source": [
        "Вторая модель справилась с обучением значительно лучше. Обучим третью модель CatBoost. Эта модель работает и с не закодированными данными, поэтому передаем ей обучающие признаки в начальном формате."
      ]
    },
    {
      "cell_type": "code",
      "execution_count": 76,
      "metadata": {
        "id": "4Otr0Ri1FslD"
      },
      "outputs": [
        {
          "name": "stderr",
          "output_type": "stream",
          "text": [
            "[I 2023-09-02 20:45:32,648] A new study created in memory with name: no-name-d5b74180-9f9d-4373-89a6-6e5eaf96d88a\n"
          ]
        },
        {
          "name": "stderr",
          "output_type": "stream",
          "text": [
            "[I 2023-09-02 20:45:48,020] Trial 0 finished with value: 115.40885971196688 and parameters: {'n_estimators': 17, 'learning_rate': 0.03443751926981387, 'max_depth': 7, 'colsample_bylevel': 0.3120348343089851, 'subsample': 0.4297809919032941}. Best is trial 0 with value: 115.40885971196688.\n",
            "[I 2023-09-02 20:46:02,591] Trial 1 finished with value: 51.00368864463789 and parameters: {'n_estimators': 15, 'learning_rate': 0.13794602298441894, 'max_depth': 8, 'colsample_bylevel': 0.38622153190343755, 'subsample': 0.9629420681856768}. Best is trial 1 with value: 51.00368864463789.\n",
            "[I 2023-09-02 20:46:16,632] Trial 2 finished with value: 146.31025742408033 and parameters: {'n_estimators': 18, 'learning_rate': 0.013631056880691024, 'max_depth': 7, 'colsample_bylevel': 0.4411627840975092, 'subsample': 0.6589662301834771}. Best is trial 1 with value: 51.00368864463789.\n",
            "[I 2023-09-02 20:46:32,980] Trial 3 finished with value: 117.91256634744404 and parameters: {'n_estimators': 60, 'learning_rate': 0.012817180474340278, 'max_depth': 2, 'colsample_bylevel': 0.4523920455754781, 'subsample': 0.9409524479179682}. Best is trial 1 with value: 51.00368864463789.\n",
            "[I 2023-09-02 20:47:27,610] Trial 4 finished with value: 21.79526814028364 and parameters: {'n_estimators': 93, 'learning_rate': 0.1276888321986249, 'max_depth': 9, 'colsample_bylevel': 0.539744165080792, 'subsample': 0.9995552680501463}. Best is trial 4 with value: 21.79526814028364.\n",
            "[I 2023-09-02 20:49:32,264] Trial 5 finished with value: 18.84218190289248 and parameters: {'n_estimators': 38, 'learning_rate': 0.26918490532285105, 'max_depth': 15, 'colsample_bylevel': 0.7581737526389781, 'subsample': 0.7257619072281948}. Best is trial 5 with value: 18.84218190289248.\n",
            "[I 2023-09-02 20:50:54,210] Trial 6 finished with value: 27.76710340785844 and parameters: {'n_estimators': 57, 'learning_rate': 0.06292205238147973, 'max_depth': 14, 'colsample_bylevel': 0.3807467282696392, 'subsample': 0.9157207384910342}. Best is trial 5 with value: 18.84218190289248.\n",
            "[I 2023-09-02 20:51:20,151] Trial 7 finished with value: 35.61673515810812 and parameters: {'n_estimators': 10, 'learning_rate': 0.2527662810179442, 'max_depth': 15, 'colsample_bylevel': 0.441833501556283, 'subsample': 0.41257016628031784}. Best is trial 5 with value: 18.84218190289248.\n",
            "[I 2023-09-02 20:52:42,675] Trial 8 finished with value: 45.63994565412758 and parameters: {'n_estimators': 69, 'learning_rate': 0.030589768072877256, 'max_depth': 13, 'colsample_bylevel': 0.6382768579450341, 'subsample': 0.8263424409510371}. Best is trial 5 with value: 18.84218190289248.\n",
            "[I 2023-09-02 20:53:00,692] Trial 9 finished with value: 30.76036509022258 and parameters: {'n_estimators': 53, 'learning_rate': 0.2986394607467676, 'max_depth': 3, 'colsample_bylevel': 0.6031610018802778, 'subsample': 0.867411468506361}. Best is trial 5 with value: 18.84218190289248.\n",
            "[I 2023-09-02 20:53:25,152] Trial 10 finished with value: 25.70129357789449 and parameters: {'n_estimators': 37, 'learning_rate': 0.12073361140125029, 'max_depth': 11, 'colsample_bylevel': 0.8839366912696485, 'subsample': 0.25771596764660953}. Best is trial 5 with value: 18.84218190289248.\n",
            "[I 2023-09-02 20:53:54,246] Trial 11 finished with value: 23.10252993517327 and parameters: {'n_estimators': 92, 'learning_rate': 0.15974682074557012, 'max_depth': 11, 'colsample_bylevel': 0.17571766399273198, 'subsample': 0.6952453354193946}. Best is trial 5 with value: 18.84218190289248.\n",
            "[I 2023-09-02 21:02:23,789] Trial 12 finished with value: 16.920890089907072 and parameters: {'n_estimators': 100, 'learning_rate': 0.19377210672493927, 'max_depth': 16, 'colsample_bylevel': 0.7440361250896925, 'subsample': 0.7088450064194369}. Best is trial 12 with value: 16.920890089907072.\n",
            "[I 2023-09-02 21:05:41,837] Trial 13 finished with value: 18.481685886058912 and parameters: {'n_estimators': 37, 'learning_rate': 0.2895798725450588, 'max_depth': 16, 'colsample_bylevel': 0.78534332255929, 'subsample': 0.7025957541378304}. Best is trial 12 with value: 16.920890089907072.\n",
            "[I 2023-09-02 21:12:50,346] Trial 14 finished with value: 17.33069259715051 and parameters: {'n_estimators': 78, 'learning_rate': 0.19746855486888168, 'max_depth': 16, 'colsample_bylevel': 0.9399026710395239, 'subsample': 0.57419068352434}. Best is trial 12 with value: 16.920890089907072.\n",
            "[I 2023-09-02 21:14:01,911] Trial 15 finished with value: 21.41988470536199 and parameters: {'n_estimators': 78, 'learning_rate': 0.08412065262784978, 'max_depth': 12, 'colsample_bylevel': 0.9556517999351658, 'subsample': 0.5569902194459692}. Best is trial 12 with value: 16.920890089907072.\n",
            "[I 2023-09-02 21:22:07,193] Trial 16 finished with value: 17.2118779742918 and parameters: {'n_estimators': 83, 'learning_rate': 0.1864041558565474, 'max_depth': 16, 'colsample_bylevel': 0.9873363937558358, 'subsample': 0.5853363750828903}. Best is trial 12 with value: 16.920890089907072.\n",
            "[I 2023-09-02 21:24:18,652] Trial 17 finished with value: 17.73814583910358 and parameters: {'n_estimators': 99, 'learning_rate': 0.18767270140632947, 'max_depth': 13, 'colsample_bylevel': 0.8512534765792321, 'subsample': 0.7989320446049466}. Best is trial 12 with value: 16.920890089907072.\n",
            "[I 2023-09-02 21:25:07,726] Trial 18 finished with value: 22.041636360110147 and parameters: {'n_estimators': 83, 'learning_rate': 0.09339295446800426, 'max_depth': 10, 'colsample_bylevel': 0.9950047327505409, 'subsample': 0.4608661636167609}. Best is trial 12 with value: 16.920890089907072.\n",
            "[I 2023-09-02 21:33:08,689] Trial 19 finished with value: 16.98760116238118 and parameters: {'n_estimators': 100, 'learning_rate': 0.18799387803388928, 'max_depth': 16, 'colsample_bylevel': 0.7012848234670769, 'subsample': 0.623044794891998}. Best is trial 12 with value: 16.920890089907072.\n",
            "[I 2023-09-02 21:33:41,794] Trial 20 finished with value: 27.89214733687096 and parameters: {'n_estimators': 97, 'learning_rate': 0.09509869998795696, 'max_depth': 5, 'colsample_bylevel': 0.6979896831443835, 'subsample': 0.7958547652736234}. Best is trial 12 with value: 16.920890089907072.\n",
            "[I 2023-09-02 21:41:12,669] Trial 21 finished with value: 17.102337212126915 and parameters: {'n_estimators': 86, 'learning_rate': 0.19751385270244665, 'max_depth': 16, 'colsample_bylevel': 0.8071455928676804, 'subsample': 0.5931769656917297}. Best is trial 12 with value: 16.920890089907072.\n",
            "[I 2023-09-02 21:43:38,639] Trial 22 finished with value: 17.484908780885167 and parameters: {'n_estimators': 88, 'learning_rate': 0.20264475631634288, 'max_depth': 14, 'colsample_bylevel': 0.7377395752769201, 'subsample': 0.6159922728121603}. Best is trial 12 with value: 16.920890089907072.\n",
            "[I 2023-09-02 21:45:39,292] Trial 23 finished with value: 18.853514808261103 and parameters: {'n_estimators': 72, 'learning_rate': 0.13309944075511407, 'max_depth': 14, 'colsample_bylevel': 0.8219055719085989, 'subsample': 0.4966482605499058}. Best is trial 12 with value: 16.920890089907072.\n",
            "[I 2023-09-02 21:50:00,446] Trial 24 finished with value: 17.268249530774963 and parameters: {'n_estimators': 100, 'learning_rate': 0.16868482890434128, 'max_depth': 15, 'colsample_bylevel': 0.6862745646768211, 'subsample': 0.6377333252260435}. Best is trial 12 with value: 16.920890089907072.\n"
          ]
        },
        {
          "data": {
            "text/plain": [
              "<catboost.core.CatBoostRegressor at 0x1b6b44a8f40>"
            ]
          },
          "execution_count": 76,
          "metadata": {},
          "output_type": "execute_result"
        }
      ],
      "source": [
        "def objective(trial):\n",
        "    # Параметры для оптимизации\n",
        "    n_estimators = trial.suggest_int('n_estimators', 10, 100)\n",
        "    learning_rate = trial.suggest_float('learning_rate', 0.01, 0.3, log=True)\n",
        "    max_depth = trial.suggest_int('max_depth', 2, 16)\n",
        "    colsample_bylevel = trial.suggest_float('colsample_bylevel', 0.1, 1.0)\n",
        "    subsample = trial.suggest_float('subsample', 0.1, 1.0)\n",
        "\n",
        "    # Создание и обучение модели с выбранными параметрами\n",
        "    model = CatBoostRegressor(\n",
        "        n_estimators=n_estimators,\n",
        "        learning_rate=learning_rate,\n",
        "        max_depth=max_depth,\n",
        "        colsample_bylevel=colsample_bylevel,\n",
        "        subsample=subsample,\n",
        "        random_seed=327,\n",
        "        verbose=False,\n",
        "        cat_features=oe_features.tolist()\n",
        "    )\n",
        "\n",
        "    # Оценка модели с помощью кросс-валидации и метрики MAPE\n",
        "    target_train_pred = cross_val_predict(model, not_encod_features_train, target_train, cv=3)\n",
        "    mape = np.mean(np.abs((target_train - target_train_pred) / target_train)) * 100\n",
        "\n",
        "    return mape\n",
        "\n",
        "study = optuna.create_study(direction='minimize')\n",
        "study.optimize(objective, n_trials=25)\n",
        "\n",
        "# Получение наилучших параметров\n",
        "best_params_cb = study.best_trial.params\n",
        "\n",
        "# Создание и обучение лучшей модели\n",
        "best_model_cb = CatBoostRegressor(\n",
        "    n_estimators=best_params_cb['n_estimators'],\n",
        "    learning_rate=best_params_cb['learning_rate'],\n",
        "    max_depth=best_params_cb['max_depth'],\n",
        "    colsample_bylevel=best_params_cb['colsample_bylevel'],\n",
        "    subsample=best_params_cb['subsample'],\n",
        "    random_seed=42,\n",
        "    verbose=False\n",
        ")\n",
        "best_model_cb.fit(not_encod_features_train, target_train, cat_features=oe_features.tolist())"
      ]
    },
    {
      "cell_type": "markdown",
      "metadata": {},
      "source": [
        "Выводим лучшие параметры модели и метрику, полученную при обучении на тренировочной выборке."
      ]
    },
    {
      "cell_type": "code",
      "execution_count": 77,
      "metadata": {},
      "outputs": [
        {
          "name": "stdout",
          "output_type": "stream",
          "text": [
            "Параметры лучшей моедли: {'n_estimators': 100, 'learning_rate': 0.19377210672493927, 'max_depth': 16, 'colsample_bylevel': 0.7440361250896925, 'subsample': 0.7088450064194369}\n",
            "Лучший показатель метрики МАРЕ: 16.920890089907072\n"
          ]
        }
      ],
      "source": [
        "print('Параметры лучшей моедли:', best_params_cb)\n",
        "print('Лучший показатель метрики МАРЕ:',study.best_trial.value)"
      ]
    },
    {
      "cell_type": "markdown",
      "metadata": {},
      "source": [
        "Обучив три модели мы получили следующие результаты MAPE:<br>\n",
        "- RandomForest 70.17<br>\n",
        "- LightGBM 21.14<br>\n",
        "- CatBoost 16.92<br>\n",
        "В нашем случае лучше всего обучилась модель CatBoost. Посмотрим какие признаки имели наибольшую и наименьшую роль в обучении модели."
      ]
    },
    {
      "cell_type": "code",
      "execution_count": 78,
      "metadata": {},
      "outputs": [
        {
          "data": {
            "image/png": "[encoded data removed]",
            "text/plain": [
              "<Figure size 1000x600 with 1 Axes>"
            ]
          },
          "metadata": {},
          "output_type": "display_data"
        }
      ],
      "source": [
        "feature_importance = best_model_cb.feature_importances_\n",
        "\n",
        "plt.figure(figsize=(10, 6))\n",
        "plt.bar(range(len(feature_importance)), feature_importance)\n",
        "plt.xticks(range(len(feature_importance)), features_train.columns.tolist(), rotation='vertical')\n",
        "plt.xlabel('Признаки')\n",
        "plt.ylabel('Значимость')\n",
        "plt.title('Значимость признаков участвующих в обучении')\n",
        "plt.show()"
      ]
    },
    {
      "cell_type": "markdown",
      "metadata": {},
      "source": [
        "Наименьшее значение в обучении модели имеют параметры цвета автомобиля и трансмиссия. Уберем эти параметры из данных и еще раз проведем обучение  лучшей модели, посмотрим изменится ли метрика"
      ]
    },
    {
      "cell_type": "code",
      "execution_count": 79,
      "metadata": {},
      "outputs": [],
      "source": [
        "not_encod_features_train = not_encod_features_train.drop(columns = ['transmission', 'color'])\n",
        "oe_features = oe_features.drop('color')\n",
        "oe_features = oe_features.drop('transmission')"
      ]
    },
    {
      "cell_type": "code",
      "execution_count": 83,
      "metadata": {},
      "outputs": [
        {
          "name": "stderr",
          "output_type": "stream",
          "text": [
            "[I 2023-09-02 22:01:38,843] A new study created in memory with name: no-name-2a9675a0-895e-4e18-90d6-ba7625a25517\n",
            "[I 2023-09-02 22:01:54,572] Trial 0 finished with value: 64.6691945270396 and parameters: {'n_estimators': 19, 'learning_rate': 0.07402178300154524, 'max_depth': 13, 'colsample_bylevel': 0.45369946322689303, 'subsample': 0.21915514064533492}. Best is trial 0 with value: 64.6691945270396.\n",
            "[I 2023-09-02 22:02:03,976] Trial 1 finished with value: 51.62267525726525 and parameters: {'n_estimators': 69, 'learning_rate': 0.07186769889580912, 'max_depth': 11, 'colsample_bylevel': 0.10301324552249849, 'subsample': 0.7175804714497925}. Best is trial 1 with value: 51.62267525726525.\n",
            "[I 2023-09-02 22:03:31,418] Trial 2 finished with value: 53.115648619790804 and parameters: {'n_estimators': 84, 'learning_rate': 0.02280149608977241, 'max_depth': 15, 'colsample_bylevel': 0.2564808359563602, 'subsample': 0.5582267500360613}. Best is trial 1 with value: 51.62267525726525.\n",
            "[I 2023-09-02 22:04:19,585] Trial 3 finished with value: 26.63509975162074 and parameters: {'n_estimators': 93, 'learning_rate': 0.052947229083622586, 'max_depth': 10, 'colsample_bylevel': 0.3267300195234548, 'subsample': 0.7114900048205723}. Best is trial 3 with value: 26.63509975162074.\n",
            "[I 2023-09-02 22:05:02,908] Trial 4 finished with value: 36.191948291076926 and parameters: {'n_estimators': 99, 'learning_rate': 0.03196600934142352, 'max_depth': 9, 'colsample_bylevel': 0.362372246865891, 'subsample': 0.184634109674723}. Best is trial 3 with value: 26.63509975162074.\n",
            "[I 2023-09-02 22:06:02,561] Trial 5 finished with value: 90.41033031115269 and parameters: {'n_estimators': 90, 'learning_rate': 0.010500695841835056, 'max_depth': 11, 'colsample_bylevel': 0.29499091483406775, 'subsample': 0.8516375740443699}. Best is trial 3 with value: 26.63509975162074.\n",
            "[I 2023-09-02 22:06:21,765] Trial 6 finished with value: 33.57390885175055 and parameters: {'n_estimators': 62, 'learning_rate': 0.259113439433229, 'max_depth': 2, 'colsample_bylevel': 0.6613667653359816, 'subsample': 0.5076502514577952}. Best is trial 3 with value: 26.63509975162074.\n",
            "[I 2023-09-02 22:07:02,739] Trial 7 finished with value: 36.957334133275594 and parameters: {'n_estimators': 49, 'learning_rate': 0.05920373684933253, 'max_depth': 12, 'colsample_bylevel': 0.29632473833516837, 'subsample': 0.9182223301241137}. Best is trial 3 with value: 26.63509975162074.\n",
            "[I 2023-09-02 22:07:25,472] Trial 8 finished with value: 39.70588767972984 and parameters: {'n_estimators': 68, 'learning_rate': 0.05590758849330664, 'max_depth': 4, 'colsample_bylevel': 0.7607738732411358, 'subsample': 0.22799128321149154}. Best is trial 3 with value: 26.63509975162074.\n",
            "[I 2023-09-02 22:07:45,933] Trial 9 finished with value: 28.848150431224045 and parameters: {'n_estimators': 67, 'learning_rate': 0.16977904321958498, 'max_depth': 6, 'colsample_bylevel': 0.18956081068857317, 'subsample': 0.20309414363355177}. Best is trial 3 with value: 26.63509975162074.\n",
            "[I 2023-09-02 22:08:18,243] Trial 10 finished with value: 29.28281261719792 and parameters: {'n_estimators': 37, 'learning_rate': 0.11838181763087066, 'max_depth': 8, 'colsample_bylevel': 0.9788314036533234, 'subsample': 0.9576326106839246}. Best is trial 3 with value: 26.63509975162074.\n",
            "[I 2023-09-02 22:08:39,616] Trial 11 finished with value: 30.21964460987038 and parameters: {'n_estimators': 80, 'learning_rate': 0.15729475626056266, 'max_depth': 7, 'colsample_bylevel': 0.12912369107939198, 'subsample': 0.39669741808755743}. Best is trial 3 with value: 26.63509975162074.\n",
            "[I 2023-09-02 22:09:04,112] Trial 12 finished with value: 25.86878392579377 and parameters: {'n_estimators': 46, 'learning_rate': 0.27290962473069175, 'max_depth': 6, 'colsample_bylevel': 0.4635339571644745, 'subsample': 0.7173145890131001}. Best is trial 12 with value: 25.86878392579377.\n",
            "[I 2023-09-02 22:09:25,371] Trial 13 finished with value: 28.090356457993366 and parameters: {'n_estimators': 43, 'learning_rate': 0.24844135965202135, 'max_depth': 5, 'colsample_bylevel': 0.4526270585526208, 'subsample': 0.7500928711701675}. Best is trial 12 with value: 25.86878392579377.\n",
            "[I 2023-09-02 22:09:38,340] Trial 14 finished with value: 46.475996233834735 and parameters: {'n_estimators': 28, 'learning_rate': 0.11299151594821007, 'max_depth': 3, 'colsample_bylevel': 0.5490956175446583, 'subsample': 0.7385180436343908}. Best is trial 12 with value: 25.86878392579377.\n",
            "[I 2023-09-02 22:10:04,408] Trial 15 finished with value: 58.533704670499716 and parameters: {'n_estimators': 55, 'learning_rate': 0.03071955854195804, 'max_depth': 10, 'colsample_bylevel': 0.42553001278277963, 'subsample': 0.6333662435581465}. Best is trial 12 with value: 25.86878392579377.\n",
            "[I 2023-09-02 22:11:06,546] Trial 16 finished with value: 24.76901666842901 and parameters: {'n_estimators': 13, 'learning_rate': 0.2810198983858828, 'max_depth': 16, 'colsample_bylevel': 0.5470365945013612, 'subsample': 0.8412494405728843}. Best is trial 16 with value: 24.76901666842901.\n",
            "[I 2023-09-02 22:12:15,008] Trial 17 finished with value: 22.651218207624467 and parameters: {'n_estimators': 14, 'learning_rate': 0.29206813078698424, 'max_depth': 16, 'colsample_bylevel': 0.5892028389899984, 'subsample': 0.8419329138798661}. Best is trial 17 with value: 22.651218207624467.\n",
            "[I 2023-09-02 22:12:43,518] Trial 18 finished with value: 29.170061195295776 and parameters: {'n_estimators': 10, 'learning_rate': 0.29813167868873003, 'max_depth': 15, 'colsample_bylevel': 0.6218662973850924, 'subsample': 0.9965759468463014}. Best is trial 17 with value: 22.651218207624467.\n",
            "[I 2023-09-02 22:14:59,023] Trial 19 finished with value: 20.828225943768604 and parameters: {'n_estimators': 27, 'learning_rate': 0.18937904229423627, 'max_depth': 16, 'colsample_bylevel': 0.7048176892528101, 'subsample': 0.8602488497497015}. Best is trial 19 with value: 20.828225943768604.\n",
            "[I 2023-09-02 22:15:52,363] Trial 20 finished with value: 22.858715525156224 and parameters: {'n_estimators': 28, 'learning_rate': 0.1610409249403724, 'max_depth': 14, 'colsample_bylevel': 0.7725674673348413, 'subsample': 0.8597407270350462}. Best is trial 19 with value: 20.828225943768604.\n",
            "[I 2023-09-02 22:16:43,992] Trial 21 finished with value: 22.101588199077312 and parameters: {'n_estimators': 27, 'learning_rate': 0.18025942849921234, 'max_depth': 14, 'colsample_bylevel': 0.774963511472209, 'subsample': 0.8527882933189397}. Best is trial 19 with value: 20.828225943768604.\n",
            "[I 2023-09-02 22:18:47,144] Trial 22 finished with value: 21.53990086241727 and parameters: {'n_estimators': 24, 'learning_rate': 0.19471083913249607, 'max_depth': 16, 'colsample_bylevel': 0.7424164290109561, 'subsample': 0.9005178405900164}. Best is trial 19 with value: 20.828225943768604.\n",
            "[I 2023-09-02 22:19:38,134] Trial 23 finished with value: 21.185564694818083 and parameters: {'n_estimators': 28, 'learning_rate': 0.19313565617990558, 'max_depth': 14, 'colsample_bylevel': 0.7500886554777192, 'subsample': 0.9206819826369259}. Best is trial 19 with value: 20.828225943768604.\n",
            "[I 2023-09-02 22:22:42,229] Trial 24 finished with value: 21.50046415165733 and parameters: {'n_estimators': 37, 'learning_rate': 0.12712110437315938, 'max_depth': 16, 'colsample_bylevel': 0.7119603659601269, 'subsample': 0.9945830116288702}. Best is trial 19 with value: 20.828225943768604.\n"
          ]
        },
        {
          "data": {
            "text/plain": [
              "<catboost.core.CatBoostRegressor at 0x1b6b593b9d0>"
            ]
          },
          "execution_count": 83,
          "metadata": {},
          "output_type": "execute_result"
        }
      ],
      "source": [
        "def objective(trial):\n",
        "    # Параметры для оптимизации\n",
        "    n_estimators = trial.suggest_int('n_estimators', 10, 100)\n",
        "    learning_rate = trial.suggest_float('learning_rate', 0.01, 0.3, log=True)\n",
        "    max_depth = trial.suggest_int('max_depth', 2, 16)\n",
        "    colsample_bylevel = trial.suggest_float('colsample_bylevel', 0.1, 1.0)\n",
        "    subsample = trial.suggest_float('subsample', 0.1, 1.0)\n",
        "\n",
        "    # Создание и обучение модели с выбранными параметрами\n",
        "    model = CatBoostRegressor(\n",
        "        n_estimators=n_estimators,\n",
        "        learning_rate=learning_rate,\n",
        "        max_depth=max_depth,\n",
        "        colsample_bylevel=colsample_bylevel,\n",
        "        subsample=subsample,\n",
        "        random_seed=327,\n",
        "        verbose=False,\n",
        "        cat_features=oe_features.tolist()\n",
        "    )\n",
        "\n",
        "    # Оценка модели с помощью кросс-валидации и метрики MAPE\n",
        "    target_train_pred = cross_val_predict(model, not_encod_features_train, target_train, cv=3)\n",
        "    mape = np.mean(np.abs((target_train - target_train_pred) / target_train)) * 100\n",
        "\n",
        "    return mape\n",
        "\n",
        "study = optuna.create_study(direction='minimize')\n",
        "study.optimize(objective, n_trials=25)\n",
        "\n",
        "# Получение наилучших параметров\n",
        "best_params_cb_two= study.best_trial.params\n",
        "\n",
        "# Создание и обучение лучшей модели\n",
        "best_model_cb_two = CatBoostRegressor(\n",
        "    n_estimators=best_params_cb_two['n_estimators'],\n",
        "    learning_rate=best_params_cb_two['learning_rate'],\n",
        "    max_depth=best_params_cb_two['max_depth'],\n",
        "    colsample_bylevel=best_params_cb_two['colsample_bylevel'],\n",
        "    subsample=best_params_cb_two['subsample'],\n",
        "    random_seed=42,\n",
        "    verbose=False\n",
        ")\n",
        "best_model_cb_two.fit(not_encod_features_train, target_train, cat_features=oe_features.tolist())"
      ]
    },
    {
      "cell_type": "code",
      "execution_count": 84,
      "metadata": {},
      "outputs": [
        {
          "name": "stdout",
          "output_type": "stream",
          "text": [
            "Параметры лучшей моедли: <catboost.core.CatBoostRegressor object at 0x000001B6B593B9D0>\n",
            "Лучший показатель метрики МАРЕ: 20.828225943768604\n"
          ]
        }
      ],
      "source": [
        "print('Параметры лучшей моедли:', best_model_cb_two)\n",
        "print('Лучший показатель метрики МАРЕ:',study.best_trial.value)"
      ]
    },
    {
      "cell_type": "markdown",
      "metadata": {},
      "source": [
        "Показатели метрики модели, обученной без признаков оказывающих минимально влияние на обучение, оказались хуже начальной. Поэтому для предсказания для тестовых данных мы будем использовать изначальный вариант модели CatBoost с параметрами цвета автомобиля и трансмиссии."
      ]
    },
    {
      "cell_type": "code",
      "execution_count": 85,
      "metadata": {},
      "outputs": [],
      "source": [
        "test_prediction = best_model_cb.predict(features_test)"
      ]
    },
    {
      "cell_type": "markdown",
      "metadata": {},
      "source": [
        "Сохраняем полученные результаты для дальнейшей загрузки на платформу Kaggle."
      ]
    },
    {
      "cell_type": "code",
      "execution_count": 92,
      "metadata": {},
      "outputs": [],
      "source": [
        "test_prediction_df = pd.DataFrame({'saleprice':test_prediction})"
      ]
    },
    {
      "cell_type": "code",
      "execution_count": 94,
      "metadata": {},
      "outputs": [],
      "source": [
        "test_prediction_df.to_csv('predicted_values.csv', index=False)"
      ]
    },
    {
      "cell_type": "markdown",
      "metadata": {},
      "source": [
        "## Подведение итогов"
      ]
    },
    {
      "cell_type": "markdown",
      "metadata": {},
      "source": [
        "В результате нашей работы мы корректно выгрузили данные, смогли заполниить пропуски, скорректировать определенные ппараметры и убрать выбросы из данных используя различные инструменты для аналища и обработки данных. Также мы смогли обучить три модели: RandomForest, LightGBM и CatBoost, подобрав оптимальные параметры для оптимальной метрики качества обучения MAPE посретдством Optuna. Лучший результат дала модель CatBoost с метрикой равной 16.92. Далее было проведено исследование значимости признаков для обучения и выявлено два признака \"color\" и \"transmission\" которые оказывали минимальное влияние на качество обучение модели. Убрав эти признаки из набора данных мы еще раз обучили лучшую модель, но показатели метрики оказались хуже, чем при наличие признаков описанных ранее. Поэтому, было принято решение, что для предсказания цен автомобилей на вторичном рынке из тестового набора данных будет использоваться изначальная модель CatBoost.Получив предсказания мы сохранили их в отдельный файл."
      ]
    }
  ],
  "metadata": {
    "colab": {
      "provenance": []
    },
    "kernelspec": {
      "display_name": "Python 3",
      "name": "python3"
    },
    "language_info": {
      "codemirror_mode": {
        "name": "ipython",
        "version": 3
      },
      "file_extension": ".py",
      "mimetype": "text/x-python",
      "name": "python",
      "nbconvert_exporter": "python",
      "pygments_lexer": "ipython3",
      "version": "3.9.13"
    }
  },
  "nbformat": 4,
  "nbformat_minor": 0
}
